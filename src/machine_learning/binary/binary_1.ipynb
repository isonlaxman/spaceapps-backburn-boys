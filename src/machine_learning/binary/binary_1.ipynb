{
 "cells": [
  {
   "cell_type": "code",
   "execution_count": 1,
   "metadata": {},
   "outputs": [],
   "source": [
    "import numpy as np\n",
    "import pandas as pd\n",
    "import math\n",
    "import json\n",
    "import datetime\n",
    "\n",
    "from sklearn.model_selection import train_test_split\n",
    "from sklearn.linear_model import LinearRegression, LogisticRegression, ElasticNet\n",
    "from sklearn.ensemble import RandomForestRegressor, RandomForestClassifier, GradientBoostingClassifier, ExtraTreesClassifier\n",
    "from sklearn import preprocessing\n",
    "import pickle"
   ]
  },
  {
   "cell_type": "markdown",
   "metadata": {},
   "source": [
    "## Read in the data and remove bad values"
   ]
  },
  {
   "cell_type": "code",
   "execution_count": 2,
   "metadata": {},
   "outputs": [],
   "source": [
    "df = pd.read_csv('final_ML_data.csv')\n",
    "filters = (df['Windspeed'] != '#REF!') & (df['Humidity'] != '#REF!') & (df['Pressure3pm'].isnull() == False) # eliminating nonsense rows\n",
    "df = df[filters].reset_index(drop=True)\n",
    "df[\"confidence\"] = df[\"confidence\"].fillna(0)"
   ]
  },
  {
   "cell_type": "markdown",
   "metadata": {},
   "source": [
    "### Get lat long values from bounding box averaging"
   ]
  },
  {
   "cell_type": "code",
   "execution_count": 3,
   "metadata": {
    "tags": []
   },
   "outputs": [
    {
     "output_type": "execute_result",
     "data": {
      "text/plain": "       Unnamed: 0        Date Location  MinTemp  MaxTemp AvgTemp  Rainfall  \\\n0             0.0   1/01/2015   Albury     11.4     33.5   22.45       0.0   \n1             1.0   2/01/2015   Albury     15.5     39.6   27.55       0.0   \n2             2.0   3/01/2015   Albury     17.1     38.3    27.7       0.0   \n3             3.0   4/01/2015   Albury     26.0     33.1   29.55       0.0   \n4             4.0   5/01/2015   Albury     19.0     35.2    27.1       0.0   \n...           ...         ...      ...      ...      ...     ...       ...   \n36678     38528.0  26/12/2016   Hobart      9.1     17.4   11.35       0.0   \n36679     38529.0  27/12/2016   Hobart      7.4     21.2    12.9       0.0   \n36680     38530.0  28/12/2016   Hobart      0.6     16.5     9.2       0.0   \n36681     38531.0  29/12/2016   Hobart      2.6     17.7   13.25      10.4   \n36682     38532.0  30/12/2016   Hobart      3.2     19.5    14.3       4.4   \n\n      WindGustDir  WindGustSpeed WindDir9am  ... Temp3pm  acq_date  count  \\\n0             WSW           30.0        ESE  ...    32.7       NaN    NaN   \n1              NE           56.0        ESE  ...    38.2       NaN    NaN   \n2             NNE           48.0         NE  ...    37.0       NaN    NaN   \n3             NNE           41.0        ESE  ...    30.9       NaN    NaN   \n4               E           33.0        SSE  ...    32.5       NaN    NaN   \n...           ...            ...        ...  ...     ...       ...    ...   \n36678          SW           35.0          E  ...    37.3       NaN    NaN   \n36679          SW           35.0        ENE  ...    31.5       NaN    NaN   \n36680           S           41.0          N  ...    32.6       NaN    NaN   \n36681          SE           33.0        SSE  ...    33.4       NaN    NaN   \n36682           W           35.0         SE  ...    34.3       NaN    NaN   \n\n      latitude  longitude  brightness bright_t31  confidence      lat     long  \n0          NaN        NaN         NaN        NaN         0.0 -36.0805  146.916  \n1          NaN        NaN         NaN        NaN         0.0 -36.0805  146.916  \n2          NaN        NaN         NaN        NaN         0.0 -36.0805  146.916  \n3          NaN        NaN         NaN        NaN         0.0 -36.0805  146.916  \n4          NaN        NaN         NaN        NaN         0.0 -36.0805  146.916  \n...        ...        ...         ...        ...         ...      ...      ...  \n36678      NaN        NaN         NaN        NaN         0.0 -42.8823  147.329  \n36679      NaN        NaN         NaN        NaN         0.0 -42.8823  147.329  \n36680      NaN        NaN         NaN        NaN         0.0 -42.8823  147.329  \n36681      NaN        NaN         NaN        NaN         0.0 -42.8823  147.329  \n36682      NaN        NaN         NaN        NaN         0.0 -42.8823  147.329  \n\n[36683 rows x 31 columns]",
      "text/html": "<div>\n<style scoped>\n    .dataframe tbody tr th:only-of-type {\n        vertical-align: middle;\n    }\n\n    .dataframe tbody tr th {\n        vertical-align: top;\n    }\n\n    .dataframe thead th {\n        text-align: right;\n    }\n</style>\n<table border=\"1\" class=\"dataframe\">\n  <thead>\n    <tr style=\"text-align: right;\">\n      <th></th>\n      <th>Unnamed: 0</th>\n      <th>Date</th>\n      <th>Location</th>\n      <th>MinTemp</th>\n      <th>MaxTemp</th>\n      <th>AvgTemp</th>\n      <th>Rainfall</th>\n      <th>WindGustDir</th>\n      <th>WindGustSpeed</th>\n      <th>WindDir9am</th>\n      <th>...</th>\n      <th>Temp3pm</th>\n      <th>acq_date</th>\n      <th>count</th>\n      <th>latitude</th>\n      <th>longitude</th>\n      <th>brightness</th>\n      <th>bright_t31</th>\n      <th>confidence</th>\n      <th>lat</th>\n      <th>long</th>\n    </tr>\n  </thead>\n  <tbody>\n    <tr>\n      <th>0</th>\n      <td>0.0</td>\n      <td>1/01/2015</td>\n      <td>Albury</td>\n      <td>11.4</td>\n      <td>33.5</td>\n      <td>22.45</td>\n      <td>0.0</td>\n      <td>WSW</td>\n      <td>30.0</td>\n      <td>ESE</td>\n      <td>...</td>\n      <td>32.7</td>\n      <td>NaN</td>\n      <td>NaN</td>\n      <td>NaN</td>\n      <td>NaN</td>\n      <td>NaN</td>\n      <td>NaN</td>\n      <td>0.0</td>\n      <td>-36.0805</td>\n      <td>146.916</td>\n    </tr>\n    <tr>\n      <th>1</th>\n      <td>1.0</td>\n      <td>2/01/2015</td>\n      <td>Albury</td>\n      <td>15.5</td>\n      <td>39.6</td>\n      <td>27.55</td>\n      <td>0.0</td>\n      <td>NE</td>\n      <td>56.0</td>\n      <td>ESE</td>\n      <td>...</td>\n      <td>38.2</td>\n      <td>NaN</td>\n      <td>NaN</td>\n      <td>NaN</td>\n      <td>NaN</td>\n      <td>NaN</td>\n      <td>NaN</td>\n      <td>0.0</td>\n      <td>-36.0805</td>\n      <td>146.916</td>\n    </tr>\n    <tr>\n      <th>2</th>\n      <td>2.0</td>\n      <td>3/01/2015</td>\n      <td>Albury</td>\n      <td>17.1</td>\n      <td>38.3</td>\n      <td>27.7</td>\n      <td>0.0</td>\n      <td>NNE</td>\n      <td>48.0</td>\n      <td>NE</td>\n      <td>...</td>\n      <td>37.0</td>\n      <td>NaN</td>\n      <td>NaN</td>\n      <td>NaN</td>\n      <td>NaN</td>\n      <td>NaN</td>\n      <td>NaN</td>\n      <td>0.0</td>\n      <td>-36.0805</td>\n      <td>146.916</td>\n    </tr>\n    <tr>\n      <th>3</th>\n      <td>3.0</td>\n      <td>4/01/2015</td>\n      <td>Albury</td>\n      <td>26.0</td>\n      <td>33.1</td>\n      <td>29.55</td>\n      <td>0.0</td>\n      <td>NNE</td>\n      <td>41.0</td>\n      <td>ESE</td>\n      <td>...</td>\n      <td>30.9</td>\n      <td>NaN</td>\n      <td>NaN</td>\n      <td>NaN</td>\n      <td>NaN</td>\n      <td>NaN</td>\n      <td>NaN</td>\n      <td>0.0</td>\n      <td>-36.0805</td>\n      <td>146.916</td>\n    </tr>\n    <tr>\n      <th>4</th>\n      <td>4.0</td>\n      <td>5/01/2015</td>\n      <td>Albury</td>\n      <td>19.0</td>\n      <td>35.2</td>\n      <td>27.1</td>\n      <td>0.0</td>\n      <td>E</td>\n      <td>33.0</td>\n      <td>SSE</td>\n      <td>...</td>\n      <td>32.5</td>\n      <td>NaN</td>\n      <td>NaN</td>\n      <td>NaN</td>\n      <td>NaN</td>\n      <td>NaN</td>\n      <td>NaN</td>\n      <td>0.0</td>\n      <td>-36.0805</td>\n      <td>146.916</td>\n    </tr>\n    <tr>\n      <th>...</th>\n      <td>...</td>\n      <td>...</td>\n      <td>...</td>\n      <td>...</td>\n      <td>...</td>\n      <td>...</td>\n      <td>...</td>\n      <td>...</td>\n      <td>...</td>\n      <td>...</td>\n      <td>...</td>\n      <td>...</td>\n      <td>...</td>\n      <td>...</td>\n      <td>...</td>\n      <td>...</td>\n      <td>...</td>\n      <td>...</td>\n      <td>...</td>\n      <td>...</td>\n      <td>...</td>\n    </tr>\n    <tr>\n      <th>36678</th>\n      <td>38528.0</td>\n      <td>26/12/2016</td>\n      <td>Hobart</td>\n      <td>9.1</td>\n      <td>17.4</td>\n      <td>11.35</td>\n      <td>0.0</td>\n      <td>SW</td>\n      <td>35.0</td>\n      <td>E</td>\n      <td>...</td>\n      <td>37.3</td>\n      <td>NaN</td>\n      <td>NaN</td>\n      <td>NaN</td>\n      <td>NaN</td>\n      <td>NaN</td>\n      <td>NaN</td>\n      <td>0.0</td>\n      <td>-42.8823</td>\n      <td>147.329</td>\n    </tr>\n    <tr>\n      <th>36679</th>\n      <td>38529.0</td>\n      <td>27/12/2016</td>\n      <td>Hobart</td>\n      <td>7.4</td>\n      <td>21.2</td>\n      <td>12.9</td>\n      <td>0.0</td>\n      <td>SW</td>\n      <td>35.0</td>\n      <td>ENE</td>\n      <td>...</td>\n      <td>31.5</td>\n      <td>NaN</td>\n      <td>NaN</td>\n      <td>NaN</td>\n      <td>NaN</td>\n      <td>NaN</td>\n      <td>NaN</td>\n      <td>0.0</td>\n      <td>-42.8823</td>\n      <td>147.329</td>\n    </tr>\n    <tr>\n      <th>36680</th>\n      <td>38530.0</td>\n      <td>28/12/2016</td>\n      <td>Hobart</td>\n      <td>0.6</td>\n      <td>16.5</td>\n      <td>9.2</td>\n      <td>0.0</td>\n      <td>S</td>\n      <td>41.0</td>\n      <td>N</td>\n      <td>...</td>\n      <td>32.6</td>\n      <td>NaN</td>\n      <td>NaN</td>\n      <td>NaN</td>\n      <td>NaN</td>\n      <td>NaN</td>\n      <td>NaN</td>\n      <td>0.0</td>\n      <td>-42.8823</td>\n      <td>147.329</td>\n    </tr>\n    <tr>\n      <th>36681</th>\n      <td>38531.0</td>\n      <td>29/12/2016</td>\n      <td>Hobart</td>\n      <td>2.6</td>\n      <td>17.7</td>\n      <td>13.25</td>\n      <td>10.4</td>\n      <td>SE</td>\n      <td>33.0</td>\n      <td>SSE</td>\n      <td>...</td>\n      <td>33.4</td>\n      <td>NaN</td>\n      <td>NaN</td>\n      <td>NaN</td>\n      <td>NaN</td>\n      <td>NaN</td>\n      <td>NaN</td>\n      <td>0.0</td>\n      <td>-42.8823</td>\n      <td>147.329</td>\n    </tr>\n    <tr>\n      <th>36682</th>\n      <td>38532.0</td>\n      <td>30/12/2016</td>\n      <td>Hobart</td>\n      <td>3.2</td>\n      <td>19.5</td>\n      <td>14.3</td>\n      <td>4.4</td>\n      <td>W</td>\n      <td>35.0</td>\n      <td>SE</td>\n      <td>...</td>\n      <td>34.3</td>\n      <td>NaN</td>\n      <td>NaN</td>\n      <td>NaN</td>\n      <td>NaN</td>\n      <td>NaN</td>\n      <td>NaN</td>\n      <td>0.0</td>\n      <td>-42.8823</td>\n      <td>147.329</td>\n    </tr>\n  </tbody>\n</table>\n<p>36683 rows × 31 columns</p>\n</div>"
     },
     "metadata": {},
     "execution_count": 3
    }
   ],
   "source": [
    "coordinates = {}\n",
    "with open(\"../../geocoding/bounding_boxes.json\") as f:\n",
    "    coordinates = json.load(f)\n",
    "\n",
    "df[\"lat\"] = None\n",
    "df[\"long\"] = None\n",
    "\n",
    "for k, v in coordinates.items():\n",
    "    c = coordinates[k]\n",
    "    df.loc[df[\"Location\"] == k, [\"lat\",]] = np.mean([c[0], c[1]])\n",
    "    df.loc[df[\"Location\"] == k, [\"long\",]] = np.mean([c[2], c[3]])\n",
    "\n",
    "df\n"
   ]
  },
  {
   "cell_type": "markdown",
   "metadata": {},
   "source": [
    "### Sample 25% of the data cause we don't want to bias the data to only pick 0's"
   ]
  },
  {
   "cell_type": "code",
   "execution_count": 4,
   "metadata": {
    "tags": []
   },
   "outputs": [
    {
     "output_type": "execute_result",
     "data": {
      "text/plain": "       Unnamed: 0        Date       Location  MinTemp  MaxTemp AvgTemp  \\\n28564     29698.0  16/05/2017   MountGambier     10.3     33.1    16.7   \n35300     37148.0  15/08/2015        Walpole     16.2     26.4   20.25   \n3586       3720.0  15/08/2015          Moree      1.7     25.7    13.7   \n8933       9831.0   8/05/2015  SydneyAirport     12.4     16.1    16.3   \n10397     11297.0  26/11/2016     WaggaWagga      8.5     23.4    21.8   \n...           ...         ...            ...      ...      ...     ...   \n15651     16563.0  23/11/2016       Ballarat     12.3     18.4    17.5   \n14661     15573.0  29/08/2016    MountGinini      2.3     15.8    6.75   \n1823       1833.0  19/02/2015          Cobar     21.3     34.5    27.9   \n20008     20937.0   1/05/2015           Nhil      9.6     10.9     8.3   \n4248       4413.0   9/02/2015      Newcastle     18.8     29.2      24   \n\n       Rainfall WindGustDir  WindGustSpeed WindDir9am  ... Temp3pm  \\\n28564       0.0           E           56.0          E  ...    12.8   \n35300       0.0          NW           46.0        ESE  ...    17.2   \n3586        0.0         SSE           63.0        ESE  ...    18.8   \n8933        0.0         WSW           33.0        ENE  ...    21.5   \n10397       0.0          NE           50.0          W  ...    14.3   \n...         ...         ...            ...        ...  ...     ...   \n15651       0.0         SSE           24.0          W  ...    22.5   \n14661       0.0          SE           57.0        ENE  ...    31.8   \n1823        0.0         SSW           37.0          N  ...    31.7   \n20008       0.0          SE           46.0          S  ...    32.0   \n4248        0.4         WNW           35.0         SE  ...    29.7   \n\n         acq_date  count latitude  longitude  brightness bright_t31  \\\n28564         NaN    NaN      NaN        NaN         NaN        NaN   \n35300         NaN    NaN      NaN        NaN         NaN        NaN   \n3586   15/08/2015    1.0 -29.1545   149.3511       316.0      302.3   \n8933          NaN    NaN      NaN        NaN         NaN        NaN   \n10397         NaN    NaN      NaN        NaN         NaN        NaN   \n...           ...    ...      ...        ...         ...        ...   \n15651         NaN    NaN      NaN        NaN         NaN        NaN   \n14661         NaN    NaN      NaN        NaN         NaN        NaN   \n1823          NaN    NaN      NaN        NaN         NaN        NaN   \n20008         NaN    NaN      NaN        NaN         NaN        NaN   \n4248          NaN    NaN      NaN        NaN         NaN        NaN   \n\n       confidence      lat     long  \n28564         0.0 -37.8247  140.782  \n35300         0.0 -34.9777  116.731  \n3586         71.0 -29.3053  149.777  \n8933          0.0   -33.95  151.179  \n10397         0.0 -35.1859  147.355  \n...           ...      ...      ...  \n15651         0.0 -37.5623  143.861  \n14661         0.0 -35.5297  148.773  \n1823          0.0 -31.4842  145.795  \n20008         0.0  -35.471  141.306  \n4248          0.0 -32.9273  151.781  \n\n[7024 rows x 31 columns]",
      "text/html": "<div>\n<style scoped>\n    .dataframe tbody tr th:only-of-type {\n        vertical-align: middle;\n    }\n\n    .dataframe tbody tr th {\n        vertical-align: top;\n    }\n\n    .dataframe thead th {\n        text-align: right;\n    }\n</style>\n<table border=\"1\" class=\"dataframe\">\n  <thead>\n    <tr style=\"text-align: right;\">\n      <th></th>\n      <th>Unnamed: 0</th>\n      <th>Date</th>\n      <th>Location</th>\n      <th>MinTemp</th>\n      <th>MaxTemp</th>\n      <th>AvgTemp</th>\n      <th>Rainfall</th>\n      <th>WindGustDir</th>\n      <th>WindGustSpeed</th>\n      <th>WindDir9am</th>\n      <th>...</th>\n      <th>Temp3pm</th>\n      <th>acq_date</th>\n      <th>count</th>\n      <th>latitude</th>\n      <th>longitude</th>\n      <th>brightness</th>\n      <th>bright_t31</th>\n      <th>confidence</th>\n      <th>lat</th>\n      <th>long</th>\n    </tr>\n  </thead>\n  <tbody>\n    <tr>\n      <th>28564</th>\n      <td>29698.0</td>\n      <td>16/05/2017</td>\n      <td>MountGambier</td>\n      <td>10.3</td>\n      <td>33.1</td>\n      <td>16.7</td>\n      <td>0.0</td>\n      <td>E</td>\n      <td>56.0</td>\n      <td>E</td>\n      <td>...</td>\n      <td>12.8</td>\n      <td>NaN</td>\n      <td>NaN</td>\n      <td>NaN</td>\n      <td>NaN</td>\n      <td>NaN</td>\n      <td>NaN</td>\n      <td>0.0</td>\n      <td>-37.8247</td>\n      <td>140.782</td>\n    </tr>\n    <tr>\n      <th>35300</th>\n      <td>37148.0</td>\n      <td>15/08/2015</td>\n      <td>Walpole</td>\n      <td>16.2</td>\n      <td>26.4</td>\n      <td>20.25</td>\n      <td>0.0</td>\n      <td>NW</td>\n      <td>46.0</td>\n      <td>ESE</td>\n      <td>...</td>\n      <td>17.2</td>\n      <td>NaN</td>\n      <td>NaN</td>\n      <td>NaN</td>\n      <td>NaN</td>\n      <td>NaN</td>\n      <td>NaN</td>\n      <td>0.0</td>\n      <td>-34.9777</td>\n      <td>116.731</td>\n    </tr>\n    <tr>\n      <th>3586</th>\n      <td>3720.0</td>\n      <td>15/08/2015</td>\n      <td>Moree</td>\n      <td>1.7</td>\n      <td>25.7</td>\n      <td>13.7</td>\n      <td>0.0</td>\n      <td>SSE</td>\n      <td>63.0</td>\n      <td>ESE</td>\n      <td>...</td>\n      <td>18.8</td>\n      <td>15/08/2015</td>\n      <td>1.0</td>\n      <td>-29.1545</td>\n      <td>149.3511</td>\n      <td>316.0</td>\n      <td>302.3</td>\n      <td>71.0</td>\n      <td>-29.3053</td>\n      <td>149.777</td>\n    </tr>\n    <tr>\n      <th>8933</th>\n      <td>9831.0</td>\n      <td>8/05/2015</td>\n      <td>SydneyAirport</td>\n      <td>12.4</td>\n      <td>16.1</td>\n      <td>16.3</td>\n      <td>0.0</td>\n      <td>WSW</td>\n      <td>33.0</td>\n      <td>ENE</td>\n      <td>...</td>\n      <td>21.5</td>\n      <td>NaN</td>\n      <td>NaN</td>\n      <td>NaN</td>\n      <td>NaN</td>\n      <td>NaN</td>\n      <td>NaN</td>\n      <td>0.0</td>\n      <td>-33.95</td>\n      <td>151.179</td>\n    </tr>\n    <tr>\n      <th>10397</th>\n      <td>11297.0</td>\n      <td>26/11/2016</td>\n      <td>WaggaWagga</td>\n      <td>8.5</td>\n      <td>23.4</td>\n      <td>21.8</td>\n      <td>0.0</td>\n      <td>NE</td>\n      <td>50.0</td>\n      <td>W</td>\n      <td>...</td>\n      <td>14.3</td>\n      <td>NaN</td>\n      <td>NaN</td>\n      <td>NaN</td>\n      <td>NaN</td>\n      <td>NaN</td>\n      <td>NaN</td>\n      <td>0.0</td>\n      <td>-35.1859</td>\n      <td>147.355</td>\n    </tr>\n    <tr>\n      <th>...</th>\n      <td>...</td>\n      <td>...</td>\n      <td>...</td>\n      <td>...</td>\n      <td>...</td>\n      <td>...</td>\n      <td>...</td>\n      <td>...</td>\n      <td>...</td>\n      <td>...</td>\n      <td>...</td>\n      <td>...</td>\n      <td>...</td>\n      <td>...</td>\n      <td>...</td>\n      <td>...</td>\n      <td>...</td>\n      <td>...</td>\n      <td>...</td>\n      <td>...</td>\n      <td>...</td>\n    </tr>\n    <tr>\n      <th>15651</th>\n      <td>16563.0</td>\n      <td>23/11/2016</td>\n      <td>Ballarat</td>\n      <td>12.3</td>\n      <td>18.4</td>\n      <td>17.5</td>\n      <td>0.0</td>\n      <td>SSE</td>\n      <td>24.0</td>\n      <td>W</td>\n      <td>...</td>\n      <td>22.5</td>\n      <td>NaN</td>\n      <td>NaN</td>\n      <td>NaN</td>\n      <td>NaN</td>\n      <td>NaN</td>\n      <td>NaN</td>\n      <td>0.0</td>\n      <td>-37.5623</td>\n      <td>143.861</td>\n    </tr>\n    <tr>\n      <th>14661</th>\n      <td>15573.0</td>\n      <td>29/08/2016</td>\n      <td>MountGinini</td>\n      <td>2.3</td>\n      <td>15.8</td>\n      <td>6.75</td>\n      <td>0.0</td>\n      <td>SE</td>\n      <td>57.0</td>\n      <td>ENE</td>\n      <td>...</td>\n      <td>31.8</td>\n      <td>NaN</td>\n      <td>NaN</td>\n      <td>NaN</td>\n      <td>NaN</td>\n      <td>NaN</td>\n      <td>NaN</td>\n      <td>0.0</td>\n      <td>-35.5297</td>\n      <td>148.773</td>\n    </tr>\n    <tr>\n      <th>1823</th>\n      <td>1833.0</td>\n      <td>19/02/2015</td>\n      <td>Cobar</td>\n      <td>21.3</td>\n      <td>34.5</td>\n      <td>27.9</td>\n      <td>0.0</td>\n      <td>SSW</td>\n      <td>37.0</td>\n      <td>N</td>\n      <td>...</td>\n      <td>31.7</td>\n      <td>NaN</td>\n      <td>NaN</td>\n      <td>NaN</td>\n      <td>NaN</td>\n      <td>NaN</td>\n      <td>NaN</td>\n      <td>0.0</td>\n      <td>-31.4842</td>\n      <td>145.795</td>\n    </tr>\n    <tr>\n      <th>20008</th>\n      <td>20937.0</td>\n      <td>1/05/2015</td>\n      <td>Nhil</td>\n      <td>9.6</td>\n      <td>10.9</td>\n      <td>8.3</td>\n      <td>0.0</td>\n      <td>SE</td>\n      <td>46.0</td>\n      <td>S</td>\n      <td>...</td>\n      <td>32.0</td>\n      <td>NaN</td>\n      <td>NaN</td>\n      <td>NaN</td>\n      <td>NaN</td>\n      <td>NaN</td>\n      <td>NaN</td>\n      <td>0.0</td>\n      <td>-35.471</td>\n      <td>141.306</td>\n    </tr>\n    <tr>\n      <th>4248</th>\n      <td>4413.0</td>\n      <td>9/02/2015</td>\n      <td>Newcastle</td>\n      <td>18.8</td>\n      <td>29.2</td>\n      <td>24</td>\n      <td>0.4</td>\n      <td>WNW</td>\n      <td>35.0</td>\n      <td>SE</td>\n      <td>...</td>\n      <td>29.7</td>\n      <td>NaN</td>\n      <td>NaN</td>\n      <td>NaN</td>\n      <td>NaN</td>\n      <td>NaN</td>\n      <td>NaN</td>\n      <td>0.0</td>\n      <td>-32.9273</td>\n      <td>151.781</td>\n    </tr>\n  </tbody>\n</table>\n<p>7024 rows × 31 columns</p>\n</div>"
     },
     "metadata": {},
     "execution_count": 4
    }
   ],
   "source": [
    "df_non_zero = df[df[\"confidence\"] > 0]\n",
    "# df_zero = df[df[\"confidence\"] == 0].sample(n=len(df_non_zero.index))\n",
    "df_zero = df[df[\"confidence\"] == 0].sample(frac=.25, random_state=142)\n",
    "\n",
    "df_final = pd.concat([df_non_zero, df_zero]).sample(frac=.75, random_state=192)\n",
    "df_final\n",
    "# df_final = df"
   ]
  },
  {
   "cell_type": "markdown",
   "metadata": {},
   "source": [
    "## Pick what columns we need"
   ]
  },
  {
   "cell_type": "code",
   "execution_count": 79,
   "metadata": {},
   "outputs": [],
   "source": [
    "cols_to_pick = [\"AvgTemp\", \"Rainfall\", 'Windspeed', 'Humidity', 'Pressure', 'lat', 'long']\n",
    "all_X = df_final.loc[:, cols_to_pick] # not accounting for wind directions right now\n",
    "all_Y = df_final.iloc[:, 28] # confidence data"
   ]
  },
  {
   "cell_type": "markdown",
   "metadata": {},
   "source": [
    "## Pre-process the data"
   ]
  },
  {
   "cell_type": "code",
   "execution_count": 80,
   "metadata": {},
   "outputs": [
    {
     "data": {
      "text/html": [
       "<div>\n",
       "<style scoped>\n",
       "    .dataframe tbody tr th:only-of-type {\n",
       "        vertical-align: middle;\n",
       "    }\n",
       "\n",
       "    .dataframe tbody tr th {\n",
       "        vertical-align: top;\n",
       "    }\n",
       "\n",
       "    .dataframe thead th {\n",
       "        text-align: right;\n",
       "    }\n",
       "</style>\n",
       "<table border=\"1\" class=\"dataframe\">\n",
       "  <thead>\n",
       "    <tr style=\"text-align: right;\">\n",
       "      <th></th>\n",
       "      <th>0</th>\n",
       "      <th>1</th>\n",
       "      <th>2</th>\n",
       "      <th>3</th>\n",
       "      <th>4</th>\n",
       "      <th>5</th>\n",
       "      <th>6</th>\n",
       "      <th>7</th>\n",
       "      <th>8</th>\n",
       "      <th>9</th>\n",
       "      <th>10</th>\n",
       "      <th>11</th>\n",
       "      <th>12</th>\n",
       "      <th>13</th>\n",
       "      <th>14</th>\n",
       "      <th>15</th>\n",
       "      <th>16</th>\n",
       "      <th>17</th>\n",
       "    </tr>\n",
       "  </thead>\n",
       "  <tbody>\n",
       "    <tr>\n",
       "      <td>0</td>\n",
       "      <td>-0.279412</td>\n",
       "      <td>1.404578</td>\n",
       "      <td>-0.154226</td>\n",
       "      <td>-0.280970</td>\n",
       "      <td>1.259575</td>\n",
       "      <td>0.371448</td>\n",
       "      <td>-0.600994</td>\n",
       "      <td>0.109066</td>\n",
       "      <td>-0.632516</td>\n",
       "      <td>-1.360436</td>\n",
       "      <td>0.815123</td>\n",
       "      <td>1.112950</td>\n",
       "      <td>0.320572</td>\n",
       "      <td>0.783057</td>\n",
       "      <td>-0.233633</td>\n",
       "      <td>-1.266836</td>\n",
       "      <td>-0.928562</td>\n",
       "      <td>-0.174714</td>\n",
       "    </tr>\n",
       "    <tr>\n",
       "      <td>1</td>\n",
       "      <td>0.667040</td>\n",
       "      <td>0.465026</td>\n",
       "      <td>0.452068</td>\n",
       "      <td>-0.280970</td>\n",
       "      <td>0.513425</td>\n",
       "      <td>0.719910</td>\n",
       "      <td>0.073941</td>\n",
       "      <td>-1.652785</td>\n",
       "      <td>-0.357134</td>\n",
       "      <td>0.597650</td>\n",
       "      <td>-0.287411</td>\n",
       "      <td>-1.162224</td>\n",
       "      <td>-1.451087</td>\n",
       "      <td>-1.428606</td>\n",
       "      <td>0.019663</td>\n",
       "      <td>-0.634038</td>\n",
       "      <td>-0.359241</td>\n",
       "      <td>-2.218498</td>\n",
       "    </tr>\n",
       "    <tr>\n",
       "      <td>2</td>\n",
       "      <td>-1.658986</td>\n",
       "      <td>0.366864</td>\n",
       "      <td>-0.666588</td>\n",
       "      <td>-0.280970</td>\n",
       "      <td>1.781881</td>\n",
       "      <td>0.603756</td>\n",
       "      <td>-0.151037</td>\n",
       "      <td>-0.934994</td>\n",
       "      <td>-1.238356</td>\n",
       "      <td>-1.703101</td>\n",
       "      <td>-1.217673</td>\n",
       "      <td>-0.413082</td>\n",
       "      <td>-0.606781</td>\n",
       "      <td>-0.557574</td>\n",
       "      <td>-0.455267</td>\n",
       "      <td>-0.403930</td>\n",
       "      <td>0.775085</td>\n",
       "      <td>0.589697</td>\n",
       "    </tr>\n",
       "    <tr>\n",
       "      <td>3</td>\n",
       "      <td>0.057461</td>\n",
       "      <td>-0.979359</td>\n",
       "      <td>-0.222541</td>\n",
       "      <td>-0.280970</td>\n",
       "      <td>-0.456571</td>\n",
       "      <td>0.139140</td>\n",
       "      <td>0.636387</td>\n",
       "      <td>0.892111</td>\n",
       "      <td>-1.018051</td>\n",
       "      <td>-0.968819</td>\n",
       "      <td>-0.080686</td>\n",
       "      <td>0.655140</td>\n",
       "      <td>0.334413</td>\n",
       "      <td>0.540683</td>\n",
       "      <td>-0.993520</td>\n",
       "      <td>-0.015623</td>\n",
       "      <td>-0.153735</td>\n",
       "      <td>0.708771</td>\n",
       "    </tr>\n",
       "    <tr>\n",
       "      <td>4</td>\n",
       "      <td>-0.568160</td>\n",
       "      <td>0.044331</td>\n",
       "      <td>0.716788</td>\n",
       "      <td>-0.280970</td>\n",
       "      <td>0.811885</td>\n",
       "      <td>-0.906245</td>\n",
       "      <td>1.648789</td>\n",
       "      <td>-1.000248</td>\n",
       "      <td>1.350234</td>\n",
       "      <td>0.891362</td>\n",
       "      <td>-0.942040</td>\n",
       "      <td>-0.773780</td>\n",
       "      <td>-1.077378</td>\n",
       "      <td>-1.012025</td>\n",
       "      <td>1.460282</td>\n",
       "      <td>-1.051110</td>\n",
       "      <td>-0.400873</td>\n",
       "      <td>0.383867</td>\n",
       "    </tr>\n",
       "    <tr>\n",
       "      <td>...</td>\n",
       "      <td>...</td>\n",
       "      <td>...</td>\n",
       "      <td>...</td>\n",
       "      <td>...</td>\n",
       "      <td>...</td>\n",
       "      <td>...</td>\n",
       "      <td>...</td>\n",
       "      <td>...</td>\n",
       "      <td>...</td>\n",
       "      <td>...</td>\n",
       "      <td>...</td>\n",
       "      <td>...</td>\n",
       "      <td>...</td>\n",
       "      <td>...</td>\n",
       "      <td>...</td>\n",
       "      <td>...</td>\n",
       "      <td>...</td>\n",
       "      <td>...</td>\n",
       "    </tr>\n",
       "    <tr>\n",
       "      <td>7019</td>\n",
       "      <td>0.041419</td>\n",
       "      <td>-0.656826</td>\n",
       "      <td>-0.017597</td>\n",
       "      <td>-0.280970</td>\n",
       "      <td>-1.128107</td>\n",
       "      <td>-0.557784</td>\n",
       "      <td>-1.275928</td>\n",
       "      <td>0.892111</td>\n",
       "      <td>-0.742669</td>\n",
       "      <td>0.206032</td>\n",
       "      <td>0.711760</td>\n",
       "      <td>0.946474</td>\n",
       "      <td>1.178719</td>\n",
       "      <td>1.161766</td>\n",
       "      <td>-0.471098</td>\n",
       "      <td>0.128195</td>\n",
       "      <td>-0.876085</td>\n",
       "      <td>0.086922</td>\n",
       "    </tr>\n",
       "    <tr>\n",
       "      <td>7020</td>\n",
       "      <td>-1.562737</td>\n",
       "      <td>-1.021428</td>\n",
       "      <td>-1.853558</td>\n",
       "      <td>-0.280970</td>\n",
       "      <td>1.334190</td>\n",
       "      <td>0.719910</td>\n",
       "      <td>0.411408</td>\n",
       "      <td>-0.412964</td>\n",
       "      <td>-0.742669</td>\n",
       "      <td>2.359927</td>\n",
       "      <td>0.987394</td>\n",
       "      <td>-0.343716</td>\n",
       "      <td>-0.385324</td>\n",
       "      <td>-0.398516</td>\n",
       "      <td>-2.196675</td>\n",
       "      <td>1.465699</td>\n",
       "      <td>-0.469633</td>\n",
       "      <td>0.504324</td>\n",
       "    </tr>\n",
       "    <tr>\n",
       "      <td>7021</td>\n",
       "      <td>1.485160</td>\n",
       "      <td>1.600902</td>\n",
       "      <td>1.758589</td>\n",
       "      <td>-0.280970</td>\n",
       "      <td>-0.158111</td>\n",
       "      <td>0.603756</td>\n",
       "      <td>-1.388417</td>\n",
       "      <td>-0.478218</td>\n",
       "      <td>-2.835572</td>\n",
       "      <td>-1.311484</td>\n",
       "      <td>-2.699203</td>\n",
       "      <td>2.167298</td>\n",
       "      <td>2.119913</td>\n",
       "      <td>2.343340</td>\n",
       "      <td>1.270310</td>\n",
       "      <td>1.451317</td>\n",
       "      <td>0.339363</td>\n",
       "      <td>0.251254</td>\n",
       "    </tr>\n",
       "    <tr>\n",
       "      <td>7022</td>\n",
       "      <td>-0.391703</td>\n",
       "      <td>-1.708563</td>\n",
       "      <td>-1.588838</td>\n",
       "      <td>-0.280970</td>\n",
       "      <td>0.513425</td>\n",
       "      <td>0.139140</td>\n",
       "      <td>1.648789</td>\n",
       "      <td>0.696349</td>\n",
       "      <td>-1.458662</td>\n",
       "      <td>0.793458</td>\n",
       "      <td>1.814294</td>\n",
       "      <td>1.709489</td>\n",
       "      <td>-0.053138</td>\n",
       "      <td>0.904244</td>\n",
       "      <td>-1.658422</td>\n",
       "      <td>1.494463</td>\n",
       "      <td>-0.457900</td>\n",
       "      <td>-0.130195</td>\n",
       "    </tr>\n",
       "    <tr>\n",
       "      <td>7023</td>\n",
       "      <td>1.084121</td>\n",
       "      <td>0.857675</td>\n",
       "      <td>1.092520</td>\n",
       "      <td>-0.231599</td>\n",
       "      <td>-0.307341</td>\n",
       "      <td>-1.603169</td>\n",
       "      <td>-2.063352</td>\n",
       "      <td>0.304827</td>\n",
       "      <td>1.460387</td>\n",
       "      <td>0.206032</td>\n",
       "      <td>1.228573</td>\n",
       "      <td>1.959203</td>\n",
       "      <td>2.064549</td>\n",
       "      <td>2.199430</td>\n",
       "      <td>1.301972</td>\n",
       "      <td>1.163682</td>\n",
       "      <td>0.050780</td>\n",
       "      <td>0.759990</td>\n",
       "    </tr>\n",
       "  </tbody>\n",
       "</table>\n",
       "<p>7024 rows × 18 columns</p>\n",
       "</div>"
      ],
      "text/plain": [
       "             0         1         2         3         4         5         6  \\\n",
       "0    -0.279412  1.404578 -0.154226 -0.280970  1.259575  0.371448 -0.600994   \n",
       "1     0.667040  0.465026  0.452068 -0.280970  0.513425  0.719910  0.073941   \n",
       "2    -1.658986  0.366864 -0.666588 -0.280970  1.781881  0.603756 -0.151037   \n",
       "3     0.057461 -0.979359 -0.222541 -0.280970 -0.456571  0.139140  0.636387   \n",
       "4    -0.568160  0.044331  0.716788 -0.280970  0.811885 -0.906245  1.648789   \n",
       "...        ...       ...       ...       ...       ...       ...       ...   \n",
       "7019  0.041419 -0.656826 -0.017597 -0.280970 -1.128107 -0.557784 -1.275928   \n",
       "7020 -1.562737 -1.021428 -1.853558 -0.280970  1.334190  0.719910  0.411408   \n",
       "7021  1.485160  1.600902  1.758589 -0.280970 -0.158111  0.603756 -1.388417   \n",
       "7022 -0.391703 -1.708563 -1.588838 -0.280970  0.513425  0.139140  1.648789   \n",
       "7023  1.084121  0.857675  1.092520 -0.231599 -0.307341 -1.603169 -2.063352   \n",
       "\n",
       "             7         8         9        10        11        12        13  \\\n",
       "0     0.109066 -0.632516 -1.360436  0.815123  1.112950  0.320572  0.783057   \n",
       "1    -1.652785 -0.357134  0.597650 -0.287411 -1.162224 -1.451087 -1.428606   \n",
       "2    -0.934994 -1.238356 -1.703101 -1.217673 -0.413082 -0.606781 -0.557574   \n",
       "3     0.892111 -1.018051 -0.968819 -0.080686  0.655140  0.334413  0.540683   \n",
       "4    -1.000248  1.350234  0.891362 -0.942040 -0.773780 -1.077378 -1.012025   \n",
       "...        ...       ...       ...       ...       ...       ...       ...   \n",
       "7019  0.892111 -0.742669  0.206032  0.711760  0.946474  1.178719  1.161766   \n",
       "7020 -0.412964 -0.742669  2.359927  0.987394 -0.343716 -0.385324 -0.398516   \n",
       "7021 -0.478218 -2.835572 -1.311484 -2.699203  2.167298  2.119913  2.343340   \n",
       "7022  0.696349 -1.458662  0.793458  1.814294  1.709489 -0.053138  0.904244   \n",
       "7023  0.304827  1.460387  0.206032  1.228573  1.959203  2.064549  2.199430   \n",
       "\n",
       "            14        15        16        17  \n",
       "0    -0.233633 -1.266836 -0.928562 -0.174714  \n",
       "1     0.019663 -0.634038 -0.359241 -2.218498  \n",
       "2    -0.455267 -0.403930  0.775085  0.589697  \n",
       "3    -0.993520 -0.015623 -0.153735  0.708771  \n",
       "4     1.460282 -1.051110 -0.400873  0.383867  \n",
       "...        ...       ...       ...       ...  \n",
       "7019 -0.471098  0.128195 -0.876085  0.086922  \n",
       "7020 -2.196675  1.465699 -0.469633  0.504324  \n",
       "7021  1.270310  1.451317  0.339363  0.251254  \n",
       "7022 -1.658422  1.494463 -0.457900 -0.130195  \n",
       "7023  1.301972  1.163682  0.050780  0.759990  \n",
       "\n",
       "[7024 rows x 18 columns]"
      ]
     },
     "execution_count": 80,
     "metadata": {},
     "output_type": "execute_result"
    }
   ],
   "source": [
    "x = all_X.values #returns a numpy array\n",
    "min_max_scaler = preprocessing.StandardScaler()\n",
    "x_scaled = min_max_scaler.fit_transform(x)\n",
    "all_X = pd.DataFrame(x_scaled)\n",
    "all_X"
   ]
  },
  {
   "cell_type": "code",
   "execution_count": 81,
   "metadata": {},
   "outputs": [],
   "source": [
    "### Make Y be a binary value"
   ]
  },
  {
   "cell_type": "code",
   "execution_count": 82,
   "metadata": {
    "tags": []
   },
   "outputs": [
    {
     "name": "stdout",
     "output_type": "stream",
     "text": [
      "198 7024\n"
     ]
    }
   ],
   "source": [
    "all_Y = all_Y > 0\n",
    "print(np.count_nonzero(np.array(all_Y) > 0), len(all_Y))"
   ]
  },
  {
   "cell_type": "code",
   "execution_count": 83,
   "metadata": {},
   "outputs": [],
   "source": [
    "### Split and train the model"
   ]
  },
  {
   "cell_type": "code",
   "execution_count": 84,
   "metadata": {},
   "outputs": [
    {
     "data": {
      "text/plain": [
       "0.9720956719817767"
      ]
     },
     "execution_count": 84,
     "metadata": {},
     "output_type": "execute_result"
    }
   ],
   "source": [
    "X_train, X_test, y_train, y_test = train_test_split(all_X, all_Y, random_state=11)\n",
    "\n",
    "# clf = ElasticNet(random_state=0, solver='liblinear', multi_class='ovr')\n",
    "clf = ExtraTreesClassifier(random_state=0, n_estimators=1000)\n",
    "clf.fit(X_train, y_train)\n",
    "clf.score(X_test, y_test) # this is a surprisingly low score but from what I've seen we shouldn't put too much faith in them\n",
    "                          # i.e. we shouldn't be too worried"
   ]
  },
  {
   "cell_type": "code",
   "execution_count": 85,
   "metadata": {},
   "outputs": [],
   "source": [
    "### Score the model on the entire DB (75% of it is untrained on)"
   ]
  },
  {
   "cell_type": "code",
   "execution_count": 86,
   "metadata": {},
   "outputs": [
    {
     "data": {
      "text/plain": [
       "0.9969195540168471"
      ]
     },
     "execution_count": 86,
     "metadata": {},
     "output_type": "execute_result"
    }
   ],
   "source": [
    "all_X_fullsample = df.loc[:, cols_to_pick] # not accounting for wind directions right now\n",
    "all_Y_fullsample = df.iloc[:, 28] > 0\n",
    "\n",
    "x_fullsample = all_X_fullsample.values #returns a numpy array\n",
    "x_scaled_fullsample = min_max_scaler.fit_transform(x_fullsample)\n",
    "all_X_fullsample = pd.DataFrame(x_scaled_fullsample)\n",
    "all_X_fullsample\n",
    "\n",
    "clf.score(all_X_fullsample, all_Y_fullsample)"
   ]
  },
  {
   "cell_type": "code",
   "execution_count": 87,
   "metadata": {},
   "outputs": [
    {
     "data": {
      "text/plain": [
       "array([False, False, False, False, False, False, False, False, False,\n",
       "       False, False, False, False, False, False, False, False, False,\n",
       "       False, False, False, False, False, False, False, False, False,\n",
       "       False, False, False, False, False, False, False, False, False,\n",
       "       False, False, False, False, False, False, False, False, False,\n",
       "       False, False, False, False, False, False, False, False, False,\n",
       "       False, False, False, False, False, False, False, False, False,\n",
       "       False, False, False, False, False, False, False, False, False,\n",
       "       False, False, False, False, False, False, False, False, False])"
      ]
     },
     "execution_count": 87,
     "metadata": {},
     "output_type": "execute_result"
    }
   ],
   "source": [
    "clf.predict(df.loc[0:80, cols_to_pick])"
   ]
  },
  {
   "cell_type": "markdown",
   "metadata": {},
   "source": [
    "**Regression on non-zero confidence rows**"
   ]
  },
  {
   "cell_type": "code",
   "execution_count": 9,
   "metadata": {},
   "outputs": [],
   "source": [
    "df_non_zero['Month'] = pd.DatetimeIndex(df_non_zero['Date']).month\n",
    "\n",
    "cols_to_pick_reg = [\"AvgTemp\", \"MinTemp\", \"MaxTemp\", 'Month']\n",
    "#cols_to_pick_reg = [\"MinTemp\", \"MaxTemp\", \"AvgTemp\", \"Rainfall\", 'WindGustSpeed', 'WindSpeed9am', 'WindSpeed3pm', 'Windspeed',  \n",
    "#'Humidity9am', 'Humidity3pm', 'Humidity', 'Pressure9am', 'Pressure3pm', 'Pressure', 'Temp9am', 'Temp3pm', 'lat', 'long', 'Month']\n",
    "all_X_reg = df_non_zero.loc[:, cols_to_pick_reg] # not accounting for wind directions right now\n",
    "all_Y_reg = df_non_zero.iloc[:, 28] # confidence data"
   ]
  },
  {
   "cell_type": "code",
   "execution_count": 15,
   "metadata": {},
   "outputs": [
    {
     "output_type": "execute_result",
     "data": {
      "text/plain": "    index AvgTemp  MinTemp  MaxTemp  Month\n0      73    20.5     12.7     28.3      3\n1      88    18.4      8.6     28.2      3\n2     319   19.15     11.6     26.7     11\n3     376   29.75     20.6     38.9     12\n4     480    15.5      6.7     24.3      4\n5     491   15.95      6.7     25.2      6\n6     855   11.45      3.1     19.8     10\n7    1795   30.25     24.2     36.3      1\n8    1842   26.75     19.1     34.4     10\n9    1896    19.1     11.2     27.0      3\n10   1903    16.1     11.2     21.0     10\n11   1905     9.6      3.0     16.2     12\n12   1994    11.3      4.0     18.6      9\n13   2031    14.5      8.1     20.9      9\n14   2169      26     19.6     32.4      3\n15   2201    30.3     23.0     37.6      6\n16   2423   33.35     24.4     42.3      4\n17   2478   18.15      9.9     26.4      3\n18   2479   20.45     14.4     26.5      1\n19   2482   19.05     14.5     23.6      4\n20   2488   18.85     10.6     27.1     10\n21   2715   13.85     10.2     17.5      7\n22   2894    19.5     16.1     22.9      1\n23   3431    25.2     16.7     33.7      1\n24   3433   29.15     19.7     38.6      1\n25   3434   26.55     19.4     33.7      1\n26   3450   28.15     21.8     34.5      6\n27   3455   28.65     20.4     36.9     11\n28   3492    16.4     14.0     18.8     11\n29   3511   12.95      3.9     22.0      6\n30   3526   11.45     -0.1     23.0      1\n31   3539   13.85      6.9     20.8      6\n32   3581    12.6      3.9     21.3     10\n33   3585   14.45      2.8     26.1      8\n34   3586    13.7      1.7     25.7      8\n35   3590    14.3     10.5     18.1      8\n36   3607   16.95      8.1     25.8      8\n37   3608    18.3      8.1     28.5      9\n38   3614      16      6.1     25.9      9\n39   3619   14.35      4.1     24.6      9\n40   3621   15.65      5.6     25.7      9\n41   3647    24.4     18.1     30.7     10\n42   3696    28.7     22.0     35.4      8\n43   3702    26.9     19.5     34.3     12\n44   3707    27.9     21.5     34.3     12\n45   3740    26.8     18.3     35.3      6\n46   3743    30.1     19.6     40.6      9\n47   3746   29.45     24.2     34.7     12\n48   3751   29.05     23.4     34.7      2\n49   3763      28     21.5     34.5      2",
      "text/html": "<div>\n<style scoped>\n    .dataframe tbody tr th:only-of-type {\n        vertical-align: middle;\n    }\n\n    .dataframe tbody tr th {\n        vertical-align: top;\n    }\n\n    .dataframe thead th {\n        text-align: right;\n    }\n</style>\n<table border=\"1\" class=\"dataframe\">\n  <thead>\n    <tr style=\"text-align: right;\">\n      <th></th>\n      <th>index</th>\n      <th>AvgTemp</th>\n      <th>MinTemp</th>\n      <th>MaxTemp</th>\n      <th>Month</th>\n    </tr>\n  </thead>\n  <tbody>\n    <tr>\n      <th>0</th>\n      <td>73</td>\n      <td>20.5</td>\n      <td>12.7</td>\n      <td>28.3</td>\n      <td>3</td>\n    </tr>\n    <tr>\n      <th>1</th>\n      <td>88</td>\n      <td>18.4</td>\n      <td>8.6</td>\n      <td>28.2</td>\n      <td>3</td>\n    </tr>\n    <tr>\n      <th>2</th>\n      <td>319</td>\n      <td>19.15</td>\n      <td>11.6</td>\n      <td>26.7</td>\n      <td>11</td>\n    </tr>\n    <tr>\n      <th>3</th>\n      <td>376</td>\n      <td>29.75</td>\n      <td>20.6</td>\n      <td>38.9</td>\n      <td>12</td>\n    </tr>\n    <tr>\n      <th>4</th>\n      <td>480</td>\n      <td>15.5</td>\n      <td>6.7</td>\n      <td>24.3</td>\n      <td>4</td>\n    </tr>\n    <tr>\n      <th>5</th>\n      <td>491</td>\n      <td>15.95</td>\n      <td>6.7</td>\n      <td>25.2</td>\n      <td>6</td>\n    </tr>\n    <tr>\n      <th>6</th>\n      <td>855</td>\n      <td>11.45</td>\n      <td>3.1</td>\n      <td>19.8</td>\n      <td>10</td>\n    </tr>\n    <tr>\n      <th>7</th>\n      <td>1795</td>\n      <td>30.25</td>\n      <td>24.2</td>\n      <td>36.3</td>\n      <td>1</td>\n    </tr>\n    <tr>\n      <th>8</th>\n      <td>1842</td>\n      <td>26.75</td>\n      <td>19.1</td>\n      <td>34.4</td>\n      <td>10</td>\n    </tr>\n    <tr>\n      <th>9</th>\n      <td>1896</td>\n      <td>19.1</td>\n      <td>11.2</td>\n      <td>27.0</td>\n      <td>3</td>\n    </tr>\n    <tr>\n      <th>10</th>\n      <td>1903</td>\n      <td>16.1</td>\n      <td>11.2</td>\n      <td>21.0</td>\n      <td>10</td>\n    </tr>\n    <tr>\n      <th>11</th>\n      <td>1905</td>\n      <td>9.6</td>\n      <td>3.0</td>\n      <td>16.2</td>\n      <td>12</td>\n    </tr>\n    <tr>\n      <th>12</th>\n      <td>1994</td>\n      <td>11.3</td>\n      <td>4.0</td>\n      <td>18.6</td>\n      <td>9</td>\n    </tr>\n    <tr>\n      <th>13</th>\n      <td>2031</td>\n      <td>14.5</td>\n      <td>8.1</td>\n      <td>20.9</td>\n      <td>9</td>\n    </tr>\n    <tr>\n      <th>14</th>\n      <td>2169</td>\n      <td>26</td>\n      <td>19.6</td>\n      <td>32.4</td>\n      <td>3</td>\n    </tr>\n    <tr>\n      <th>15</th>\n      <td>2201</td>\n      <td>30.3</td>\n      <td>23.0</td>\n      <td>37.6</td>\n      <td>6</td>\n    </tr>\n    <tr>\n      <th>16</th>\n      <td>2423</td>\n      <td>33.35</td>\n      <td>24.4</td>\n      <td>42.3</td>\n      <td>4</td>\n    </tr>\n    <tr>\n      <th>17</th>\n      <td>2478</td>\n      <td>18.15</td>\n      <td>9.9</td>\n      <td>26.4</td>\n      <td>3</td>\n    </tr>\n    <tr>\n      <th>18</th>\n      <td>2479</td>\n      <td>20.45</td>\n      <td>14.4</td>\n      <td>26.5</td>\n      <td>1</td>\n    </tr>\n    <tr>\n      <th>19</th>\n      <td>2482</td>\n      <td>19.05</td>\n      <td>14.5</td>\n      <td>23.6</td>\n      <td>4</td>\n    </tr>\n    <tr>\n      <th>20</th>\n      <td>2488</td>\n      <td>18.85</td>\n      <td>10.6</td>\n      <td>27.1</td>\n      <td>10</td>\n    </tr>\n    <tr>\n      <th>21</th>\n      <td>2715</td>\n      <td>13.85</td>\n      <td>10.2</td>\n      <td>17.5</td>\n      <td>7</td>\n    </tr>\n    <tr>\n      <th>22</th>\n      <td>2894</td>\n      <td>19.5</td>\n      <td>16.1</td>\n      <td>22.9</td>\n      <td>1</td>\n    </tr>\n    <tr>\n      <th>23</th>\n      <td>3431</td>\n      <td>25.2</td>\n      <td>16.7</td>\n      <td>33.7</td>\n      <td>1</td>\n    </tr>\n    <tr>\n      <th>24</th>\n      <td>3433</td>\n      <td>29.15</td>\n      <td>19.7</td>\n      <td>38.6</td>\n      <td>1</td>\n    </tr>\n    <tr>\n      <th>25</th>\n      <td>3434</td>\n      <td>26.55</td>\n      <td>19.4</td>\n      <td>33.7</td>\n      <td>1</td>\n    </tr>\n    <tr>\n      <th>26</th>\n      <td>3450</td>\n      <td>28.15</td>\n      <td>21.8</td>\n      <td>34.5</td>\n      <td>6</td>\n    </tr>\n    <tr>\n      <th>27</th>\n      <td>3455</td>\n      <td>28.65</td>\n      <td>20.4</td>\n      <td>36.9</td>\n      <td>11</td>\n    </tr>\n    <tr>\n      <th>28</th>\n      <td>3492</td>\n      <td>16.4</td>\n      <td>14.0</td>\n      <td>18.8</td>\n      <td>11</td>\n    </tr>\n    <tr>\n      <th>29</th>\n      <td>3511</td>\n      <td>12.95</td>\n      <td>3.9</td>\n      <td>22.0</td>\n      <td>6</td>\n    </tr>\n    <tr>\n      <th>30</th>\n      <td>3526</td>\n      <td>11.45</td>\n      <td>-0.1</td>\n      <td>23.0</td>\n      <td>1</td>\n    </tr>\n    <tr>\n      <th>31</th>\n      <td>3539</td>\n      <td>13.85</td>\n      <td>6.9</td>\n      <td>20.8</td>\n      <td>6</td>\n    </tr>\n    <tr>\n      <th>32</th>\n      <td>3581</td>\n      <td>12.6</td>\n      <td>3.9</td>\n      <td>21.3</td>\n      <td>10</td>\n    </tr>\n    <tr>\n      <th>33</th>\n      <td>3585</td>\n      <td>14.45</td>\n      <td>2.8</td>\n      <td>26.1</td>\n      <td>8</td>\n    </tr>\n    <tr>\n      <th>34</th>\n      <td>3586</td>\n      <td>13.7</td>\n      <td>1.7</td>\n      <td>25.7</td>\n      <td>8</td>\n    </tr>\n    <tr>\n      <th>35</th>\n      <td>3590</td>\n      <td>14.3</td>\n      <td>10.5</td>\n      <td>18.1</td>\n      <td>8</td>\n    </tr>\n    <tr>\n      <th>36</th>\n      <td>3607</td>\n      <td>16.95</td>\n      <td>8.1</td>\n      <td>25.8</td>\n      <td>8</td>\n    </tr>\n    <tr>\n      <th>37</th>\n      <td>3608</td>\n      <td>18.3</td>\n      <td>8.1</td>\n      <td>28.5</td>\n      <td>9</td>\n    </tr>\n    <tr>\n      <th>38</th>\n      <td>3614</td>\n      <td>16</td>\n      <td>6.1</td>\n      <td>25.9</td>\n      <td>9</td>\n    </tr>\n    <tr>\n      <th>39</th>\n      <td>3619</td>\n      <td>14.35</td>\n      <td>4.1</td>\n      <td>24.6</td>\n      <td>9</td>\n    </tr>\n    <tr>\n      <th>40</th>\n      <td>3621</td>\n      <td>15.65</td>\n      <td>5.6</td>\n      <td>25.7</td>\n      <td>9</td>\n    </tr>\n    <tr>\n      <th>41</th>\n      <td>3647</td>\n      <td>24.4</td>\n      <td>18.1</td>\n      <td>30.7</td>\n      <td>10</td>\n    </tr>\n    <tr>\n      <th>42</th>\n      <td>3696</td>\n      <td>28.7</td>\n      <td>22.0</td>\n      <td>35.4</td>\n      <td>8</td>\n    </tr>\n    <tr>\n      <th>43</th>\n      <td>3702</td>\n      <td>26.9</td>\n      <td>19.5</td>\n      <td>34.3</td>\n      <td>12</td>\n    </tr>\n    <tr>\n      <th>44</th>\n      <td>3707</td>\n      <td>27.9</td>\n      <td>21.5</td>\n      <td>34.3</td>\n      <td>12</td>\n    </tr>\n    <tr>\n      <th>45</th>\n      <td>3740</td>\n      <td>26.8</td>\n      <td>18.3</td>\n      <td>35.3</td>\n      <td>6</td>\n    </tr>\n    <tr>\n      <th>46</th>\n      <td>3743</td>\n      <td>30.1</td>\n      <td>19.6</td>\n      <td>40.6</td>\n      <td>9</td>\n    </tr>\n    <tr>\n      <th>47</th>\n      <td>3746</td>\n      <td>29.45</td>\n      <td>24.2</td>\n      <td>34.7</td>\n      <td>12</td>\n    </tr>\n    <tr>\n      <th>48</th>\n      <td>3751</td>\n      <td>29.05</td>\n      <td>23.4</td>\n      <td>34.7</td>\n      <td>2</td>\n    </tr>\n    <tr>\n      <th>49</th>\n      <td>3763</td>\n      <td>28</td>\n      <td>21.5</td>\n      <td>34.5</td>\n      <td>2</td>\n    </tr>\n  </tbody>\n</table>\n</div>"
     },
     "metadata": {},
     "execution_count": 15
    }
   ],
   "source": [
    "all_X_reg = all_X_reg.drop(columns=[\"index\"])\n",
    "all_X_reg.head(50)"
   ]
  },
  {
   "cell_type": "code",
   "execution_count": 7,
   "metadata": {},
   "outputs": [
    {
     "output_type": "execute_result",
     "data": {
      "text/plain": "            0         1         2         3\n0    0.315828  0.064822  0.541907 -0.942207\n1    0.004126 -0.502653  0.529029 -0.942207\n2    0.115448 -0.087427  0.335864  1.409904\n3    1.688800  1.158249  1.906940  1.703918\n4   -0.426319 -0.765629  0.026799 -0.648193\n..        ...       ...       ...       ...\n254  0.018969 -1.111650  0.387374 -0.942207\n255 -0.084931 -0.225836 -0.114855  1.115890\n256 -0.389212 -0.820992 -0.591329 -1.530234\n257 -0.530220 -1.651443 -0.629962 -0.942207\n258 -0.277890 -0.585698 -0.372409  1.703918\n\n[259 rows x 4 columns]",
      "text/html": "<div>\n<style scoped>\n    .dataframe tbody tr th:only-of-type {\n        vertical-align: middle;\n    }\n\n    .dataframe tbody tr th {\n        vertical-align: top;\n    }\n\n    .dataframe thead th {\n        text-align: right;\n    }\n</style>\n<table border=\"1\" class=\"dataframe\">\n  <thead>\n    <tr style=\"text-align: right;\">\n      <th></th>\n      <th>0</th>\n      <th>1</th>\n      <th>2</th>\n      <th>3</th>\n    </tr>\n  </thead>\n  <tbody>\n    <tr>\n      <th>0</th>\n      <td>0.315828</td>\n      <td>0.064822</td>\n      <td>0.541907</td>\n      <td>-0.942207</td>\n    </tr>\n    <tr>\n      <th>1</th>\n      <td>0.004126</td>\n      <td>-0.502653</td>\n      <td>0.529029</td>\n      <td>-0.942207</td>\n    </tr>\n    <tr>\n      <th>2</th>\n      <td>0.115448</td>\n      <td>-0.087427</td>\n      <td>0.335864</td>\n      <td>1.409904</td>\n    </tr>\n    <tr>\n      <th>3</th>\n      <td>1.688800</td>\n      <td>1.158249</td>\n      <td>1.906940</td>\n      <td>1.703918</td>\n    </tr>\n    <tr>\n      <th>4</th>\n      <td>-0.426319</td>\n      <td>-0.765629</td>\n      <td>0.026799</td>\n      <td>-0.648193</td>\n    </tr>\n    <tr>\n      <th>...</th>\n      <td>...</td>\n      <td>...</td>\n      <td>...</td>\n      <td>...</td>\n    </tr>\n    <tr>\n      <th>254</th>\n      <td>0.018969</td>\n      <td>-1.111650</td>\n      <td>0.387374</td>\n      <td>-0.942207</td>\n    </tr>\n    <tr>\n      <th>255</th>\n      <td>-0.084931</td>\n      <td>-0.225836</td>\n      <td>-0.114855</td>\n      <td>1.115890</td>\n    </tr>\n    <tr>\n      <th>256</th>\n      <td>-0.389212</td>\n      <td>-0.820992</td>\n      <td>-0.591329</td>\n      <td>-1.530234</td>\n    </tr>\n    <tr>\n      <th>257</th>\n      <td>-0.530220</td>\n      <td>-1.651443</td>\n      <td>-0.629962</td>\n      <td>-0.942207</td>\n    </tr>\n    <tr>\n      <th>258</th>\n      <td>-0.277890</td>\n      <td>-0.585698</td>\n      <td>-0.372409</td>\n      <td>1.703918</td>\n    </tr>\n  </tbody>\n</table>\n<p>259 rows × 4 columns</p>\n</div>"
     },
     "metadata": {},
     "execution_count": 7
    }
   ],
   "source": [
    "x_reg = all_X_reg.values #returns a numpy array\n",
    "min_max_scaler_reg = preprocessing.StandardScaler()\n",
    "x_scaled_reg = min_max_scaler_reg.fit_transform(x_reg)\n",
    "all_X_reg = pd.DataFrame(x_scaled_reg)\n",
    "all_X_reg"
   ]
  },
  {
   "cell_type": "code",
   "execution_count": 8,
   "metadata": {},
   "outputs": [
    {
     "output_type": "execute_result",
     "data": {
      "text/plain": "-0.07584837140669665"
     },
     "metadata": {},
     "execution_count": 8
    }
   ],
   "source": [
    "X_train_reg, X_test_reg, y_train_reg, y_test_reg = train_test_split(all_X_reg, all_Y_reg, random_state=11)\n",
    "clf_reg = LinearRegression()\n",
    "clf_reg.fit(X_train_reg, y_train_reg)\n",
    "clf_reg.score(X_test_reg, y_test_reg) "
   ]
  },
  {
   "cell_type": "code",
   "execution_count": 14,
   "metadata": {},
   "outputs": [],
   "source": [
    "# pickle.dump(clf, open(\"../pickles/binary_extra_trees_2.sav\", 'wb'))"
   ]
  }
 ],
 "metadata": {
  "kernelspec": {
   "display_name": "Python 3",
   "language": "python",
   "name": "python3"
  },
  "language_info": {
   "codemirror_mode": {
    "name": "ipython",
    "version": 3
   },
   "file_extension": ".py",
   "mimetype": "text/x-python",
   "name": "python",
   "nbconvert_exporter": "python",
   "pygments_lexer": "ipython3",
   "version": "3.8.2-final"
  }
 },
 "nbformat": 4,
 "nbformat_minor": 2
}