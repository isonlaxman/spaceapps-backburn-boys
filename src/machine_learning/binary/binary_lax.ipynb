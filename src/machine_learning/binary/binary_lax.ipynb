{
 "cells": [
  {
   "cell_type": "code",
   "execution_count": 17,
   "metadata": {},
   "outputs": [],
   "source": [
    "import numpy as np\n",
    "import pandas as pd\n",
    "import math\n",
    "import json\n",
    "\n",
    "from sklearn.model_selection import train_test_split\n",
    "from sklearn.linear_model import LinearRegression, LogisticRegression, ElasticNet\n",
    "from sklearn.ensemble import RandomForestRegressor, RandomForestClassifier, GradientBoostingClassifier, ExtraTreesClassifier\n",
    "from sklearn import preprocessing\n",
    "import pickle\n",
    "import joblib"
   ]
  },
  {
   "source": [
    "## Read in the data and remove bad values"
   ],
   "cell_type": "markdown",
   "metadata": {}
  },
  {
   "cell_type": "code",
   "execution_count": 2,
   "metadata": {},
   "outputs": [],
   "source": [
    "df = pd.read_csv('final_ML_data.csv')\n",
    "filters = (df['Windspeed'] != '#REF!') & (df['Humidity'] != '#REF!') & (df['Pressure3pm'].isnull() == False) # eliminating nonsense rows\n",
    "df = df[filters].reset_index(drop=True)\n",
    "df[\"confidence\"] = df[\"confidence\"].fillna(0)"
   ]
  },
  {
   "source": [
    "### Get lat long values from bounding box averaging"
   ],
   "cell_type": "markdown",
   "metadata": {}
  },
  {
   "cell_type": "code",
   "execution_count": 3,
   "metadata": {
    "tags": []
   },
   "outputs": [
    {
     "output_type": "execute_result",
     "data": {
      "text/plain": "       Unnamed: 0        Date Location  MinTemp  MaxTemp AvgTemp  Rainfall  \\\n0             0.0   1/01/2015   Albury     11.4     33.5   22.45       0.0   \n1             1.0   2/01/2015   Albury     15.5     39.6   27.55       0.0   \n2             2.0   3/01/2015   Albury     17.1     38.3    27.7       0.0   \n3             3.0   4/01/2015   Albury     26.0     33.1   29.55       0.0   \n4             4.0   5/01/2015   Albury     19.0     35.2    27.1       0.0   \n...           ...         ...      ...      ...      ...     ...       ...   \n36678     38528.0  26/12/2016   Hobart      9.1     17.4   11.35       0.0   \n36679     38529.0  27/12/2016   Hobart      7.4     21.2    12.9       0.0   \n36680     38530.0  28/12/2016   Hobart      0.6     16.5     9.2       0.0   \n36681     38531.0  29/12/2016   Hobart      2.6     17.7   13.25      10.4   \n36682     38532.0  30/12/2016   Hobart      3.2     19.5    14.3       4.4   \n\n      WindGustDir  WindGustSpeed WindDir9am  ... Temp3pm  acq_date  count  \\\n0             WSW           30.0        ESE  ...    32.7       NaN    NaN   \n1              NE           56.0        ESE  ...    38.2       NaN    NaN   \n2             NNE           48.0         NE  ...    37.0       NaN    NaN   \n3             NNE           41.0        ESE  ...    30.9       NaN    NaN   \n4               E           33.0        SSE  ...    32.5       NaN    NaN   \n...           ...            ...        ...  ...     ...       ...    ...   \n36678          SW           35.0          E  ...    37.3       NaN    NaN   \n36679          SW           35.0        ENE  ...    31.5       NaN    NaN   \n36680           S           41.0          N  ...    32.6       NaN    NaN   \n36681          SE           33.0        SSE  ...    33.4       NaN    NaN   \n36682           W           35.0         SE  ...    34.3       NaN    NaN   \n\n      latitude  longitude  brightness bright_t31  confidence      lat     long  \n0          NaN        NaN         NaN        NaN         0.0 -36.0805  146.916  \n1          NaN        NaN         NaN        NaN         0.0 -36.0805  146.916  \n2          NaN        NaN         NaN        NaN         0.0 -36.0805  146.916  \n3          NaN        NaN         NaN        NaN         0.0 -36.0805  146.916  \n4          NaN        NaN         NaN        NaN         0.0 -36.0805  146.916  \n...        ...        ...         ...        ...         ...      ...      ...  \n36678      NaN        NaN         NaN        NaN         0.0 -42.8823  147.329  \n36679      NaN        NaN         NaN        NaN         0.0 -42.8823  147.329  \n36680      NaN        NaN         NaN        NaN         0.0 -42.8823  147.329  \n36681      NaN        NaN         NaN        NaN         0.0 -42.8823  147.329  \n36682      NaN        NaN         NaN        NaN         0.0 -42.8823  147.329  \n\n[36683 rows x 31 columns]",
      "text/html": "<div>\n<style scoped>\n    .dataframe tbody tr th:only-of-type {\n        vertical-align: middle;\n    }\n\n    .dataframe tbody tr th {\n        vertical-align: top;\n    }\n\n    .dataframe thead th {\n        text-align: right;\n    }\n</style>\n<table border=\"1\" class=\"dataframe\">\n  <thead>\n    <tr style=\"text-align: right;\">\n      <th></th>\n      <th>Unnamed: 0</th>\n      <th>Date</th>\n      <th>Location</th>\n      <th>MinTemp</th>\n      <th>MaxTemp</th>\n      <th>AvgTemp</th>\n      <th>Rainfall</th>\n      <th>WindGustDir</th>\n      <th>WindGustSpeed</th>\n      <th>WindDir9am</th>\n      <th>...</th>\n      <th>Temp3pm</th>\n      <th>acq_date</th>\n      <th>count</th>\n      <th>latitude</th>\n      <th>longitude</th>\n      <th>brightness</th>\n      <th>bright_t31</th>\n      <th>confidence</th>\n      <th>lat</th>\n      <th>long</th>\n    </tr>\n  </thead>\n  <tbody>\n    <tr>\n      <th>0</th>\n      <td>0.0</td>\n      <td>1/01/2015</td>\n      <td>Albury</td>\n      <td>11.4</td>\n      <td>33.5</td>\n      <td>22.45</td>\n      <td>0.0</td>\n      <td>WSW</td>\n      <td>30.0</td>\n      <td>ESE</td>\n      <td>...</td>\n      <td>32.7</td>\n      <td>NaN</td>\n      <td>NaN</td>\n      <td>NaN</td>\n      <td>NaN</td>\n      <td>NaN</td>\n      <td>NaN</td>\n      <td>0.0</td>\n      <td>-36.0805</td>\n      <td>146.916</td>\n    </tr>\n    <tr>\n      <th>1</th>\n      <td>1.0</td>\n      <td>2/01/2015</td>\n      <td>Albury</td>\n      <td>15.5</td>\n      <td>39.6</td>\n      <td>27.55</td>\n      <td>0.0</td>\n      <td>NE</td>\n      <td>56.0</td>\n      <td>ESE</td>\n      <td>...</td>\n      <td>38.2</td>\n      <td>NaN</td>\n      <td>NaN</td>\n      <td>NaN</td>\n      <td>NaN</td>\n      <td>NaN</td>\n      <td>NaN</td>\n      <td>0.0</td>\n      <td>-36.0805</td>\n      <td>146.916</td>\n    </tr>\n    <tr>\n      <th>2</th>\n      <td>2.0</td>\n      <td>3/01/2015</td>\n      <td>Albury</td>\n      <td>17.1</td>\n      <td>38.3</td>\n      <td>27.7</td>\n      <td>0.0</td>\n      <td>NNE</td>\n      <td>48.0</td>\n      <td>NE</td>\n      <td>...</td>\n      <td>37.0</td>\n      <td>NaN</td>\n      <td>NaN</td>\n      <td>NaN</td>\n      <td>NaN</td>\n      <td>NaN</td>\n      <td>NaN</td>\n      <td>0.0</td>\n      <td>-36.0805</td>\n      <td>146.916</td>\n    </tr>\n    <tr>\n      <th>3</th>\n      <td>3.0</td>\n      <td>4/01/2015</td>\n      <td>Albury</td>\n      <td>26.0</td>\n      <td>33.1</td>\n      <td>29.55</td>\n      <td>0.0</td>\n      <td>NNE</td>\n      <td>41.0</td>\n      <td>ESE</td>\n      <td>...</td>\n      <td>30.9</td>\n      <td>NaN</td>\n      <td>NaN</td>\n      <td>NaN</td>\n      <td>NaN</td>\n      <td>NaN</td>\n      <td>NaN</td>\n      <td>0.0</td>\n      <td>-36.0805</td>\n      <td>146.916</td>\n    </tr>\n    <tr>\n      <th>4</th>\n      <td>4.0</td>\n      <td>5/01/2015</td>\n      <td>Albury</td>\n      <td>19.0</td>\n      <td>35.2</td>\n      <td>27.1</td>\n      <td>0.0</td>\n      <td>E</td>\n      <td>33.0</td>\n      <td>SSE</td>\n      <td>...</td>\n      <td>32.5</td>\n      <td>NaN</td>\n      <td>NaN</td>\n      <td>NaN</td>\n      <td>NaN</td>\n      <td>NaN</td>\n      <td>NaN</td>\n      <td>0.0</td>\n      <td>-36.0805</td>\n      <td>146.916</td>\n    </tr>\n    <tr>\n      <th>...</th>\n      <td>...</td>\n      <td>...</td>\n      <td>...</td>\n      <td>...</td>\n      <td>...</td>\n      <td>...</td>\n      <td>...</td>\n      <td>...</td>\n      <td>...</td>\n      <td>...</td>\n      <td>...</td>\n      <td>...</td>\n      <td>...</td>\n      <td>...</td>\n      <td>...</td>\n      <td>...</td>\n      <td>...</td>\n      <td>...</td>\n      <td>...</td>\n      <td>...</td>\n      <td>...</td>\n    </tr>\n    <tr>\n      <th>36678</th>\n      <td>38528.0</td>\n      <td>26/12/2016</td>\n      <td>Hobart</td>\n      <td>9.1</td>\n      <td>17.4</td>\n      <td>11.35</td>\n      <td>0.0</td>\n      <td>SW</td>\n      <td>35.0</td>\n      <td>E</td>\n      <td>...</td>\n      <td>37.3</td>\n      <td>NaN</td>\n      <td>NaN</td>\n      <td>NaN</td>\n      <td>NaN</td>\n      <td>NaN</td>\n      <td>NaN</td>\n      <td>0.0</td>\n      <td>-42.8823</td>\n      <td>147.329</td>\n    </tr>\n    <tr>\n      <th>36679</th>\n      <td>38529.0</td>\n      <td>27/12/2016</td>\n      <td>Hobart</td>\n      <td>7.4</td>\n      <td>21.2</td>\n      <td>12.9</td>\n      <td>0.0</td>\n      <td>SW</td>\n      <td>35.0</td>\n      <td>ENE</td>\n      <td>...</td>\n      <td>31.5</td>\n      <td>NaN</td>\n      <td>NaN</td>\n      <td>NaN</td>\n      <td>NaN</td>\n      <td>NaN</td>\n      <td>NaN</td>\n      <td>0.0</td>\n      <td>-42.8823</td>\n      <td>147.329</td>\n    </tr>\n    <tr>\n      <th>36680</th>\n      <td>38530.0</td>\n      <td>28/12/2016</td>\n      <td>Hobart</td>\n      <td>0.6</td>\n      <td>16.5</td>\n      <td>9.2</td>\n      <td>0.0</td>\n      <td>S</td>\n      <td>41.0</td>\n      <td>N</td>\n      <td>...</td>\n      <td>32.6</td>\n      <td>NaN</td>\n      <td>NaN</td>\n      <td>NaN</td>\n      <td>NaN</td>\n      <td>NaN</td>\n      <td>NaN</td>\n      <td>0.0</td>\n      <td>-42.8823</td>\n      <td>147.329</td>\n    </tr>\n    <tr>\n      <th>36681</th>\n      <td>38531.0</td>\n      <td>29/12/2016</td>\n      <td>Hobart</td>\n      <td>2.6</td>\n      <td>17.7</td>\n      <td>13.25</td>\n      <td>10.4</td>\n      <td>SE</td>\n      <td>33.0</td>\n      <td>SSE</td>\n      <td>...</td>\n      <td>33.4</td>\n      <td>NaN</td>\n      <td>NaN</td>\n      <td>NaN</td>\n      <td>NaN</td>\n      <td>NaN</td>\n      <td>NaN</td>\n      <td>0.0</td>\n      <td>-42.8823</td>\n      <td>147.329</td>\n    </tr>\n    <tr>\n      <th>36682</th>\n      <td>38532.0</td>\n      <td>30/12/2016</td>\n      <td>Hobart</td>\n      <td>3.2</td>\n      <td>19.5</td>\n      <td>14.3</td>\n      <td>4.4</td>\n      <td>W</td>\n      <td>35.0</td>\n      <td>SE</td>\n      <td>...</td>\n      <td>34.3</td>\n      <td>NaN</td>\n      <td>NaN</td>\n      <td>NaN</td>\n      <td>NaN</td>\n      <td>NaN</td>\n      <td>NaN</td>\n      <td>0.0</td>\n      <td>-42.8823</td>\n      <td>147.329</td>\n    </tr>\n  </tbody>\n</table>\n<p>36683 rows × 31 columns</p>\n</div>"
     },
     "metadata": {},
     "execution_count": 3
    }
   ],
   "source": [
    "coordinates = {}\n",
    "with open(\"../../geocoding/bounding_boxes.json\") as f:\n",
    "    coordinates = json.load(f)\n",
    "\n",
    "df[\"lat\"] = None\n",
    "df[\"long\"] = None\n",
    "\n",
    "for k, v in coordinates.items():\n",
    "    c = coordinates[k]\n",
    "    df.loc[df[\"Location\"] == k, [\"lat\",]] = np.mean([c[0], c[1]])\n",
    "    df.loc[df[\"Location\"] == k, [\"long\",]] = np.mean([c[2], c[3]])\n",
    "\n",
    "df\n"
   ]
  },
  {
   "source": [
    "### Sample 25% of the data cause we don't want to bias the data to only pick 0's"
   ],
   "cell_type": "markdown",
   "metadata": {}
  },
  {
   "cell_type": "code",
   "execution_count": 4,
   "metadata": {
    "tags": []
   },
   "outputs": [
    {
     "output_type": "execute_result",
     "data": {
      "text/plain": "       Unnamed: 0        Date       Location  MinTemp  MaxTemp AvgTemp  \\\n28564     29698.0  16/05/2017   MountGambier     10.3     33.1    16.7   \n35300     37148.0  15/08/2015        Walpole     16.2     26.4   20.25   \n3586       3720.0  15/08/2015          Moree      1.7     25.7    13.7   \n8933       9831.0   8/05/2015  SydneyAirport     12.4     16.1    16.3   \n10397     11297.0  26/11/2016     WaggaWagga      8.5     23.4    21.8   \n...           ...         ...            ...      ...      ...     ...   \n15651     16563.0  23/11/2016       Ballarat     12.3     18.4    17.5   \n14661     15573.0  29/08/2016    MountGinini      2.3     15.8    6.75   \n1823       1833.0  19/02/2015          Cobar     21.3     34.5    27.9   \n20008     20937.0   1/05/2015           Nhil      9.6     10.9     8.3   \n4248       4413.0   9/02/2015      Newcastle     18.8     29.2      24   \n\n       Rainfall WindGustDir  WindGustSpeed WindDir9am  ... Temp3pm  \\\n28564       0.0           E           56.0          E  ...    12.8   \n35300       0.0          NW           46.0        ESE  ...    17.2   \n3586        0.0         SSE           63.0        ESE  ...    18.8   \n8933        0.0         WSW           33.0        ENE  ...    21.5   \n10397       0.0          NE           50.0          W  ...    14.3   \n...         ...         ...            ...        ...  ...     ...   \n15651       0.0         SSE           24.0          W  ...    22.5   \n14661       0.0          SE           57.0        ENE  ...    31.8   \n1823        0.0         SSW           37.0          N  ...    31.7   \n20008       0.0          SE           46.0          S  ...    32.0   \n4248        0.4         WNW           35.0         SE  ...    29.7   \n\n         acq_date  count latitude  longitude  brightness bright_t31  \\\n28564         NaN    NaN      NaN        NaN         NaN        NaN   \n35300         NaN    NaN      NaN        NaN         NaN        NaN   \n3586   15/08/2015    1.0 -29.1545   149.3511       316.0      302.3   \n8933          NaN    NaN      NaN        NaN         NaN        NaN   \n10397         NaN    NaN      NaN        NaN         NaN        NaN   \n...           ...    ...      ...        ...         ...        ...   \n15651         NaN    NaN      NaN        NaN         NaN        NaN   \n14661         NaN    NaN      NaN        NaN         NaN        NaN   \n1823          NaN    NaN      NaN        NaN         NaN        NaN   \n20008         NaN    NaN      NaN        NaN         NaN        NaN   \n4248          NaN    NaN      NaN        NaN         NaN        NaN   \n\n       confidence      lat     long  \n28564         0.0 -37.8247  140.782  \n35300         0.0 -34.9777  116.731  \n3586         71.0 -29.3053  149.777  \n8933          0.0   -33.95  151.179  \n10397         0.0 -35.1859  147.355  \n...           ...      ...      ...  \n15651         0.0 -37.5623  143.861  \n14661         0.0 -35.5297  148.773  \n1823          0.0 -31.4842  145.795  \n20008         0.0  -35.471  141.306  \n4248          0.0 -32.9273  151.781  \n\n[7024 rows x 31 columns]",
      "text/html": "<div>\n<style scoped>\n    .dataframe tbody tr th:only-of-type {\n        vertical-align: middle;\n    }\n\n    .dataframe tbody tr th {\n        vertical-align: top;\n    }\n\n    .dataframe thead th {\n        text-align: right;\n    }\n</style>\n<table border=\"1\" class=\"dataframe\">\n  <thead>\n    <tr style=\"text-align: right;\">\n      <th></th>\n      <th>Unnamed: 0</th>\n      <th>Date</th>\n      <th>Location</th>\n      <th>MinTemp</th>\n      <th>MaxTemp</th>\n      <th>AvgTemp</th>\n      <th>Rainfall</th>\n      <th>WindGustDir</th>\n      <th>WindGustSpeed</th>\n      <th>WindDir9am</th>\n      <th>...</th>\n      <th>Temp3pm</th>\n      <th>acq_date</th>\n      <th>count</th>\n      <th>latitude</th>\n      <th>longitude</th>\n      <th>brightness</th>\n      <th>bright_t31</th>\n      <th>confidence</th>\n      <th>lat</th>\n      <th>long</th>\n    </tr>\n  </thead>\n  <tbody>\n    <tr>\n      <th>28564</th>\n      <td>29698.0</td>\n      <td>16/05/2017</td>\n      <td>MountGambier</td>\n      <td>10.3</td>\n      <td>33.1</td>\n      <td>16.7</td>\n      <td>0.0</td>\n      <td>E</td>\n      <td>56.0</td>\n      <td>E</td>\n      <td>...</td>\n      <td>12.8</td>\n      <td>NaN</td>\n      <td>NaN</td>\n      <td>NaN</td>\n      <td>NaN</td>\n      <td>NaN</td>\n      <td>NaN</td>\n      <td>0.0</td>\n      <td>-37.8247</td>\n      <td>140.782</td>\n    </tr>\n    <tr>\n      <th>35300</th>\n      <td>37148.0</td>\n      <td>15/08/2015</td>\n      <td>Walpole</td>\n      <td>16.2</td>\n      <td>26.4</td>\n      <td>20.25</td>\n      <td>0.0</td>\n      <td>NW</td>\n      <td>46.0</td>\n      <td>ESE</td>\n      <td>...</td>\n      <td>17.2</td>\n      <td>NaN</td>\n      <td>NaN</td>\n      <td>NaN</td>\n      <td>NaN</td>\n      <td>NaN</td>\n      <td>NaN</td>\n      <td>0.0</td>\n      <td>-34.9777</td>\n      <td>116.731</td>\n    </tr>\n    <tr>\n      <th>3586</th>\n      <td>3720.0</td>\n      <td>15/08/2015</td>\n      <td>Moree</td>\n      <td>1.7</td>\n      <td>25.7</td>\n      <td>13.7</td>\n      <td>0.0</td>\n      <td>SSE</td>\n      <td>63.0</td>\n      <td>ESE</td>\n      <td>...</td>\n      <td>18.8</td>\n      <td>15/08/2015</td>\n      <td>1.0</td>\n      <td>-29.1545</td>\n      <td>149.3511</td>\n      <td>316.0</td>\n      <td>302.3</td>\n      <td>71.0</td>\n      <td>-29.3053</td>\n      <td>149.777</td>\n    </tr>\n    <tr>\n      <th>8933</th>\n      <td>9831.0</td>\n      <td>8/05/2015</td>\n      <td>SydneyAirport</td>\n      <td>12.4</td>\n      <td>16.1</td>\n      <td>16.3</td>\n      <td>0.0</td>\n      <td>WSW</td>\n      <td>33.0</td>\n      <td>ENE</td>\n      <td>...</td>\n      <td>21.5</td>\n      <td>NaN</td>\n      <td>NaN</td>\n      <td>NaN</td>\n      <td>NaN</td>\n      <td>NaN</td>\n      <td>NaN</td>\n      <td>0.0</td>\n      <td>-33.95</td>\n      <td>151.179</td>\n    </tr>\n    <tr>\n      <th>10397</th>\n      <td>11297.0</td>\n      <td>26/11/2016</td>\n      <td>WaggaWagga</td>\n      <td>8.5</td>\n      <td>23.4</td>\n      <td>21.8</td>\n      <td>0.0</td>\n      <td>NE</td>\n      <td>50.0</td>\n      <td>W</td>\n      <td>...</td>\n      <td>14.3</td>\n      <td>NaN</td>\n      <td>NaN</td>\n      <td>NaN</td>\n      <td>NaN</td>\n      <td>NaN</td>\n      <td>NaN</td>\n      <td>0.0</td>\n      <td>-35.1859</td>\n      <td>147.355</td>\n    </tr>\n    <tr>\n      <th>...</th>\n      <td>...</td>\n      <td>...</td>\n      <td>...</td>\n      <td>...</td>\n      <td>...</td>\n      <td>...</td>\n      <td>...</td>\n      <td>...</td>\n      <td>...</td>\n      <td>...</td>\n      <td>...</td>\n      <td>...</td>\n      <td>...</td>\n      <td>...</td>\n      <td>...</td>\n      <td>...</td>\n      <td>...</td>\n      <td>...</td>\n      <td>...</td>\n      <td>...</td>\n      <td>...</td>\n    </tr>\n    <tr>\n      <th>15651</th>\n      <td>16563.0</td>\n      <td>23/11/2016</td>\n      <td>Ballarat</td>\n      <td>12.3</td>\n      <td>18.4</td>\n      <td>17.5</td>\n      <td>0.0</td>\n      <td>SSE</td>\n      <td>24.0</td>\n      <td>W</td>\n      <td>...</td>\n      <td>22.5</td>\n      <td>NaN</td>\n      <td>NaN</td>\n      <td>NaN</td>\n      <td>NaN</td>\n      <td>NaN</td>\n      <td>NaN</td>\n      <td>0.0</td>\n      <td>-37.5623</td>\n      <td>143.861</td>\n    </tr>\n    <tr>\n      <th>14661</th>\n      <td>15573.0</td>\n      <td>29/08/2016</td>\n      <td>MountGinini</td>\n      <td>2.3</td>\n      <td>15.8</td>\n      <td>6.75</td>\n      <td>0.0</td>\n      <td>SE</td>\n      <td>57.0</td>\n      <td>ENE</td>\n      <td>...</td>\n      <td>31.8</td>\n      <td>NaN</td>\n      <td>NaN</td>\n      <td>NaN</td>\n      <td>NaN</td>\n      <td>NaN</td>\n      <td>NaN</td>\n      <td>0.0</td>\n      <td>-35.5297</td>\n      <td>148.773</td>\n    </tr>\n    <tr>\n      <th>1823</th>\n      <td>1833.0</td>\n      <td>19/02/2015</td>\n      <td>Cobar</td>\n      <td>21.3</td>\n      <td>34.5</td>\n      <td>27.9</td>\n      <td>0.0</td>\n      <td>SSW</td>\n      <td>37.0</td>\n      <td>N</td>\n      <td>...</td>\n      <td>31.7</td>\n      <td>NaN</td>\n      <td>NaN</td>\n      <td>NaN</td>\n      <td>NaN</td>\n      <td>NaN</td>\n      <td>NaN</td>\n      <td>0.0</td>\n      <td>-31.4842</td>\n      <td>145.795</td>\n    </tr>\n    <tr>\n      <th>20008</th>\n      <td>20937.0</td>\n      <td>1/05/2015</td>\n      <td>Nhil</td>\n      <td>9.6</td>\n      <td>10.9</td>\n      <td>8.3</td>\n      <td>0.0</td>\n      <td>SE</td>\n      <td>46.0</td>\n      <td>S</td>\n      <td>...</td>\n      <td>32.0</td>\n      <td>NaN</td>\n      <td>NaN</td>\n      <td>NaN</td>\n      <td>NaN</td>\n      <td>NaN</td>\n      <td>NaN</td>\n      <td>0.0</td>\n      <td>-35.471</td>\n      <td>141.306</td>\n    </tr>\n    <tr>\n      <th>4248</th>\n      <td>4413.0</td>\n      <td>9/02/2015</td>\n      <td>Newcastle</td>\n      <td>18.8</td>\n      <td>29.2</td>\n      <td>24</td>\n      <td>0.4</td>\n      <td>WNW</td>\n      <td>35.0</td>\n      <td>SE</td>\n      <td>...</td>\n      <td>29.7</td>\n      <td>NaN</td>\n      <td>NaN</td>\n      <td>NaN</td>\n      <td>NaN</td>\n      <td>NaN</td>\n      <td>NaN</td>\n      <td>0.0</td>\n      <td>-32.9273</td>\n      <td>151.781</td>\n    </tr>\n  </tbody>\n</table>\n<p>7024 rows × 31 columns</p>\n</div>"
     },
     "metadata": {},
     "execution_count": 4
    }
   ],
   "source": [
    "df_non_zero = df[df[\"confidence\"] > 0]\n",
    "# df_zero = df[df[\"confidence\"] == 0].sample(n=len(df_non_zero.index))\n",
    "df_zero = df[df[\"confidence\"] == 0].sample(frac=.25, random_state=142)\n",
    "\n",
    "df_final = pd.concat([df_non_zero, df_zero]).sample(frac=.75, random_state=192)\n",
    "df_final\n",
    "# df_final = df"
   ]
  },
  {
   "source": [
    "## Pick what columns we need"
   ],
   "cell_type": "markdown",
   "metadata": {}
  },
  {
   "cell_type": "code",
   "execution_count": 5,
   "metadata": {},
   "outputs": [],
   "source": [
    "cols_to_pick = [\"AvgTemp\", \"Rainfall\", 'Windspeed', 'Humidity', 'Pressure', 'lat', 'long']\n",
    "all_X = df_final.loc[:, cols_to_pick] # not accounting for wind directions right now\n",
    "all_Y = df_final.iloc[:, 28] # confidence data"
   ]
  },
  {
   "source": [
    "## Pre-process the data"
   ],
   "cell_type": "markdown",
   "metadata": {}
  },
  {
   "cell_type": "code",
   "execution_count": 6,
   "metadata": {},
   "outputs": [
    {
     "output_type": "execute_result",
     "data": {
      "text/plain": "             0         1         2         3         4         5         6\n0    -0.154226 -0.280970  0.109066  0.815123  0.783057 -0.928562 -0.174714\n1     0.452068 -0.280970 -1.652785 -0.287411 -1.428606 -0.359241 -2.218498\n2    -0.666588 -0.280970 -0.934994 -1.217673 -0.557574  0.775085  0.589697\n3    -0.222541 -0.280970  0.892111 -0.080686  0.540683 -0.153735  0.708771\n4     0.716788 -0.280970 -1.000248 -0.942040 -1.012025 -0.400873  0.383867\n...        ...       ...       ...       ...       ...       ...       ...\n7019 -0.017597 -0.280970  0.892111  0.711760  1.161766 -0.876085  0.086922\n7020 -1.853558 -0.280970 -0.412964  0.987394 -0.398516 -0.469633  0.504324\n7021  1.758589 -0.280970 -0.478218 -2.699203  2.343340  0.339363  0.251254\n7022 -1.588838 -0.280970  0.696349  1.814294  0.904244 -0.457900 -0.130195\n7023  1.092520 -0.231599  0.304827  1.228573  2.199430  0.050780  0.759990\n\n[7024 rows x 7 columns]",
      "text/html": "<div>\n<style scoped>\n    .dataframe tbody tr th:only-of-type {\n        vertical-align: middle;\n    }\n\n    .dataframe tbody tr th {\n        vertical-align: top;\n    }\n\n    .dataframe thead th {\n        text-align: right;\n    }\n</style>\n<table border=\"1\" class=\"dataframe\">\n  <thead>\n    <tr style=\"text-align: right;\">\n      <th></th>\n      <th>0</th>\n      <th>1</th>\n      <th>2</th>\n      <th>3</th>\n      <th>4</th>\n      <th>5</th>\n      <th>6</th>\n    </tr>\n  </thead>\n  <tbody>\n    <tr>\n      <th>0</th>\n      <td>-0.154226</td>\n      <td>-0.280970</td>\n      <td>0.109066</td>\n      <td>0.815123</td>\n      <td>0.783057</td>\n      <td>-0.928562</td>\n      <td>-0.174714</td>\n    </tr>\n    <tr>\n      <th>1</th>\n      <td>0.452068</td>\n      <td>-0.280970</td>\n      <td>-1.652785</td>\n      <td>-0.287411</td>\n      <td>-1.428606</td>\n      <td>-0.359241</td>\n      <td>-2.218498</td>\n    </tr>\n    <tr>\n      <th>2</th>\n      <td>-0.666588</td>\n      <td>-0.280970</td>\n      <td>-0.934994</td>\n      <td>-1.217673</td>\n      <td>-0.557574</td>\n      <td>0.775085</td>\n      <td>0.589697</td>\n    </tr>\n    <tr>\n      <th>3</th>\n      <td>-0.222541</td>\n      <td>-0.280970</td>\n      <td>0.892111</td>\n      <td>-0.080686</td>\n      <td>0.540683</td>\n      <td>-0.153735</td>\n      <td>0.708771</td>\n    </tr>\n    <tr>\n      <th>4</th>\n      <td>0.716788</td>\n      <td>-0.280970</td>\n      <td>-1.000248</td>\n      <td>-0.942040</td>\n      <td>-1.012025</td>\n      <td>-0.400873</td>\n      <td>0.383867</td>\n    </tr>\n    <tr>\n      <th>...</th>\n      <td>...</td>\n      <td>...</td>\n      <td>...</td>\n      <td>...</td>\n      <td>...</td>\n      <td>...</td>\n      <td>...</td>\n    </tr>\n    <tr>\n      <th>7019</th>\n      <td>-0.017597</td>\n      <td>-0.280970</td>\n      <td>0.892111</td>\n      <td>0.711760</td>\n      <td>1.161766</td>\n      <td>-0.876085</td>\n      <td>0.086922</td>\n    </tr>\n    <tr>\n      <th>7020</th>\n      <td>-1.853558</td>\n      <td>-0.280970</td>\n      <td>-0.412964</td>\n      <td>0.987394</td>\n      <td>-0.398516</td>\n      <td>-0.469633</td>\n      <td>0.504324</td>\n    </tr>\n    <tr>\n      <th>7021</th>\n      <td>1.758589</td>\n      <td>-0.280970</td>\n      <td>-0.478218</td>\n      <td>-2.699203</td>\n      <td>2.343340</td>\n      <td>0.339363</td>\n      <td>0.251254</td>\n    </tr>\n    <tr>\n      <th>7022</th>\n      <td>-1.588838</td>\n      <td>-0.280970</td>\n      <td>0.696349</td>\n      <td>1.814294</td>\n      <td>0.904244</td>\n      <td>-0.457900</td>\n      <td>-0.130195</td>\n    </tr>\n    <tr>\n      <th>7023</th>\n      <td>1.092520</td>\n      <td>-0.231599</td>\n      <td>0.304827</td>\n      <td>1.228573</td>\n      <td>2.199430</td>\n      <td>0.050780</td>\n      <td>0.759990</td>\n    </tr>\n  </tbody>\n</table>\n<p>7024 rows × 7 columns</p>\n</div>"
     },
     "metadata": {},
     "execution_count": 6
    }
   ],
   "source": [
    "x = all_X.values #returns a numpy array\n",
    "min_max_scaler = preprocessing.StandardScaler()\n",
    "x_scaled = min_max_scaler.fit_transform(x)\n",
    "all_X = pd.DataFrame(x_scaled)\n",
    "all_X"
   ]
  },
  {
   "cell_type": "code",
   "execution_count": 7,
   "metadata": {},
   "outputs": [],
   "source": [
    "### Make Y be a binary value"
   ]
  },
  {
   "cell_type": "code",
   "execution_count": 8,
   "metadata": {
    "tags": []
   },
   "outputs": [
    {
     "output_type": "stream",
     "name": "stdout",
     "text": "198 7024\n"
    }
   ],
   "source": [
    "all_Y = all_Y > 0\n",
    "print(np.count_nonzero(np.array(all_Y) > 0), len(all_Y))"
   ]
  },
  {
   "cell_type": "code",
   "execution_count": 9,
   "metadata": {},
   "outputs": [],
   "source": [
    "### Split and train the model"
   ]
  },
  {
   "cell_type": "code",
   "execution_count": 10,
   "metadata": {},
   "outputs": [
    {
     "output_type": "execute_result",
     "data": {
      "text/plain": "0.9732346241457859"
     },
     "metadata": {},
     "execution_count": 10
    }
   ],
   "source": [
    "X_train, X_test, y_train, y_test = train_test_split(all_X, all_Y, random_state=11)\n",
    "\n",
    "# clf = ElasticNet(random_state=0, solver='liblinear', multi_class='ovr')\n",
    "clf = ExtraTreesClassifier(random_state=0, n_estimators=1000)\n",
    "clf.fit(X_train, y_train)\n",
    "clf.score(X_test, y_test) # this is a surprisingly low score but from what I've seen we shouldn't put too much faith in them\n",
    "                          # i.e. we shouldn't be too worried"
   ]
  },
  {
   "cell_type": "code",
   "execution_count": 11,
   "metadata": {},
   "outputs": [],
   "source": [
    "### Score the model on the entire DB (75% of it is untrained on)"
   ]
  },
  {
   "cell_type": "code",
   "execution_count": 12,
   "metadata": {},
   "outputs": [
    {
     "output_type": "execute_result",
     "data": {
      "text/plain": "0.9962653000027261"
     },
     "metadata": {},
     "execution_count": 12
    }
   ],
   "source": [
    "all_X_fullsample = df.loc[:, cols_to_pick] # not accounting for wind directions right now\n",
    "all_Y_fullsample = df.iloc[:, 28] > 0\n",
    "\n",
    "x_fullsample = all_X_fullsample.values #returns a numpy array\n",
    "x_scaled_fullsample = min_max_scaler.fit_transform(x_fullsample)\n",
    "all_X_fullsample = pd.DataFrame(x_scaled_fullsample)\n",
    "all_X_fullsample\n",
    "\n",
    "clf.score(all_X_fullsample, all_Y_fullsample)"
   ]
  },
  {
   "cell_type": "code",
   "execution_count": 15,
   "metadata": {},
   "outputs": [
    {
     "output_type": "execute_result",
     "data": {
      "text/plain": "174"
     },
     "metadata": {},
     "execution_count": 15
    }
   ],
   "source": [
    "clf.predict(all_X_fullsample).sum()"
   ]
  },
  {
   "source": [
    "### Save the model into a pickle"
   ],
   "cell_type": "markdown",
   "metadata": {}
  },
  {
   "cell_type": "code",
   "execution_count": 18,
   "metadata": {},
   "outputs": [
    {
     "output_type": "execute_result",
     "data": {
      "text/plain": "[&#39;../pickles/binary_extra_trees_scaler.sav&#39;]"
     },
     "metadata": {},
     "execution_count": 18
    }
   ],
   "source": [
    "# pickle.dump(clf, open(\"../pickles/binary_extra_trees_2.sav\", 'wb'))\n",
    "# joblib.dump(min_max_scaler, \"../pickles/binary_extra_trees_scaler.sav\")"
   ]
  },
  {
   "cell_type": "code",
   "execution_count": null,
   "metadata": {},
   "outputs": [],
   "source": []
  }
 ],
 "metadata": {
  "kernelspec": {
   "display_name": "Python 3",
   "language": "python",
   "name": "python3"
  },
  "language_info": {
   "codemirror_mode": {
    "name": "ipython",
    "version": 3
   },
   "file_extension": ".py",
   "mimetype": "text/x-python",
   "name": "python",
   "nbconvert_exporter": "python",
   "pygments_lexer": "ipython3",
   "version": "3.8.2-final"
  }
 },
 "nbformat": 4,
 "nbformat_minor": 2
}