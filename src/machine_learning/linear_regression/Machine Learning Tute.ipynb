{
 "cells": [
  {
   "cell_type": "code",
   "execution_count": 1,
   "metadata": {},
   "outputs": [],
   "source": [
    "import numpy as np\n",
    "import pandas as pd\n",
    "import math\n",
    "\n",
    "from sklearn.model_selection import train_test_split\n",
    "from sklearn.linear_model import LinearRegression\n",
    "from sklearn import preprocessing"
   ]
  },
  {
   "source": [
    "## Read in the data and remove bad values"
   ],
   "cell_type": "markdown",
   "metadata": {}
  },
  {
   "cell_type": "code",
   "execution_count": 2,
   "metadata": {},
   "outputs": [],
   "source": [
    "df = pd.read_csv('final_ML_data.csv')\n",
    "filters = (df['Windspeed'] != '#REF!') & (df['Humidity'] != '#REF!') & (df['Pressure3pm'].isnull() == False) # eliminating nonsense rows\n",
    "df_final = df[filters].reset_index(drop=True)"
   ]
  },
  {
   "cell_type": "code",
   "execution_count": 3,
   "metadata": {},
   "outputs": [
    {
     "output_type": "execute_result",
     "data": {
      "text/plain": "       Unnamed: 0        Date Location  MinTemp  MaxTemp AvgTemp  Rainfall  \\\n0             0.0   1/01/2015   Albury     11.4     33.5   22.45       0.0   \n1             1.0   2/01/2015   Albury     15.5     39.6   27.55       0.0   \n2             2.0   3/01/2015   Albury     17.1     38.3    27.7       0.0   \n3             3.0   4/01/2015   Albury     26.0     33.1   29.55       0.0   \n4             4.0   5/01/2015   Albury     19.0     35.2    27.1       0.0   \n...           ...         ...      ...      ...      ...     ...       ...   \n36678     38528.0  26/12/2016   Hobart      9.1     17.4   11.35       0.0   \n36679     38529.0  27/12/2016   Hobart      7.4     21.2    12.9       0.0   \n36680     38530.0  28/12/2016   Hobart      0.6     16.5     9.2       0.0   \n36681     38531.0  29/12/2016   Hobart      2.6     17.7   13.25      10.4   \n36682     38532.0  30/12/2016   Hobart      3.2     19.5    14.3       4.4   \n\n      WindGustDir  WindGustSpeed WindDir9am  ... Pressure  Temp9am  Temp3pm  \\\n0             WSW           30.0        ESE  ...  1012.25     21.0     32.7   \n1              NE           56.0        ESE  ...  1014.20     25.6     38.2   \n2             NNE           48.0         NE  ...  1015.10     29.2     37.0   \n3             NNE           41.0        ESE  ...  1012.85     27.4     30.9   \n4               E           33.0        SSE  ...  1016.05     25.6     32.5   \n...           ...            ...        ...  ...      ...      ...      ...   \n36678          SW           35.0          E  ...  1023.50     10.8     37.3   \n36679          SW           35.0        ENE  ...  1024.20     11.4     31.5   \n36680           S           41.0          N  ...  1023.15     14.2     32.6   \n36681          SE           33.0        SSE  ...  1020.75     17.2     33.4   \n36682           W           35.0         SE  ...  1020.55     15.2     34.3   \n\n      acq_date  count  latitude longitude  brightness  bright_t31  confidence  \n0          NaN    NaN       NaN       NaN         NaN         NaN         NaN  \n1          NaN    NaN       NaN       NaN         NaN         NaN         NaN  \n2          NaN    NaN       NaN       NaN         NaN         NaN         NaN  \n3          NaN    NaN       NaN       NaN         NaN         NaN         NaN  \n4          NaN    NaN       NaN       NaN         NaN         NaN         NaN  \n...        ...    ...       ...       ...         ...         ...         ...  \n36678      NaN    NaN       NaN       NaN         NaN         NaN         NaN  \n36679      NaN    NaN       NaN       NaN         NaN         NaN         NaN  \n36680      NaN    NaN       NaN       NaN         NaN         NaN         NaN  \n36681      NaN    NaN       NaN       NaN         NaN         NaN         NaN  \n36682      NaN    NaN       NaN       NaN         NaN         NaN         NaN  \n\n[36683 rows x 29 columns]",
      "text/html": "<div>\n<style scoped>\n    .dataframe tbody tr th:only-of-type {\n        vertical-align: middle;\n    }\n\n    .dataframe tbody tr th {\n        vertical-align: top;\n    }\n\n    .dataframe thead th {\n        text-align: right;\n    }\n</style>\n<table border=\"1\" class=\"dataframe\">\n  <thead>\n    <tr style=\"text-align: right;\">\n      <th></th>\n      <th>Unnamed: 0</th>\n      <th>Date</th>\n      <th>Location</th>\n      <th>MinTemp</th>\n      <th>MaxTemp</th>\n      <th>AvgTemp</th>\n      <th>Rainfall</th>\n      <th>WindGustDir</th>\n      <th>WindGustSpeed</th>\n      <th>WindDir9am</th>\n      <th>...</th>\n      <th>Pressure</th>\n      <th>Temp9am</th>\n      <th>Temp3pm</th>\n      <th>acq_date</th>\n      <th>count</th>\n      <th>latitude</th>\n      <th>longitude</th>\n      <th>brightness</th>\n      <th>bright_t31</th>\n      <th>confidence</th>\n    </tr>\n  </thead>\n  <tbody>\n    <tr>\n      <th>0</th>\n      <td>0.0</td>\n      <td>1/01/2015</td>\n      <td>Albury</td>\n      <td>11.4</td>\n      <td>33.5</td>\n      <td>22.45</td>\n      <td>0.0</td>\n      <td>WSW</td>\n      <td>30.0</td>\n      <td>ESE</td>\n      <td>...</td>\n      <td>1012.25</td>\n      <td>21.0</td>\n      <td>32.7</td>\n      <td>NaN</td>\n      <td>NaN</td>\n      <td>NaN</td>\n      <td>NaN</td>\n      <td>NaN</td>\n      <td>NaN</td>\n      <td>NaN</td>\n    </tr>\n    <tr>\n      <th>1</th>\n      <td>1.0</td>\n      <td>2/01/2015</td>\n      <td>Albury</td>\n      <td>15.5</td>\n      <td>39.6</td>\n      <td>27.55</td>\n      <td>0.0</td>\n      <td>NE</td>\n      <td>56.0</td>\n      <td>ESE</td>\n      <td>...</td>\n      <td>1014.20</td>\n      <td>25.6</td>\n      <td>38.2</td>\n      <td>NaN</td>\n      <td>NaN</td>\n      <td>NaN</td>\n      <td>NaN</td>\n      <td>NaN</td>\n      <td>NaN</td>\n      <td>NaN</td>\n    </tr>\n    <tr>\n      <th>2</th>\n      <td>2.0</td>\n      <td>3/01/2015</td>\n      <td>Albury</td>\n      <td>17.1</td>\n      <td>38.3</td>\n      <td>27.7</td>\n      <td>0.0</td>\n      <td>NNE</td>\n      <td>48.0</td>\n      <td>NE</td>\n      <td>...</td>\n      <td>1015.10</td>\n      <td>29.2</td>\n      <td>37.0</td>\n      <td>NaN</td>\n      <td>NaN</td>\n      <td>NaN</td>\n      <td>NaN</td>\n      <td>NaN</td>\n      <td>NaN</td>\n      <td>NaN</td>\n    </tr>\n    <tr>\n      <th>3</th>\n      <td>3.0</td>\n      <td>4/01/2015</td>\n      <td>Albury</td>\n      <td>26.0</td>\n      <td>33.1</td>\n      <td>29.55</td>\n      <td>0.0</td>\n      <td>NNE</td>\n      <td>41.0</td>\n      <td>ESE</td>\n      <td>...</td>\n      <td>1012.85</td>\n      <td>27.4</td>\n      <td>30.9</td>\n      <td>NaN</td>\n      <td>NaN</td>\n      <td>NaN</td>\n      <td>NaN</td>\n      <td>NaN</td>\n      <td>NaN</td>\n      <td>NaN</td>\n    </tr>\n    <tr>\n      <th>4</th>\n      <td>4.0</td>\n      <td>5/01/2015</td>\n      <td>Albury</td>\n      <td>19.0</td>\n      <td>35.2</td>\n      <td>27.1</td>\n      <td>0.0</td>\n      <td>E</td>\n      <td>33.0</td>\n      <td>SSE</td>\n      <td>...</td>\n      <td>1016.05</td>\n      <td>25.6</td>\n      <td>32.5</td>\n      <td>NaN</td>\n      <td>NaN</td>\n      <td>NaN</td>\n      <td>NaN</td>\n      <td>NaN</td>\n      <td>NaN</td>\n      <td>NaN</td>\n    </tr>\n    <tr>\n      <th>...</th>\n      <td>...</td>\n      <td>...</td>\n      <td>...</td>\n      <td>...</td>\n      <td>...</td>\n      <td>...</td>\n      <td>...</td>\n      <td>...</td>\n      <td>...</td>\n      <td>...</td>\n      <td>...</td>\n      <td>...</td>\n      <td>...</td>\n      <td>...</td>\n      <td>...</td>\n      <td>...</td>\n      <td>...</td>\n      <td>...</td>\n      <td>...</td>\n      <td>...</td>\n      <td>...</td>\n    </tr>\n    <tr>\n      <th>36678</th>\n      <td>38528.0</td>\n      <td>26/12/2016</td>\n      <td>Hobart</td>\n      <td>9.1</td>\n      <td>17.4</td>\n      <td>11.35</td>\n      <td>0.0</td>\n      <td>SW</td>\n      <td>35.0</td>\n      <td>E</td>\n      <td>...</td>\n      <td>1023.50</td>\n      <td>10.8</td>\n      <td>37.3</td>\n      <td>NaN</td>\n      <td>NaN</td>\n      <td>NaN</td>\n      <td>NaN</td>\n      <td>NaN</td>\n      <td>NaN</td>\n      <td>NaN</td>\n    </tr>\n    <tr>\n      <th>36679</th>\n      <td>38529.0</td>\n      <td>27/12/2016</td>\n      <td>Hobart</td>\n      <td>7.4</td>\n      <td>21.2</td>\n      <td>12.9</td>\n      <td>0.0</td>\n      <td>SW</td>\n      <td>35.0</td>\n      <td>ENE</td>\n      <td>...</td>\n      <td>1024.20</td>\n      <td>11.4</td>\n      <td>31.5</td>\n      <td>NaN</td>\n      <td>NaN</td>\n      <td>NaN</td>\n      <td>NaN</td>\n      <td>NaN</td>\n      <td>NaN</td>\n      <td>NaN</td>\n    </tr>\n    <tr>\n      <th>36680</th>\n      <td>38530.0</td>\n      <td>28/12/2016</td>\n      <td>Hobart</td>\n      <td>0.6</td>\n      <td>16.5</td>\n      <td>9.2</td>\n      <td>0.0</td>\n      <td>S</td>\n      <td>41.0</td>\n      <td>N</td>\n      <td>...</td>\n      <td>1023.15</td>\n      <td>14.2</td>\n      <td>32.6</td>\n      <td>NaN</td>\n      <td>NaN</td>\n      <td>NaN</td>\n      <td>NaN</td>\n      <td>NaN</td>\n      <td>NaN</td>\n      <td>NaN</td>\n    </tr>\n    <tr>\n      <th>36681</th>\n      <td>38531.0</td>\n      <td>29/12/2016</td>\n      <td>Hobart</td>\n      <td>2.6</td>\n      <td>17.7</td>\n      <td>13.25</td>\n      <td>10.4</td>\n      <td>SE</td>\n      <td>33.0</td>\n      <td>SSE</td>\n      <td>...</td>\n      <td>1020.75</td>\n      <td>17.2</td>\n      <td>33.4</td>\n      <td>NaN</td>\n      <td>NaN</td>\n      <td>NaN</td>\n      <td>NaN</td>\n      <td>NaN</td>\n      <td>NaN</td>\n      <td>NaN</td>\n    </tr>\n    <tr>\n      <th>36682</th>\n      <td>38532.0</td>\n      <td>30/12/2016</td>\n      <td>Hobart</td>\n      <td>3.2</td>\n      <td>19.5</td>\n      <td>14.3</td>\n      <td>4.4</td>\n      <td>W</td>\n      <td>35.0</td>\n      <td>SE</td>\n      <td>...</td>\n      <td>1020.55</td>\n      <td>15.2</td>\n      <td>34.3</td>\n      <td>NaN</td>\n      <td>NaN</td>\n      <td>NaN</td>\n      <td>NaN</td>\n      <td>NaN</td>\n      <td>NaN</td>\n      <td>NaN</td>\n    </tr>\n  </tbody>\n</table>\n<p>36683 rows × 29 columns</p>\n</div>"
     },
     "metadata": {},
     "execution_count": 3
    }
   ],
   "source": [
    "df_final"
   ]
  },
  {
   "source": [
    "## Pick what columns we need"
   ],
   "cell_type": "markdown",
   "metadata": {}
  },
  {
   "cell_type": "code",
   "execution_count": 4,
   "metadata": {},
   "outputs": [],
   "source": [
    "cols_to_pick = [5,6,13,16,19]\n",
    "all_X = df_final.iloc[:, cols_to_pick] # not accounting for wind directions right now\n",
    "all_Y = df_final.iloc[:, 28] # confidence data"
   ]
  },
  {
   "source": [
    "## Pre-process the data"
   ],
   "cell_type": "markdown",
   "metadata": {}
  },
  {
   "cell_type": "code",
   "execution_count": 5,
   "metadata": {},
   "outputs": [
    {
     "output_type": "execute_result",
     "data": {
      "text/plain": "              0         1         2         3         4\n0      0.829868 -0.277960 -0.947168 -2.186020 -0.690328\n1      1.706641 -0.277960 -0.947168 -2.254907 -0.392397\n2      1.732429 -0.277960  0.501373 -2.358239 -0.254891\n3      2.050474 -0.277960 -1.210539 -1.359368 -0.598657\n4      1.629279 -0.277960 -1.078854 -0.980486 -0.109745\n...         ...       ...       ...       ...       ...\n36678 -1.078404 -0.277960  0.172159 -0.808267  1.028502\n36679 -0.811933 -0.277960 -0.486269 -0.601604  1.135452\n36680 -1.448024 -0.277960 -1.605596  0.121716  0.975028\n36681 -0.751763  1.002858 -0.552111 -0.153834  0.608344\n36682 -0.571251  0.263924 -0.091212 -0.119390  0.577787\n\n[36683 rows x 5 columns]",
      "text/html": "<div>\n<style scoped>\n    .dataframe tbody tr th:only-of-type {\n        vertical-align: middle;\n    }\n\n    .dataframe tbody tr th {\n        vertical-align: top;\n    }\n\n    .dataframe thead th {\n        text-align: right;\n    }\n</style>\n<table border=\"1\" class=\"dataframe\">\n  <thead>\n    <tr style=\"text-align: right;\">\n      <th></th>\n      <th>0</th>\n      <th>1</th>\n      <th>2</th>\n      <th>3</th>\n      <th>4</th>\n    </tr>\n  </thead>\n  <tbody>\n    <tr>\n      <th>0</th>\n      <td>0.829868</td>\n      <td>-0.277960</td>\n      <td>-0.947168</td>\n      <td>-2.186020</td>\n      <td>-0.690328</td>\n    </tr>\n    <tr>\n      <th>1</th>\n      <td>1.706641</td>\n      <td>-0.277960</td>\n      <td>-0.947168</td>\n      <td>-2.254907</td>\n      <td>-0.392397</td>\n    </tr>\n    <tr>\n      <th>2</th>\n      <td>1.732429</td>\n      <td>-0.277960</td>\n      <td>0.501373</td>\n      <td>-2.358239</td>\n      <td>-0.254891</td>\n    </tr>\n    <tr>\n      <th>3</th>\n      <td>2.050474</td>\n      <td>-0.277960</td>\n      <td>-1.210539</td>\n      <td>-1.359368</td>\n      <td>-0.598657</td>\n    </tr>\n    <tr>\n      <th>4</th>\n      <td>1.629279</td>\n      <td>-0.277960</td>\n      <td>-1.078854</td>\n      <td>-0.980486</td>\n      <td>-0.109745</td>\n    </tr>\n    <tr>\n      <th>...</th>\n      <td>...</td>\n      <td>...</td>\n      <td>...</td>\n      <td>...</td>\n      <td>...</td>\n    </tr>\n    <tr>\n      <th>36678</th>\n      <td>-1.078404</td>\n      <td>-0.277960</td>\n      <td>0.172159</td>\n      <td>-0.808267</td>\n      <td>1.028502</td>\n    </tr>\n    <tr>\n      <th>36679</th>\n      <td>-0.811933</td>\n      <td>-0.277960</td>\n      <td>-0.486269</td>\n      <td>-0.601604</td>\n      <td>1.135452</td>\n    </tr>\n    <tr>\n      <th>36680</th>\n      <td>-1.448024</td>\n      <td>-0.277960</td>\n      <td>-1.605596</td>\n      <td>0.121716</td>\n      <td>0.975028</td>\n    </tr>\n    <tr>\n      <th>36681</th>\n      <td>-0.751763</td>\n      <td>1.002858</td>\n      <td>-0.552111</td>\n      <td>-0.153834</td>\n      <td>0.608344</td>\n    </tr>\n    <tr>\n      <th>36682</th>\n      <td>-0.571251</td>\n      <td>0.263924</td>\n      <td>-0.091212</td>\n      <td>-0.119390</td>\n      <td>0.577787</td>\n    </tr>\n  </tbody>\n</table>\n<p>36683 rows × 5 columns</p>\n</div>"
     },
     "metadata": {},
     "execution_count": 5
    }
   ],
   "source": [
    "x = all_X.values #returns a numpy array\n",
    "min_max_scaler = preprocessing.StandardScaler()\n",
    "x_scaled = min_max_scaler.fit_transform(x)\n",
    "all_X = pd.DataFrame(x_scaled)\n",
    "all_X"
   ]
  },
  {
   "cell_type": "code",
   "execution_count": 6,
   "metadata": {},
   "outputs": [
    {
     "output_type": "execute_result",
     "data": {
      "text/plain": "         0\n0      0.0\n1      0.0\n2      0.0\n3      0.0\n4      0.0\n...    ...\n36678  0.0\n36679  0.0\n36680  0.0\n36681  0.0\n36682  0.0\n\n[36683 rows x 1 columns]",
      "text/html": "<div>\n<style scoped>\n    .dataframe tbody tr th:only-of-type {\n        vertical-align: middle;\n    }\n\n    .dataframe tbody tr th {\n        vertical-align: top;\n    }\n\n    .dataframe thead th {\n        text-align: right;\n    }\n</style>\n<table border=\"1\" class=\"dataframe\">\n  <thead>\n    <tr style=\"text-align: right;\">\n      <th></th>\n      <th>0</th>\n    </tr>\n  </thead>\n  <tbody>\n    <tr>\n      <th>0</th>\n      <td>0.0</td>\n    </tr>\n    <tr>\n      <th>1</th>\n      <td>0.0</td>\n    </tr>\n    <tr>\n      <th>2</th>\n      <td>0.0</td>\n    </tr>\n    <tr>\n      <th>3</th>\n      <td>0.0</td>\n    </tr>\n    <tr>\n      <th>4</th>\n      <td>0.0</td>\n    </tr>\n    <tr>\n      <th>...</th>\n      <td>...</td>\n    </tr>\n    <tr>\n      <th>36678</th>\n      <td>0.0</td>\n    </tr>\n    <tr>\n      <th>36679</th>\n      <td>0.0</td>\n    </tr>\n    <tr>\n      <th>36680</th>\n      <td>0.0</td>\n    </tr>\n    <tr>\n      <th>36681</th>\n      <td>0.0</td>\n    </tr>\n    <tr>\n      <th>36682</th>\n      <td>0.0</td>\n    </tr>\n  </tbody>\n</table>\n<p>36683 rows × 1 columns</p>\n</div>"
     },
     "metadata": {},
     "execution_count": 6
    }
   ],
   "source": [
    "for i in enumerate(all_Y): # setting null confidence values to 0\n",
    "    if math.isnan(i[1]):\n",
    "        all_Y[i[0]] = 0"
   ]
  },
  {
   "cell_type": "code",
   "execution_count": 7,
   "metadata": {},
   "outputs": [
    {
     "output_type": "execute_result",
     "data": {
      "text/plain": "0.0007509138822485717"
     },
     "metadata": {},
     "execution_count": 7
    }
   ],
   "source": [
    "X_train, X_test, y_train, y_test = train_test_split(all_X, all_Y)\n",
    "\n",
    "clf = LinearRegression() \n",
    "clf.fit(X_train, y_train)\n",
    "clf.score(X_test, y_test) # this is a surprisingly low score but from what I've seen we shouldn't put too much faith in them\n",
    "                          # i.e. we shouldn't be too worried"
   ]
  },
  {
   "cell_type": "code",
   "execution_count": 31,
   "metadata": {},
   "outputs": [
    {
     "output_type": "execute_result",
     "data": {
      "text/plain": "array([[3.56903626],\n       [3.59532146],\n       [3.56280801],\n       [3.51560953],\n       [3.48011298],\n       [3.52666708],\n       [3.49369973],\n       [3.38968013],\n       [3.21527959],\n       [3.13102455],\n       [3.36681286],\n       [3.47131062],\n       [3.22557548],\n       [3.35889029],\n       [3.35268117],\n       [3.41273447],\n       [3.40077815],\n       [3.48368922],\n       [3.49526584],\n       [3.43003673],\n       [3.37528021],\n       [3.43232559],\n       [3.43821198],\n       [3.40334648],\n       [3.42154259],\n       [3.46672534],\n       [3.40955319],\n       [3.41729899],\n       [3.47729607],\n       [3.43880293],\n       [3.44396548],\n       [3.41840787],\n       [3.46282841],\n       [3.48418028],\n       [3.48566453],\n       [3.47195108],\n       [3.48570806],\n       [3.51769332],\n       [3.49164968],\n       [3.51089827],\n       [3.49974819],\n       [3.48559649],\n       [3.46259349],\n       [3.47015709],\n       [3.2546149 ],\n       [3.38292914],\n       [3.44054096],\n       [3.44598155],\n       [3.33765283],\n       [3.40765163],\n       [3.463712  ],\n       [3.53208479],\n       [3.46848675],\n       [3.45492749],\n       [3.38649279],\n       [3.42648487],\n       [3.34374545],\n       [3.3808682 ],\n       [3.46070648],\n       [3.28935509],\n       [3.48509676],\n       [3.45892147],\n       [3.52961777],\n       [3.46433085],\n       [3.38905613],\n       [3.3433321 ],\n       [3.43068012],\n       [3.46842961],\n       [3.48428218],\n       [3.49804929],\n       [3.50269421],\n       [3.48879339],\n       [3.42527079],\n       [3.50297395],\n       [3.46816141],\n       [3.44117756],\n       [3.32487301],\n       [3.40511544],\n       [3.41566231],\n       [3.50911976]])"
     },
     "metadata": {},
     "execution_count": 31
    }
   ],
   "source": [
    "clf.predict(df.iloc[0:80, cols_to_pick])"
   ]
  },
  {
   "cell_type": "code",
   "execution_count": null,
   "metadata": {},
   "outputs": [],
   "source": []
  }
 ],
 "metadata": {
  "kernelspec": {
   "display_name": "Python 3",
   "language": "python",
   "name": "python3"
  },
  "language_info": {
   "codemirror_mode": {
    "name": "ipython",
    "version": 3
   },
   "file_extension": ".py",
   "mimetype": "text/x-python",
   "name": "python",
   "nbconvert_exporter": "python",
   "pygments_lexer": "ipython3",
   "version": "3.8.2-final"
  }
 },
 "nbformat": 4,
 "nbformat_minor": 2
}