{
 "metadata": {
  "language_info": {
   "codemirror_mode": {
    "name": "ipython",
    "version": 3
   },
   "file_extension": ".py",
   "mimetype": "text/x-python",
   "name": "python",
   "nbconvert_exporter": "python",
   "pygments_lexer": "ipython3",
   "version": "3.8.2-final"
  },
  "orig_nbformat": 2,
  "kernelspec": {
   "name": "Python 3.8.2 64-bit ('3.8.2': conda)",
   "display_name": "Python 3.8.2 64-bit ('3.8.2': conda)",
   "metadata": {
    "interpreter": {
     "hash": "b968f9a99a52a15b1c70403e8c7a53e9f964ddd27d956b947559defaadb1c37a"
    }
   }
  }
 },
 "nbformat": 4,
 "nbformat_minor": 2,
 "cells": [
  {
   "cell_type": "code",
   "execution_count": 46,
   "metadata": {},
   "outputs": [],
   "source": [
    "import pandas as pd\n",
    "import numpy as np\n",
    "import json"
   ]
  },
  {
   "cell_type": "code",
   "execution_count": 42,
   "metadata": {},
   "outputs": [],
   "source": [
    "df = pd.read_csv(\"../../data/chosen_FIRM_clean.csv\")\n",
    "df = df.drop(columns=[\"brightness\", \"bright_t31\"])"
   ]
  },
  {
   "cell_type": "code",
   "execution_count": 50,
   "metadata": {
    "tags": []
   },
   "outputs": [],
   "source": [
    "df_dt = pd.to_datetime(df['acq_date'])\n",
    "df_jan_15 = df[(df_dt.dt.year == 2015) & (df_dt.dt.month == 1)].reset_index().drop(columns=[\"index\", \"Unnamed: 0\"])\n",
    "df_jan_15 = df_jan_15.groupby(\"Location\").mean(0)\n",
    "\n",
    "jan_15_object = {\n",
    "    \"type\": \"FeatureCollection\",\n",
    "    \"features\": []\n",
    "}\n",
    "\n",
    "for i, r in df_jan_15.iterrows():\n",
    "    jan_15_object[\"features\"].append({\n",
    "        \"geometry\": {\n",
    "            \"type\": \"Point\",\n",
    "            \"coordinates\": [r[\"longitude\"], r[\"latitude\"]]\n",
    "        },\n",
    "        \"type\": \"Feature\",\n",
    "        \"properties\": {\n",
    "            \"name\": i,\n",
    "            \"firerisk\": r[\"confidence\"],\n",
    "            \"numfires\": r[\"count\"],\n",
    "        }\n",
    "    })\n",
    "\n",
    "with open(\"../../Javascript/sample_data/jan_15.json\", \"w\") as fp:\n",
    "    json.dump(jan_15_object, fp)"
   ]
  },
  {
   "cell_type": "code",
   "execution_count": 51,
   "metadata": {},
   "outputs": [],
   "source": [
    "df_jan_16 = df[(df_dt.dt.year == 2016) & (df_dt.dt.month == 1)].reset_index()\n",
    "df_jan_16 = df_jan_16.groupby(\"Location\").mean(0)\n",
    "\n",
    "jan_16_object = {\n",
    "    \"type\": \"FeatureCollection\",\n",
    "    \"features\": []\n",
    "}\n",
    "\n",
    "for i, r in df_jan_16.iterrows():\n",
    "    jan_16_object[\"features\"].append({\n",
    "        \"geometry\": {\n",
    "            \"type\": \"Point\",\n",
    "            \"coordinates\": [r[\"longitude\"], r[\"latitude\"]]\n",
    "        },\n",
    "        \"type\": \"Feature\",\n",
    "        \"properties\": {\n",
    "            \"name\": i,\n",
    "            \"firerisk\": r[\"confidence\"],\n",
    "            \"numfires\": r[\"count\"],\n",
    "        }\n",
    "    })\n",
    "\n",
    "with open(\"../../Javascript/sample_data/jan_16.json\", \"w\") as fp:\n",
    "    json.dump(jan_16_object, fp)"
   ]
  },
  {
   "cell_type": "code",
   "execution_count": null,
   "metadata": {},
   "outputs": [],
   "source": [
    "df_jan_17 = df[(df_dt.dt.year == 2017) & (df_dt.dt.month == 1)].reset_index()\n",
    "df_jan_17 = df_jan_17.groupby(\"Location\").mean(0)\n",
    "\n",
    "jan_17_object = {\n",
    "    \"type\": \"FeatureCollection\",\n",
    "    \"features\": []\n",
    "}\n",
    "\n",
    "for i, r in df_jan_17.iterrows():\n",
    "    jan_17_object[\"features\"].append({\n",
    "        \"geometry\": {\n",
    "            \"type\": \"Point\",\n",
    "            \"coordinates\": [r[\"longitude\"], r[\"latitude\"]]\n",
    "        },\n",
    "        \"type\": \"Feature\",\n",
    "        \"properties\": {\n",
    "            \"name\": i,\n",
    "            \"firerisk\": r[\"confidence\"],\n",
    "            \"numfires\": r[\"count\"],\n",
    "        }\n",
    "    })\n",
    "\n",
    "with open(\"../../Javascript/sample_data/jan_17.json\", \"w\") as fp:\n",
    "    json.dump(jan_17_object, fp)"
   ]
  }
 ]
}