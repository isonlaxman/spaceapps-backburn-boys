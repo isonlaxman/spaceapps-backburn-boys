{
 "metadata": {
  "language_info": {
   "codemirror_mode": {
    "name": "ipython",
    "version": 3
   },
   "file_extension": ".py",
   "mimetype": "text/x-python",
   "name": "python",
   "nbconvert_exporter": "python",
   "pygments_lexer": "ipython3",
   "version": "3.8.2-final"
  },
  "orig_nbformat": 2,
  "kernelspec": {
   "name": "Python 3.8.2 64-bit ('3.8.2': conda)",
   "display_name": "Python 3.8.2 64-bit ('3.8.2': conda)",
   "metadata": {
    "interpreter": {
     "hash": "b968f9a99a52a15b1c70403e8c7a53e9f964ddd27d956b947559defaadb1c37a"
    }
   }
  }
 },
 "nbformat": 4,
 "nbformat_minor": 2,
 "cells": [
  {
   "source": [
    "# Imports"
   ],
   "cell_type": "markdown",
   "metadata": {}
  },
  {
   "cell_type": "code",
   "execution_count": 1,
   "metadata": {},
   "outputs": [],
   "source": [
    "import pandas as pd\n",
    "import json"
   ]
  },
  {
   "source": [
    "# Get the bounding boxes"
   ],
   "cell_type": "markdown",
   "metadata": {}
  },
  {
   "cell_type": "code",
   "execution_count": 2,
   "metadata": {},
   "outputs": [],
   "source": [
    "bounding_boxes = {}\n",
    "with open(\"./bounding_boxes.json\") as json_file:\n",
    "    bounding_boxes = json.load(json_file)"
   ]
  },
  {
   "source": [
    "# Clean FIRM"
   ],
   "cell_type": "markdown",
   "metadata": {}
  },
  {
   "source": [
    "### Read"
   ],
   "cell_type": "markdown",
   "metadata": {}
  },
  {
   "cell_type": "code",
   "execution_count": 3,
   "metadata": {},
   "outputs": [],
   "source": [
    "df = pd.read_csv(\"../../data/fire_archive_M6_157443.csv\")\n",
    "df[\"Location\"] = None"
   ]
  },
  {
   "source": [
    "### Round lat long and get rid of duplicates"
   ],
   "cell_type": "markdown",
   "metadata": {}
  },
  {
   "cell_type": "code",
   "execution_count": 4,
   "metadata": {
    "tags": []
   },
   "outputs": [
    {
     "output_type": "execute_result",
     "data": {
      "text/plain": "        latitude  longitude  brightness    acq_date  confidence  bright_t31  \\\n0       -15.8931   136.6094       324.4   1/01/2015          28       302.3   \n1       -14.9764   145.2801       320.6   1/01/2015          24       294.8   \n2       -18.5115   139.5995       331.8   1/01/2015          37       305.0   \n3       -17.1160   122.2857       315.7   1/01/2015           0       294.9   \n4       -18.0797   122.6967       313.7   1/01/2015          31       292.9   \n...          ...        ...         ...         ...         ...         ...   \n671877  -20.6312   119.8370       344.4  31/12/2017          81       322.3   \n671878  -16.7236   129.4765       327.4  31/12/2017          65       295.4   \n671895  -22.4574   134.5212       312.0  31/12/2017          84       297.2   \n671953  -18.3129   134.4838       304.4  31/12/2017          48       277.7   \n671984  -22.7955   117.0622       316.8  31/12/2017          78       293.5   \n\n        type Location       latlong  \n0          0     None  -15.9, 136.6  \n1          0     None  -15.0, 145.3  \n2          0     None  -18.5, 139.6  \n3          0     None  -17.1, 122.3  \n4          0     None  -18.1, 122.7  \n...      ...      ...           ...  \n671877     0     None  -20.6, 119.8  \n671878     0     None  -16.7, 129.5  \n671895     0     None  -22.5, 134.5  \n671953     0     None  -18.3, 134.5  \n671984     0     None  -22.8, 117.1  \n\n[32002 rows x 9 columns]",
      "text/html": "<div>\n<style scoped>\n    .dataframe tbody tr th:only-of-type {\n        vertical-align: middle;\n    }\n\n    .dataframe tbody tr th {\n        vertical-align: top;\n    }\n\n    .dataframe thead th {\n        text-align: right;\n    }\n</style>\n<table border=\"1\" class=\"dataframe\">\n  <thead>\n    <tr style=\"text-align: right;\">\n      <th></th>\n      <th>latitude</th>\n      <th>longitude</th>\n      <th>brightness</th>\n      <th>acq_date</th>\n      <th>confidence</th>\n      <th>bright_t31</th>\n      <th>type</th>\n      <th>Location</th>\n      <th>latlong</th>\n    </tr>\n  </thead>\n  <tbody>\n    <tr>\n      <th>0</th>\n      <td>-15.8931</td>\n      <td>136.6094</td>\n      <td>324.4</td>\n      <td>1/01/2015</td>\n      <td>28</td>\n      <td>302.3</td>\n      <td>0</td>\n      <td>None</td>\n      <td>-15.9, 136.6</td>\n    </tr>\n    <tr>\n      <th>1</th>\n      <td>-14.9764</td>\n      <td>145.2801</td>\n      <td>320.6</td>\n      <td>1/01/2015</td>\n      <td>24</td>\n      <td>294.8</td>\n      <td>0</td>\n      <td>None</td>\n      <td>-15.0, 145.3</td>\n    </tr>\n    <tr>\n      <th>2</th>\n      <td>-18.5115</td>\n      <td>139.5995</td>\n      <td>331.8</td>\n      <td>1/01/2015</td>\n      <td>37</td>\n      <td>305.0</td>\n      <td>0</td>\n      <td>None</td>\n      <td>-18.5, 139.6</td>\n    </tr>\n    <tr>\n      <th>3</th>\n      <td>-17.1160</td>\n      <td>122.2857</td>\n      <td>315.7</td>\n      <td>1/01/2015</td>\n      <td>0</td>\n      <td>294.9</td>\n      <td>0</td>\n      <td>None</td>\n      <td>-17.1, 122.3</td>\n    </tr>\n    <tr>\n      <th>4</th>\n      <td>-18.0797</td>\n      <td>122.6967</td>\n      <td>313.7</td>\n      <td>1/01/2015</td>\n      <td>31</td>\n      <td>292.9</td>\n      <td>0</td>\n      <td>None</td>\n      <td>-18.1, 122.7</td>\n    </tr>\n    <tr>\n      <th>...</th>\n      <td>...</td>\n      <td>...</td>\n      <td>...</td>\n      <td>...</td>\n      <td>...</td>\n      <td>...</td>\n      <td>...</td>\n      <td>...</td>\n      <td>...</td>\n    </tr>\n    <tr>\n      <th>671877</th>\n      <td>-20.6312</td>\n      <td>119.8370</td>\n      <td>344.4</td>\n      <td>31/12/2017</td>\n      <td>81</td>\n      <td>322.3</td>\n      <td>0</td>\n      <td>None</td>\n      <td>-20.6, 119.8</td>\n    </tr>\n    <tr>\n      <th>671878</th>\n      <td>-16.7236</td>\n      <td>129.4765</td>\n      <td>327.4</td>\n      <td>31/12/2017</td>\n      <td>65</td>\n      <td>295.4</td>\n      <td>0</td>\n      <td>None</td>\n      <td>-16.7, 129.5</td>\n    </tr>\n    <tr>\n      <th>671895</th>\n      <td>-22.4574</td>\n      <td>134.5212</td>\n      <td>312.0</td>\n      <td>31/12/2017</td>\n      <td>84</td>\n      <td>297.2</td>\n      <td>0</td>\n      <td>None</td>\n      <td>-22.5, 134.5</td>\n    </tr>\n    <tr>\n      <th>671953</th>\n      <td>-18.3129</td>\n      <td>134.4838</td>\n      <td>304.4</td>\n      <td>31/12/2017</td>\n      <td>48</td>\n      <td>277.7</td>\n      <td>0</td>\n      <td>None</td>\n      <td>-18.3, 134.5</td>\n    </tr>\n    <tr>\n      <th>671984</th>\n      <td>-22.7955</td>\n      <td>117.0622</td>\n      <td>316.8</td>\n      <td>31/12/2017</td>\n      <td>78</td>\n      <td>293.5</td>\n      <td>0</td>\n      <td>None</td>\n      <td>-22.8, 117.1</td>\n    </tr>\n  </tbody>\n</table>\n<p>32002 rows × 9 columns</p>\n</div>"
     },
     "metadata": {},
     "execution_count": 4
    }
   ],
   "source": [
    "df_round = df\n",
    "df_round[\"latlong\"] = df[\"latitude\"].map(lambda x: str(round(x, 1))) + \", \" + df[\"longitude\"].map(lambda x: str(round(x, 1)))\n",
    "df_round = df_round.drop_duplicates(subset=[\"latlong\"])\n",
    "df_round"
   ]
  },
  {
   "source": [
    "### Put city names in FIRM where lat long fall in a bounding box"
   ],
   "cell_type": "markdown",
   "metadata": {}
  },
  {
   "cell_type": "code",
   "execution_count": 5,
   "metadata": {
    "tags": []
   },
   "outputs": [
    {
     "output_type": "stream",
     "name": "stdout",
     "text": "0\n9000\n12000\n16000\n18000\n36000\n41000\n42000\n54000\n57000\n65000\n70000\n74000\n84000\n113000\n114000\n117000\n142000\n171000\n175000\n180000\n189000\n201000\n204000\n209000\n236000\n244000\n263000\n267000\n330000\n348000\n379000\n384000\n399000\n468000\n491000\n556000\n588000\n627000\n635000\n636000\n652000\n"
    }
   ],
   "source": [
    "for i, r in df_round.iterrows():\n",
    "    # lat = r[\"latitude\"]\n",
    "    # lon = r[\"longitude\"]\n",
    "\n",
    "    if i % 1000 == 0:\n",
    "        print(i)\n",
    "\n",
    "    for location, box in bounding_boxes.items():\n",
    "        # print(box, i, location)\n",
    "        # print(lat, lon, lat < box[1], lat > box[0], lon > box[2], lon < box[3])\n",
    "        if r[\"latitude\"] < box[1] and r[\"latitude\"] > box[0] and r[\"longitude\"] > box[2] and r[\"longitude\"] < box[3]:\n",
    "            df_round.loc[i, 'Location'] = location\n",
    "            break\n",
    "        else:\n",
    "            continue"
   ]
  },
  {
   "cell_type": "code",
   "execution_count": 6,
   "metadata": {},
   "outputs": [
    {
     "output_type": "execute_result",
     "data": {
      "text/plain": "        latitude  longitude  brightness    acq_date  confidence  bright_t31  \\\n0       -15.8931   136.6094       324.4   1/01/2015          28       302.3   \n29      -31.9887   115.9483       326.2   1/01/2015          58       307.0   \n30      -32.0663   115.9202       325.5   1/01/2015          45       307.7   \n31      -31.8603   115.9087       324.5   1/01/2015          49       307.4   \n32      -31.7952   115.8318       324.1   1/01/2015          35       307.7   \n...          ...        ...         ...         ...         ...         ...   \n665699  -19.7681   142.9142       334.1  22/12/2017          81       310.4   \n665712  -19.4853   142.2803       337.5  22/12/2017          86       306.2   \n666070  -19.4831   142.2489       370.1  22/12/2017         100       314.6   \n668357  -37.7084   145.0999       327.8  25/12/2017          80       305.9   \n671674  -19.7123   142.1111       330.2  31/12/2017          72       301.0   \n\n        type   Location       latlong  \n0          0       test  -15.9, 136.6  \n29         2      Perth  -32.0, 115.9  \n30         2      Perth  -32.1, 115.9  \n31         2      Perth  -31.9, 115.9  \n32         2      Perth  -31.8, 115.8  \n...      ...        ...           ...  \n665699     0   Richmond  -19.8, 142.9  \n665712     0   Richmond  -19.5, 142.3  \n666070     0   Richmond  -19.5, 142.2  \n668357     2  Melbourne  -37.7, 145.1  \n671674     0   Richmond  -19.7, 142.1  \n\n[441 rows x 9 columns]",
      "text/html": "<div>\n<style scoped>\n    .dataframe tbody tr th:only-of-type {\n        vertical-align: middle;\n    }\n\n    .dataframe tbody tr th {\n        vertical-align: top;\n    }\n\n    .dataframe thead th {\n        text-align: right;\n    }\n</style>\n<table border=\"1\" class=\"dataframe\">\n  <thead>\n    <tr style=\"text-align: right;\">\n      <th></th>\n      <th>latitude</th>\n      <th>longitude</th>\n      <th>brightness</th>\n      <th>acq_date</th>\n      <th>confidence</th>\n      <th>bright_t31</th>\n      <th>type</th>\n      <th>Location</th>\n      <th>latlong</th>\n    </tr>\n  </thead>\n  <tbody>\n    <tr>\n      <th>0</th>\n      <td>-15.8931</td>\n      <td>136.6094</td>\n      <td>324.4</td>\n      <td>1/01/2015</td>\n      <td>28</td>\n      <td>302.3</td>\n      <td>0</td>\n      <td>test</td>\n      <td>-15.9, 136.6</td>\n    </tr>\n    <tr>\n      <th>29</th>\n      <td>-31.9887</td>\n      <td>115.9483</td>\n      <td>326.2</td>\n      <td>1/01/2015</td>\n      <td>58</td>\n      <td>307.0</td>\n      <td>2</td>\n      <td>Perth</td>\n      <td>-32.0, 115.9</td>\n    </tr>\n    <tr>\n      <th>30</th>\n      <td>-32.0663</td>\n      <td>115.9202</td>\n      <td>325.5</td>\n      <td>1/01/2015</td>\n      <td>45</td>\n      <td>307.7</td>\n      <td>2</td>\n      <td>Perth</td>\n      <td>-32.1, 115.9</td>\n    </tr>\n    <tr>\n      <th>31</th>\n      <td>-31.8603</td>\n      <td>115.9087</td>\n      <td>324.5</td>\n      <td>1/01/2015</td>\n      <td>49</td>\n      <td>307.4</td>\n      <td>2</td>\n      <td>Perth</td>\n      <td>-31.9, 115.9</td>\n    </tr>\n    <tr>\n      <th>32</th>\n      <td>-31.7952</td>\n      <td>115.8318</td>\n      <td>324.1</td>\n      <td>1/01/2015</td>\n      <td>35</td>\n      <td>307.7</td>\n      <td>2</td>\n      <td>Perth</td>\n      <td>-31.8, 115.8</td>\n    </tr>\n    <tr>\n      <th>...</th>\n      <td>...</td>\n      <td>...</td>\n      <td>...</td>\n      <td>...</td>\n      <td>...</td>\n      <td>...</td>\n      <td>...</td>\n      <td>...</td>\n      <td>...</td>\n    </tr>\n    <tr>\n      <th>665699</th>\n      <td>-19.7681</td>\n      <td>142.9142</td>\n      <td>334.1</td>\n      <td>22/12/2017</td>\n      <td>81</td>\n      <td>310.4</td>\n      <td>0</td>\n      <td>Richmond</td>\n      <td>-19.8, 142.9</td>\n    </tr>\n    <tr>\n      <th>665712</th>\n      <td>-19.4853</td>\n      <td>142.2803</td>\n      <td>337.5</td>\n      <td>22/12/2017</td>\n      <td>86</td>\n      <td>306.2</td>\n      <td>0</td>\n      <td>Richmond</td>\n      <td>-19.5, 142.3</td>\n    </tr>\n    <tr>\n      <th>666070</th>\n      <td>-19.4831</td>\n      <td>142.2489</td>\n      <td>370.1</td>\n      <td>22/12/2017</td>\n      <td>100</td>\n      <td>314.6</td>\n      <td>0</td>\n      <td>Richmond</td>\n      <td>-19.5, 142.2</td>\n    </tr>\n    <tr>\n      <th>668357</th>\n      <td>-37.7084</td>\n      <td>145.0999</td>\n      <td>327.8</td>\n      <td>25/12/2017</td>\n      <td>80</td>\n      <td>305.9</td>\n      <td>2</td>\n      <td>Melbourne</td>\n      <td>-37.7, 145.1</td>\n    </tr>\n    <tr>\n      <th>671674</th>\n      <td>-19.7123</td>\n      <td>142.1111</td>\n      <td>330.2</td>\n      <td>31/12/2017</td>\n      <td>72</td>\n      <td>301.0</td>\n      <td>0</td>\n      <td>Richmond</td>\n      <td>-19.7, 142.1</td>\n    </tr>\n  </tbody>\n</table>\n<p>441 rows × 9 columns</p>\n</div>"
     },
     "metadata": {},
     "execution_count": 6
    }
   ],
   "source": [
    "df_chosen = df_round.dropna()\n",
    "df_chosen"
   ]
  },
  {
   "source": [
    "### Write the file"
   ],
   "cell_type": "markdown",
   "metadata": {}
  },
  {
   "cell_type": "code",
   "execution_count": 7,
   "metadata": {},
   "outputs": [],
   "source": [
    "df_chosen.to_csv(\"../../data/chosen_FIRN.csv\")"
   ]
  },
  {
   "source": [
    "# Group and count "
   ],
   "cell_type": "markdown",
   "metadata": {}
  },
  {
   "cell_type": "code",
   "execution_count": 8,
   "metadata": {},
   "outputs": [
    {
     "output_type": "execute_result",
     "data": {
      "text/plain": "       Location    acq_date  count  latitude  longitude  brightness  \\\n0      Adelaide  12/05/2015      1  -35.1873   138.6786       313.7   \n1      Adelaide  15/03/2015      1  -35.0109   138.5761       316.1   \n2      Adelaide  15/04/2015      1  -34.6313   138.8095       353.0   \n3      Adelaide   2/01/2015      1  -34.7548   138.7946       410.6   \n4      Adelaide  22/04/2015      1  -35.0766   138.7239       301.4   \n..          ...         ...    ...       ...        ...         ...   \n331  Wollongong  24/05/2017      1  -34.5751   150.7834       301.7   \n332  Wollongong  25/11/2016      1  -34.3663   150.9096       309.1   \n333  Wollongong   4/01/2015      1  -34.4583   150.8844       326.8   \n334  Wollongong   4/11/2016      1  -34.4257   150.8099       326.5   \n335        test   1/01/2015      1  -15.8931   136.6094       324.4   \n\n     bright_t31  confidence  \n0         281.8        74.0  \n1         297.9        58.0  \n2         302.6        96.0  \n3         328.2       100.0  \n4         286.2        37.0  \n..          ...         ...  \n331       289.4        48.0  \n332       297.7         0.0  \n333       304.2        60.0  \n334       298.3        82.0  \n335       302.3        28.0  \n\n[336 rows x 8 columns]",
      "text/html": "<div>\n<style scoped>\n    .dataframe tbody tr th:only-of-type {\n        vertical-align: middle;\n    }\n\n    .dataframe tbody tr th {\n        vertical-align: top;\n    }\n\n    .dataframe thead th {\n        text-align: right;\n    }\n</style>\n<table border=\"1\" class=\"dataframe\">\n  <thead>\n    <tr style=\"text-align: right;\">\n      <th></th>\n      <th>Location</th>\n      <th>acq_date</th>\n      <th>count</th>\n      <th>latitude</th>\n      <th>longitude</th>\n      <th>brightness</th>\n      <th>bright_t31</th>\n      <th>confidence</th>\n    </tr>\n  </thead>\n  <tbody>\n    <tr>\n      <th>0</th>\n      <td>Adelaide</td>\n      <td>12/05/2015</td>\n      <td>1</td>\n      <td>-35.1873</td>\n      <td>138.6786</td>\n      <td>313.7</td>\n      <td>281.8</td>\n      <td>74.0</td>\n    </tr>\n    <tr>\n      <th>1</th>\n      <td>Adelaide</td>\n      <td>15/03/2015</td>\n      <td>1</td>\n      <td>-35.0109</td>\n      <td>138.5761</td>\n      <td>316.1</td>\n      <td>297.9</td>\n      <td>58.0</td>\n    </tr>\n    <tr>\n      <th>2</th>\n      <td>Adelaide</td>\n      <td>15/04/2015</td>\n      <td>1</td>\n      <td>-34.6313</td>\n      <td>138.8095</td>\n      <td>353.0</td>\n      <td>302.6</td>\n      <td>96.0</td>\n    </tr>\n    <tr>\n      <th>3</th>\n      <td>Adelaide</td>\n      <td>2/01/2015</td>\n      <td>1</td>\n      <td>-34.7548</td>\n      <td>138.7946</td>\n      <td>410.6</td>\n      <td>328.2</td>\n      <td>100.0</td>\n    </tr>\n    <tr>\n      <th>4</th>\n      <td>Adelaide</td>\n      <td>22/04/2015</td>\n      <td>1</td>\n      <td>-35.0766</td>\n      <td>138.7239</td>\n      <td>301.4</td>\n      <td>286.2</td>\n      <td>37.0</td>\n    </tr>\n    <tr>\n      <th>...</th>\n      <td>...</td>\n      <td>...</td>\n      <td>...</td>\n      <td>...</td>\n      <td>...</td>\n      <td>...</td>\n      <td>...</td>\n      <td>...</td>\n    </tr>\n    <tr>\n      <th>331</th>\n      <td>Wollongong</td>\n      <td>24/05/2017</td>\n      <td>1</td>\n      <td>-34.5751</td>\n      <td>150.7834</td>\n      <td>301.7</td>\n      <td>289.4</td>\n      <td>48.0</td>\n    </tr>\n    <tr>\n      <th>332</th>\n      <td>Wollongong</td>\n      <td>25/11/2016</td>\n      <td>1</td>\n      <td>-34.3663</td>\n      <td>150.9096</td>\n      <td>309.1</td>\n      <td>297.7</td>\n      <td>0.0</td>\n    </tr>\n    <tr>\n      <th>333</th>\n      <td>Wollongong</td>\n      <td>4/01/2015</td>\n      <td>1</td>\n      <td>-34.4583</td>\n      <td>150.8844</td>\n      <td>326.8</td>\n      <td>304.2</td>\n      <td>60.0</td>\n    </tr>\n    <tr>\n      <th>334</th>\n      <td>Wollongong</td>\n      <td>4/11/2016</td>\n      <td>1</td>\n      <td>-34.4257</td>\n      <td>150.8099</td>\n      <td>326.5</td>\n      <td>298.3</td>\n      <td>82.0</td>\n    </tr>\n    <tr>\n      <th>335</th>\n      <td>test</td>\n      <td>1/01/2015</td>\n      <td>1</td>\n      <td>-15.8931</td>\n      <td>136.6094</td>\n      <td>324.4</td>\n      <td>302.3</td>\n      <td>28.0</td>\n    </tr>\n  </tbody>\n</table>\n<p>336 rows × 8 columns</p>\n</div>"
     },
     "metadata": {},
     "execution_count": 8
    }
   ],
   "source": [
    "clean_FIRM_df = df_chosen\n",
    "clean_FIRM_df[\"count\"] = 1\n",
    "clean_FIRM_df = clean_FIRM_df.groupby(['Location', 'acq_date']).agg({'count': 'size', 'latitude': 'mean', 'longitude': 'mean', 'brightness': 'mean', 'bright_t31': 'mean', 'confidence': 'mean'}).reset_index()\n",
    "\n",
    "clean_FIRM_df.to_csv(\"../../data/chosen_FIRM_clean.csv\")\n",
    "clean_FIRM_df"
   ]
  },
  {
   "source": [
    "# Merge"
   ],
   "cell_type": "markdown",
   "metadata": {}
  },
  {
   "source": [
    "### Read weather data"
   ],
   "cell_type": "markdown",
   "metadata": {}
  },
  {
   "cell_type": "code",
   "execution_count": 9,
   "metadata": {
    "tags": []
   },
   "outputs": [],
   "source": [
    "weather_df = pd.read_csv(\"../../data/weatherAUS.csv\")"
   ]
  },
  {
   "source": [
    "### Perform the merge based on location + date"
   ],
   "cell_type": "markdown",
   "metadata": {}
  },
  {
   "cell_type": "code",
   "execution_count": 17,
   "metadata": {},
   "outputs": [
    {
     "output_type": "execute_result",
     "data": {
      "text/plain": "             Date Location  MinTemp  MaxTemp AvgTemp  Rainfall WindGustDir  \\\n0       1/01/2015   Albury     11.4     33.5   22.45       0.0         WSW   \n1       2/01/2015   Albury     15.5     39.6   27.55       0.0          NE   \n2       3/01/2015   Albury     17.1     38.3    27.7       0.0         NNE   \n3       4/01/2015   Albury     26.0     33.1   29.55       0.0         NNE   \n4       5/01/2015   Albury     19.0     35.2    27.1       0.0           E   \n...           ...      ...      ...      ...     ...       ...         ...   \n38531  29/12/2016   Hobart      2.6     17.7   13.25      10.4          SE   \n38532  30/12/2016   Hobart      3.2     19.5    14.3       4.4           W   \n38533  31/12/2016   Hobart      5.7     20.1    8.55       1.0         WNW   \n38534   1/01/2017   Hobart     12.8     23.7   10.15      11.0         WNW   \n38535   2/01/2017   Hobart      9.0     24.1   11.35       7.8         WNW   \n\n       WindGustSpeed WindDir9am WindDir3pm  ...  Pressure  Temp9am Temp3pm  \\\n0                 30        ESE          W  ...   1012.25     21.0    32.7   \n1                 56        ESE        ESE  ...   1014.20     25.6    38.2   \n2                 48         NE          N  ...   1015.10     29.2    37.0   \n3                 41        ESE          W  ...   1012.85     27.4    30.9   \n4                 33        SSE         SE  ...   1016.05     25.6    32.5   \n...              ...        ...        ...  ...       ...      ...     ...   \n38531             33        SSE        ESE  ...   1020.75     17.2    33.4   \n38532             35         SE         NE  ...   1020.55     15.2    34.3   \n38533             41         NE        NNW  ...   1023.50     17.9    36.4   \n38534             57         NE         NW  ...   1021.00     15.9    38.0   \n38535             26        ESE         SW  ...   1019.40     12.1    37.1   \n\n       acq_date  count latitude  longitude  brightness  bright_t31  confidence  \n0           NaN    NaN      NaN        NaN         NaN         NaN         NaN  \n1           NaN    NaN      NaN        NaN         NaN         NaN         NaN  \n2           NaN    NaN      NaN        NaN         NaN         NaN         NaN  \n3           NaN    NaN      NaN        NaN         NaN         NaN         NaN  \n4           NaN    NaN      NaN        NaN         NaN         NaN         NaN  \n...         ...    ...      ...        ...         ...         ...         ...  \n38531       NaN    NaN      NaN        NaN         NaN         NaN         NaN  \n38532       NaN    NaN      NaN        NaN         NaN         NaN         NaN  \n38533       NaN    NaN      NaN        NaN         NaN         NaN         NaN  \n38534       NaN    NaN      NaN        NaN         NaN         NaN         NaN  \n38535       NaN    NaN      NaN        NaN         NaN         NaN         NaN  \n\n[38536 rows x 28 columns]",
      "text/html": "<div>\n<style scoped>\n    .dataframe tbody tr th:only-of-type {\n        vertical-align: middle;\n    }\n\n    .dataframe tbody tr th {\n        vertical-align: top;\n    }\n\n    .dataframe thead th {\n        text-align: right;\n    }\n</style>\n<table border=\"1\" class=\"dataframe\">\n  <thead>\n    <tr style=\"text-align: right;\">\n      <th></th>\n      <th>Date</th>\n      <th>Location</th>\n      <th>MinTemp</th>\n      <th>MaxTemp</th>\n      <th>AvgTemp</th>\n      <th>Rainfall</th>\n      <th>WindGustDir</th>\n      <th>WindGustSpeed</th>\n      <th>WindDir9am</th>\n      <th>WindDir3pm</th>\n      <th>...</th>\n      <th>Pressure</th>\n      <th>Temp9am</th>\n      <th>Temp3pm</th>\n      <th>acq_date</th>\n      <th>count</th>\n      <th>latitude</th>\n      <th>longitude</th>\n      <th>brightness</th>\n      <th>bright_t31</th>\n      <th>confidence</th>\n    </tr>\n  </thead>\n  <tbody>\n    <tr>\n      <th>0</th>\n      <td>1/01/2015</td>\n      <td>Albury</td>\n      <td>11.4</td>\n      <td>33.5</td>\n      <td>22.45</td>\n      <td>0.0</td>\n      <td>WSW</td>\n      <td>30</td>\n      <td>ESE</td>\n      <td>W</td>\n      <td>...</td>\n      <td>1012.25</td>\n      <td>21.0</td>\n      <td>32.7</td>\n      <td>NaN</td>\n      <td>NaN</td>\n      <td>NaN</td>\n      <td>NaN</td>\n      <td>NaN</td>\n      <td>NaN</td>\n      <td>NaN</td>\n    </tr>\n    <tr>\n      <th>1</th>\n      <td>2/01/2015</td>\n      <td>Albury</td>\n      <td>15.5</td>\n      <td>39.6</td>\n      <td>27.55</td>\n      <td>0.0</td>\n      <td>NE</td>\n      <td>56</td>\n      <td>ESE</td>\n      <td>ESE</td>\n      <td>...</td>\n      <td>1014.20</td>\n      <td>25.6</td>\n      <td>38.2</td>\n      <td>NaN</td>\n      <td>NaN</td>\n      <td>NaN</td>\n      <td>NaN</td>\n      <td>NaN</td>\n      <td>NaN</td>\n      <td>NaN</td>\n    </tr>\n    <tr>\n      <th>2</th>\n      <td>3/01/2015</td>\n      <td>Albury</td>\n      <td>17.1</td>\n      <td>38.3</td>\n      <td>27.7</td>\n      <td>0.0</td>\n      <td>NNE</td>\n      <td>48</td>\n      <td>NE</td>\n      <td>N</td>\n      <td>...</td>\n      <td>1015.10</td>\n      <td>29.2</td>\n      <td>37.0</td>\n      <td>NaN</td>\n      <td>NaN</td>\n      <td>NaN</td>\n      <td>NaN</td>\n      <td>NaN</td>\n      <td>NaN</td>\n      <td>NaN</td>\n    </tr>\n    <tr>\n      <th>3</th>\n      <td>4/01/2015</td>\n      <td>Albury</td>\n      <td>26.0</td>\n      <td>33.1</td>\n      <td>29.55</td>\n      <td>0.0</td>\n      <td>NNE</td>\n      <td>41</td>\n      <td>ESE</td>\n      <td>W</td>\n      <td>...</td>\n      <td>1012.85</td>\n      <td>27.4</td>\n      <td>30.9</td>\n      <td>NaN</td>\n      <td>NaN</td>\n      <td>NaN</td>\n      <td>NaN</td>\n      <td>NaN</td>\n      <td>NaN</td>\n      <td>NaN</td>\n    </tr>\n    <tr>\n      <th>4</th>\n      <td>5/01/2015</td>\n      <td>Albury</td>\n      <td>19.0</td>\n      <td>35.2</td>\n      <td>27.1</td>\n      <td>0.0</td>\n      <td>E</td>\n      <td>33</td>\n      <td>SSE</td>\n      <td>SE</td>\n      <td>...</td>\n      <td>1016.05</td>\n      <td>25.6</td>\n      <td>32.5</td>\n      <td>NaN</td>\n      <td>NaN</td>\n      <td>NaN</td>\n      <td>NaN</td>\n      <td>NaN</td>\n      <td>NaN</td>\n      <td>NaN</td>\n    </tr>\n    <tr>\n      <th>...</th>\n      <td>...</td>\n      <td>...</td>\n      <td>...</td>\n      <td>...</td>\n      <td>...</td>\n      <td>...</td>\n      <td>...</td>\n      <td>...</td>\n      <td>...</td>\n      <td>...</td>\n      <td>...</td>\n      <td>...</td>\n      <td>...</td>\n      <td>...</td>\n      <td>...</td>\n      <td>...</td>\n      <td>...</td>\n      <td>...</td>\n      <td>...</td>\n      <td>...</td>\n      <td>...</td>\n    </tr>\n    <tr>\n      <th>38531</th>\n      <td>29/12/2016</td>\n      <td>Hobart</td>\n      <td>2.6</td>\n      <td>17.7</td>\n      <td>13.25</td>\n      <td>10.4</td>\n      <td>SE</td>\n      <td>33</td>\n      <td>SSE</td>\n      <td>ESE</td>\n      <td>...</td>\n      <td>1020.75</td>\n      <td>17.2</td>\n      <td>33.4</td>\n      <td>NaN</td>\n      <td>NaN</td>\n      <td>NaN</td>\n      <td>NaN</td>\n      <td>NaN</td>\n      <td>NaN</td>\n      <td>NaN</td>\n    </tr>\n    <tr>\n      <th>38532</th>\n      <td>30/12/2016</td>\n      <td>Hobart</td>\n      <td>3.2</td>\n      <td>19.5</td>\n      <td>14.3</td>\n      <td>4.4</td>\n      <td>W</td>\n      <td>35</td>\n      <td>SE</td>\n      <td>NE</td>\n      <td>...</td>\n      <td>1020.55</td>\n      <td>15.2</td>\n      <td>34.3</td>\n      <td>NaN</td>\n      <td>NaN</td>\n      <td>NaN</td>\n      <td>NaN</td>\n      <td>NaN</td>\n      <td>NaN</td>\n      <td>NaN</td>\n    </tr>\n    <tr>\n      <th>38533</th>\n      <td>31/12/2016</td>\n      <td>Hobart</td>\n      <td>5.7</td>\n      <td>20.1</td>\n      <td>8.55</td>\n      <td>1.0</td>\n      <td>WNW</td>\n      <td>41</td>\n      <td>NE</td>\n      <td>NNW</td>\n      <td>...</td>\n      <td>1023.50</td>\n      <td>17.9</td>\n      <td>36.4</td>\n      <td>NaN</td>\n      <td>NaN</td>\n      <td>NaN</td>\n      <td>NaN</td>\n      <td>NaN</td>\n      <td>NaN</td>\n      <td>NaN</td>\n    </tr>\n    <tr>\n      <th>38534</th>\n      <td>1/01/2017</td>\n      <td>Hobart</td>\n      <td>12.8</td>\n      <td>23.7</td>\n      <td>10.15</td>\n      <td>11.0</td>\n      <td>WNW</td>\n      <td>57</td>\n      <td>NE</td>\n      <td>NW</td>\n      <td>...</td>\n      <td>1021.00</td>\n      <td>15.9</td>\n      <td>38.0</td>\n      <td>NaN</td>\n      <td>NaN</td>\n      <td>NaN</td>\n      <td>NaN</td>\n      <td>NaN</td>\n      <td>NaN</td>\n      <td>NaN</td>\n    </tr>\n    <tr>\n      <th>38535</th>\n      <td>2/01/2017</td>\n      <td>Hobart</td>\n      <td>9.0</td>\n      <td>24.1</td>\n      <td>11.35</td>\n      <td>7.8</td>\n      <td>WNW</td>\n      <td>26</td>\n      <td>ESE</td>\n      <td>SW</td>\n      <td>...</td>\n      <td>1019.40</td>\n      <td>12.1</td>\n      <td>37.1</td>\n      <td>NaN</td>\n      <td>NaN</td>\n      <td>NaN</td>\n      <td>NaN</td>\n      <td>NaN</td>\n      <td>NaN</td>\n      <td>NaN</td>\n    </tr>\n  </tbody>\n</table>\n<p>38536 rows × 28 columns</p>\n</div>"
     },
     "metadata": {},
     "execution_count": 17
    }
   ],
   "source": [
    "merged_df = weather_df.merge(clean_FIRM_df, left_on=[\"Location\", \"Date\"], right_on=[\"Location\", \"acq_date\"], how=\"left\")\n",
    "merged_df"
   ]
  },
  {
   "source": [
    "### Write to CSV"
   ],
   "cell_type": "markdown",
   "metadata": {}
  },
  {
   "cell_type": "code",
   "execution_count": 18,
   "metadata": {},
   "outputs": [],
   "source": [
    "merged_df.to_csv(\"../../data/final_ML_data.csv\")"
   ]
  },
  {
   "cell_type": "code",
   "execution_count": null,
   "metadata": {},
   "outputs": [],
   "source": []
  }
 ]
}