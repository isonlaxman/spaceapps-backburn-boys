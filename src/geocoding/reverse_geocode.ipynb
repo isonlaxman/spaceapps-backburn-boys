{
 "metadata": {
  "language_info": {
   "codemirror_mode": {
    "name": "ipython",
    "version": 3
   },
   "file_extension": ".py",
   "mimetype": "text/x-python",
   "name": "python",
   "nbconvert_exporter": "python",
   "pygments_lexer": "ipython3",
   "version": "3.8.2-final"
  },
  "orig_nbformat": 2,
  "kernelspec": {
   "name": "Python 3.8.2 64-bit ('3.8.2': conda)",
   "display_name": "Python 3.8.2 64-bit ('3.8.2': conda)",
   "metadata": {
    "interpreter": {
     "hash": "b968f9a99a52a15b1c70403e8c7a53e9f964ddd27d956b947559defaadb1c37a"
    }
   }
  }
 },
 "nbformat": 4,
 "nbformat_minor": 2,
 "cells": [
  {
   "source": [
    "# Reverse Geocoder"
   ],
   "cell_type": "markdown",
   "metadata": {}
  },
  {
   "source": [
    "### Imports"
   ],
   "cell_type": "markdown",
   "metadata": {}
  },
  {
   "cell_type": "code",
   "execution_count": 1,
   "metadata": {},
   "outputs": [],
   "source": [
    "import pandas as pd\n",
    "import geopandas as gpd\n",
    "import geopy\n",
    "from geopy.geocoders import Nominatim\n",
    "from geopy.extra.rate_limiter import RateLimiter\n",
    "import matplotlib.pyplot as plt\n",
    "import plotly_express as px\n",
    "import tqdm\n",
    "from tqdm._tqdm_notebook import tqdm_notebook"
   ]
  },
  {
   "source": [
    "### Reading in the CSV"
   ],
   "cell_type": "markdown",
   "metadata": {}
  },
  {
   "source": [
    "df = pd.read_csv(\"../data/fire_archive_M6_157443.csv\")\n",
    "df"
   ],
   "cell_type": "code",
   "metadata": {},
   "execution_count": 3,
   "outputs": [
    {
     "output_type": "execute_result",
     "data": {
      "text/plain": "        latitude  longitude  brightness    acq_date  confidence  bright_t31  \\\n0       -15.8931   136.6094       324.4   1/01/2015          28       302.3   \n1       -14.9764   145.2801       320.6   1/01/2015          24       294.8   \n2       -18.5115   139.5995       331.8   1/01/2015          37       305.0   \n3       -17.1160   122.2857       315.7   1/01/2015           0       294.9   \n4       -18.0797   122.6967       313.7   1/01/2015          31       292.9   \n...          ...        ...         ...         ...         ...         ...   \n671992  -22.4415   134.5244       314.9  31/12/2017          88       296.6   \n671993  -22.4800   134.5289       308.8  31/12/2017          69       295.7   \n671994  -22.4323   134.5258       313.8  31/12/2017          86       296.4   \n671995  -22.4707   134.5303       313.1  31/12/2017          83       296.7   \n671996  -22.2666   136.8796       308.1  31/12/2017          68       297.2   \n\n        type  \n0          0  \n1          0  \n2          0  \n3          0  \n4          0  \n...      ...  \n671992     0  \n671993     0  \n671994     0  \n671995     0  \n671996     0  \n\n[671997 rows x 7 columns]",
      "text/html": "<div>\n<style scoped>\n    .dataframe tbody tr th:only-of-type {\n        vertical-align: middle;\n    }\n\n    .dataframe tbody tr th {\n        vertical-align: top;\n    }\n\n    .dataframe thead th {\n        text-align: right;\n    }\n</style>\n<table border=\"1\" class=\"dataframe\">\n  <thead>\n    <tr style=\"text-align: right;\">\n      <th></th>\n      <th>latitude</th>\n      <th>longitude</th>\n      <th>brightness</th>\n      <th>acq_date</th>\n      <th>confidence</th>\n      <th>bright_t31</th>\n      <th>type</th>\n    </tr>\n  </thead>\n  <tbody>\n    <tr>\n      <th>0</th>\n      <td>-15.8931</td>\n      <td>136.6094</td>\n      <td>324.4</td>\n      <td>1/01/2015</td>\n      <td>28</td>\n      <td>302.3</td>\n      <td>0</td>\n    </tr>\n    <tr>\n      <th>1</th>\n      <td>-14.9764</td>\n      <td>145.2801</td>\n      <td>320.6</td>\n      <td>1/01/2015</td>\n      <td>24</td>\n      <td>294.8</td>\n      <td>0</td>\n    </tr>\n    <tr>\n      <th>2</th>\n      <td>-18.5115</td>\n      <td>139.5995</td>\n      <td>331.8</td>\n      <td>1/01/2015</td>\n      <td>37</td>\n      <td>305.0</td>\n      <td>0</td>\n    </tr>\n    <tr>\n      <th>3</th>\n      <td>-17.1160</td>\n      <td>122.2857</td>\n      <td>315.7</td>\n      <td>1/01/2015</td>\n      <td>0</td>\n      <td>294.9</td>\n      <td>0</td>\n    </tr>\n    <tr>\n      <th>4</th>\n      <td>-18.0797</td>\n      <td>122.6967</td>\n      <td>313.7</td>\n      <td>1/01/2015</td>\n      <td>31</td>\n      <td>292.9</td>\n      <td>0</td>\n    </tr>\n    <tr>\n      <th>...</th>\n      <td>...</td>\n      <td>...</td>\n      <td>...</td>\n      <td>...</td>\n      <td>...</td>\n      <td>...</td>\n      <td>...</td>\n    </tr>\n    <tr>\n      <th>671992</th>\n      <td>-22.4415</td>\n      <td>134.5244</td>\n      <td>314.9</td>\n      <td>31/12/2017</td>\n      <td>88</td>\n      <td>296.6</td>\n      <td>0</td>\n    </tr>\n    <tr>\n      <th>671993</th>\n      <td>-22.4800</td>\n      <td>134.5289</td>\n      <td>308.8</td>\n      <td>31/12/2017</td>\n      <td>69</td>\n      <td>295.7</td>\n      <td>0</td>\n    </tr>\n    <tr>\n      <th>671994</th>\n      <td>-22.4323</td>\n      <td>134.5258</td>\n      <td>313.8</td>\n      <td>31/12/2017</td>\n      <td>86</td>\n      <td>296.4</td>\n      <td>0</td>\n    </tr>\n    <tr>\n      <th>671995</th>\n      <td>-22.4707</td>\n      <td>134.5303</td>\n      <td>313.1</td>\n      <td>31/12/2017</td>\n      <td>83</td>\n      <td>296.7</td>\n      <td>0</td>\n    </tr>\n    <tr>\n      <th>671996</th>\n      <td>-22.2666</td>\n      <td>136.8796</td>\n      <td>308.1</td>\n      <td>31/12/2017</td>\n      <td>68</td>\n      <td>297.2</td>\n      <td>0</td>\n    </tr>\n  </tbody>\n</table>\n<p>671997 rows × 7 columns</p>\n</div>"
     },
     "metadata": {},
     "execution_count": 3
    }
   ]
  },
  {
   "cell_type": "code",
   "execution_count": 4,
   "metadata": {},
   "outputs": [
    {
     "output_type": "execute_result",
     "data": {
      "text/plain": "        latitude  longitude  brightness    acq_date  confidence  bright_t31  \\\n0       -15.8931   136.6094       324.4   1/01/2015          28       302.3   \n1       -14.9764   145.2801       320.6   1/01/2015          24       294.8   \n2       -18.5115   139.5995       331.8   1/01/2015          37       305.0   \n3       -17.1160   122.2857       315.7   1/01/2015           0       294.9   \n4       -18.0797   122.6967       313.7   1/01/2015          31       292.9   \n...          ...        ...         ...         ...         ...         ...   \n671992  -22.4415   134.5244       314.9  31/12/2017          88       296.6   \n671993  -22.4800   134.5289       308.8  31/12/2017          69       295.7   \n671994  -22.4323   134.5258       313.8  31/12/2017          86       296.4   \n671995  -22.4707   134.5303       313.1  31/12/2017          83       296.7   \n671996  -22.2666   136.8796       308.1  31/12/2017          68       297.2   \n\n        type       latlong  \n0          0  -15.9, 136.6  \n1          0  -15.0, 145.3  \n2          0  -18.5, 139.6  \n3          0  -17.1, 122.3  \n4          0  -18.1, 122.7  \n...      ...           ...  \n671992     0  -22.4, 134.5  \n671993     0  -22.5, 134.5  \n671994     0  -22.4, 134.5  \n671995     0  -22.5, 134.5  \n671996     0  -22.3, 136.9  \n\n[671997 rows x 8 columns]",
      "text/html": "<div>\n<style scoped>\n    .dataframe tbody tr th:only-of-type {\n        vertical-align: middle;\n    }\n\n    .dataframe tbody tr th {\n        vertical-align: top;\n    }\n\n    .dataframe thead th {\n        text-align: right;\n    }\n</style>\n<table border=\"1\" class=\"dataframe\">\n  <thead>\n    <tr style=\"text-align: right;\">\n      <th></th>\n      <th>latitude</th>\n      <th>longitude</th>\n      <th>brightness</th>\n      <th>acq_date</th>\n      <th>confidence</th>\n      <th>bright_t31</th>\n      <th>type</th>\n      <th>latlong</th>\n    </tr>\n  </thead>\n  <tbody>\n    <tr>\n      <th>0</th>\n      <td>-15.8931</td>\n      <td>136.6094</td>\n      <td>324.4</td>\n      <td>1/01/2015</td>\n      <td>28</td>\n      <td>302.3</td>\n      <td>0</td>\n      <td>-15.9, 136.6</td>\n    </tr>\n    <tr>\n      <th>1</th>\n      <td>-14.9764</td>\n      <td>145.2801</td>\n      <td>320.6</td>\n      <td>1/01/2015</td>\n      <td>24</td>\n      <td>294.8</td>\n      <td>0</td>\n      <td>-15.0, 145.3</td>\n    </tr>\n    <tr>\n      <th>2</th>\n      <td>-18.5115</td>\n      <td>139.5995</td>\n      <td>331.8</td>\n      <td>1/01/2015</td>\n      <td>37</td>\n      <td>305.0</td>\n      <td>0</td>\n      <td>-18.5, 139.6</td>\n    </tr>\n    <tr>\n      <th>3</th>\n      <td>-17.1160</td>\n      <td>122.2857</td>\n      <td>315.7</td>\n      <td>1/01/2015</td>\n      <td>0</td>\n      <td>294.9</td>\n      <td>0</td>\n      <td>-17.1, 122.3</td>\n    </tr>\n    <tr>\n      <th>4</th>\n      <td>-18.0797</td>\n      <td>122.6967</td>\n      <td>313.7</td>\n      <td>1/01/2015</td>\n      <td>31</td>\n      <td>292.9</td>\n      <td>0</td>\n      <td>-18.1, 122.7</td>\n    </tr>\n    <tr>\n      <th>...</th>\n      <td>...</td>\n      <td>...</td>\n      <td>...</td>\n      <td>...</td>\n      <td>...</td>\n      <td>...</td>\n      <td>...</td>\n      <td>...</td>\n    </tr>\n    <tr>\n      <th>671992</th>\n      <td>-22.4415</td>\n      <td>134.5244</td>\n      <td>314.9</td>\n      <td>31/12/2017</td>\n      <td>88</td>\n      <td>296.6</td>\n      <td>0</td>\n      <td>-22.4, 134.5</td>\n    </tr>\n    <tr>\n      <th>671993</th>\n      <td>-22.4800</td>\n      <td>134.5289</td>\n      <td>308.8</td>\n      <td>31/12/2017</td>\n      <td>69</td>\n      <td>295.7</td>\n      <td>0</td>\n      <td>-22.5, 134.5</td>\n    </tr>\n    <tr>\n      <th>671994</th>\n      <td>-22.4323</td>\n      <td>134.5258</td>\n      <td>313.8</td>\n      <td>31/12/2017</td>\n      <td>86</td>\n      <td>296.4</td>\n      <td>0</td>\n      <td>-22.4, 134.5</td>\n    </tr>\n    <tr>\n      <th>671995</th>\n      <td>-22.4707</td>\n      <td>134.5303</td>\n      <td>313.1</td>\n      <td>31/12/2017</td>\n      <td>83</td>\n      <td>296.7</td>\n      <td>0</td>\n      <td>-22.5, 134.5</td>\n    </tr>\n    <tr>\n      <th>671996</th>\n      <td>-22.2666</td>\n      <td>136.8796</td>\n      <td>308.1</td>\n      <td>31/12/2017</td>\n      <td>68</td>\n      <td>297.2</td>\n      <td>0</td>\n      <td>-22.3, 136.9</td>\n    </tr>\n  </tbody>\n</table>\n<p>671997 rows × 8 columns</p>\n</div>"
     },
     "metadata": {},
     "execution_count": 4
    }
   ],
   "source": [
    "df[\"latlong\"] = df[\"latitude\"].map(lambda x: str(round(x, 1))) + \", \" + df[\"longitude\"].map(lambda x: str(round(x, 1)))\n",
    "df"
   ]
  },
  {
   "cell_type": "code",
   "execution_count": 10,
   "metadata": {},
   "outputs": [
    {
     "output_type": "execute_result",
     "data": {
      "text/plain": "        latitude  longitude  brightness    acq_date  confidence  bright_t31  \\\n0       -15.8931   136.6094       324.4   1/01/2015          28       302.3   \n1       -14.9764   145.2801       320.6   1/01/2015          24       294.8   \n2       -18.5115   139.5995       331.8   1/01/2015          37       305.0   \n3       -17.1160   122.2857       315.7   1/01/2015           0       294.9   \n4       -18.0797   122.6967       313.7   1/01/2015          31       292.9   \n...          ...        ...         ...         ...         ...         ...   \n671877  -20.6312   119.8370       344.4  31/12/2017          81       322.3   \n671878  -16.7236   129.4765       327.4  31/12/2017          65       295.4   \n671895  -22.4574   134.5212       312.0  31/12/2017          84       297.2   \n671953  -18.3129   134.4838       304.4  31/12/2017          48       277.7   \n671984  -22.7955   117.0622       316.8  31/12/2017          78       293.5   \n\n        type       latlong  \n0          0  -15.9, 136.6  \n1          0  -15.0, 145.3  \n2          0  -18.5, 139.6  \n3          0  -17.1, 122.3  \n4          0  -18.1, 122.7  \n...      ...           ...  \n671877     0  -20.6, 119.8  \n671878     0  -16.7, 129.5  \n671895     0  -22.5, 134.5  \n671953     0  -18.3, 134.5  \n671984     0  -22.8, 117.1  \n\n[32002 rows x 8 columns]",
      "text/html": "<div>\n<style scoped>\n    .dataframe tbody tr th:only-of-type {\n        vertical-align: middle;\n    }\n\n    .dataframe tbody tr th {\n        vertical-align: top;\n    }\n\n    .dataframe thead th {\n        text-align: right;\n    }\n</style>\n<table border=\"1\" class=\"dataframe\">\n  <thead>\n    <tr style=\"text-align: right;\">\n      <th></th>\n      <th>latitude</th>\n      <th>longitude</th>\n      <th>brightness</th>\n      <th>acq_date</th>\n      <th>confidence</th>\n      <th>bright_t31</th>\n      <th>type</th>\n      <th>latlong</th>\n    </tr>\n  </thead>\n  <tbody>\n    <tr>\n      <th>0</th>\n      <td>-15.8931</td>\n      <td>136.6094</td>\n      <td>324.4</td>\n      <td>1/01/2015</td>\n      <td>28</td>\n      <td>302.3</td>\n      <td>0</td>\n      <td>-15.9, 136.6</td>\n    </tr>\n    <tr>\n      <th>1</th>\n      <td>-14.9764</td>\n      <td>145.2801</td>\n      <td>320.6</td>\n      <td>1/01/2015</td>\n      <td>24</td>\n      <td>294.8</td>\n      <td>0</td>\n      <td>-15.0, 145.3</td>\n    </tr>\n    <tr>\n      <th>2</th>\n      <td>-18.5115</td>\n      <td>139.5995</td>\n      <td>331.8</td>\n      <td>1/01/2015</td>\n      <td>37</td>\n      <td>305.0</td>\n      <td>0</td>\n      <td>-18.5, 139.6</td>\n    </tr>\n    <tr>\n      <th>3</th>\n      <td>-17.1160</td>\n      <td>122.2857</td>\n      <td>315.7</td>\n      <td>1/01/2015</td>\n      <td>0</td>\n      <td>294.9</td>\n      <td>0</td>\n      <td>-17.1, 122.3</td>\n    </tr>\n    <tr>\n      <th>4</th>\n      <td>-18.0797</td>\n      <td>122.6967</td>\n      <td>313.7</td>\n      <td>1/01/2015</td>\n      <td>31</td>\n      <td>292.9</td>\n      <td>0</td>\n      <td>-18.1, 122.7</td>\n    </tr>\n    <tr>\n      <th>...</th>\n      <td>...</td>\n      <td>...</td>\n      <td>...</td>\n      <td>...</td>\n      <td>...</td>\n      <td>...</td>\n      <td>...</td>\n      <td>...</td>\n    </tr>\n    <tr>\n      <th>671877</th>\n      <td>-20.6312</td>\n      <td>119.8370</td>\n      <td>344.4</td>\n      <td>31/12/2017</td>\n      <td>81</td>\n      <td>322.3</td>\n      <td>0</td>\n      <td>-20.6, 119.8</td>\n    </tr>\n    <tr>\n      <th>671878</th>\n      <td>-16.7236</td>\n      <td>129.4765</td>\n      <td>327.4</td>\n      <td>31/12/2017</td>\n      <td>65</td>\n      <td>295.4</td>\n      <td>0</td>\n      <td>-16.7, 129.5</td>\n    </tr>\n    <tr>\n      <th>671895</th>\n      <td>-22.4574</td>\n      <td>134.5212</td>\n      <td>312.0</td>\n      <td>31/12/2017</td>\n      <td>84</td>\n      <td>297.2</td>\n      <td>0</td>\n      <td>-22.5, 134.5</td>\n    </tr>\n    <tr>\n      <th>671953</th>\n      <td>-18.3129</td>\n      <td>134.4838</td>\n      <td>304.4</td>\n      <td>31/12/2017</td>\n      <td>48</td>\n      <td>277.7</td>\n      <td>0</td>\n      <td>-18.3, 134.5</td>\n    </tr>\n    <tr>\n      <th>671984</th>\n      <td>-22.7955</td>\n      <td>117.0622</td>\n      <td>316.8</td>\n      <td>31/12/2017</td>\n      <td>78</td>\n      <td>293.5</td>\n      <td>0</td>\n      <td>-22.8, 117.1</td>\n    </tr>\n  </tbody>\n</table>\n<p>32002 rows × 8 columns</p>\n</div>"
     },
     "metadata": {},
     "execution_count": 10
    }
   ],
   "source": [
    "df_no_dups = df.drop_duplicates(subset=['latlong'])\n",
    "df_no_dups = df_no_dups.dropna(subset=['latlong'])\n",
    "df_no_dups"
   ]
  },
  {
   "source": [
    "### Initializing the reverse geocoder"
   ],
   "cell_type": "markdown",
   "metadata": {}
  },
  {
   "cell_type": "code",
   "execution_count": 8,
   "metadata": {},
   "outputs": [],
   "source": [
    "locator = Nominatim(user_agent=\"myGeocoder\", timeout=10)\n",
    "rgeocode = RateLimiter(locator.geocode, min_delay_seconds=0.00001)"
   ]
  },
  {
   "source": [
    "\n",
    "### Perform the reverse geocoding"
   ],
   "cell_type": "markdown",
   "metadata": {}
  },
  {
   "cell_type": "code",
   "execution_count": 19,
   "metadata": {
    "tags": []
   },
   "outputs": [
    {
     "output_type": "error",
     "ename": "SyntaxError",
     "evalue": "invalid syntax (&lt;ipython-input-19-7078a769ee8a&gt;, line 1)",
     "traceback": [
      "\u001b[1;36m  File \u001b[1;32m&quot;&lt;ipython-input-19-7078a769ee8a&gt;&quot;\u001b[1;36m, line \u001b[1;32m1\u001b[0m\n\u001b[1;33m    for i in range()\u001b[0m\n\u001b[1;37m                    ^\u001b[0m\n\u001b[1;31mSyntaxError\u001b[0m\u001b[1;31m:\u001b[0m invalid syntax\n"
     ]
    }
   ],
   "source": [
    "print(\"HI\")\n",
    "print(rgeocode(\"Cobar, Australia\").raw)\n",
    "print(\"Done\")"
   ]
  },
  {
   "cell_type": "code",
   "execution_count": 8,
   "metadata": {},
   "outputs": [],
   "source": [
    "def get_city_name(x):\n",
    "    try:\n",
    "        address = rgeocode(x).raw[\"address\"]\n",
    "        # print(address)\n",
    "\n",
    "        if \"city\" in address:\n",
    "            return address['city']\n",
    "        # elif \"municipality\" in address:\n",
    "        #     return address['municipality']\n",
    "        # elif \"territory\" in address:\n",
    "        #     return address['territory']\n",
    "        # elif \"suburb\" in address:\n",
    "        #     return address['suburb']\n",
    "        else:\n",
    "            return None\n",
    "    except:\n",
    "        return None\n"
   ]
  },
  {
   "cell_type": "code",
   "execution_count": 11,
   "metadata": {
    "tags": [
     "outputPrepend"
    ]
   },
   "outputs": [
    {
     "output_type": "display_data",
     "data": {
      "text/plain": "HBox(children=(HTML(value=&#39;&#39;), FloatProgress(value=0.0, max=32002.0), HTML(value=&#39;&#39;)))",
      "application/vnd.jupyter.widget-view+json": {
       "version_major": 2,
       "version_minor": 0,
       "model_id": "b9a2a757026b459d8d9091f8b3e97843"
      }
     },
     "metadata": {}
    },
    {
     "output_type": "stream",
     "name": "stderr",
     "text": "request(&#39;GET&#39;, url, **kwargs)\n  File &quot;C:\\Users\\inos1\\anaconda3\\envs\\3.8.2\\lib\\site-packages\\requests\\sessions.py&quot;, line 530, in request\n    resp = self.send(prep, **send_kwargs)\n  File &quot;C:\\Users\\inos1\\anaconda3\\envs\\3.8.2\\lib\\site-packages\\requests\\sessions.py&quot;, line 643, in send\n    r = adapter.send(request, **kwargs)\n  File &quot;C:\\Users\\inos1\\anaconda3\\envs\\3.8.2\\lib\\site-packages\\requests\\adapters.py&quot;, line 516, in send\n    raise ConnectionError(e, request=request)\nrequests.exceptions.ConnectionError: HTTPSConnectionPool(host=&#39;nominatim.openstreetmap.org&#39;, port=443): Max retries exceeded with url: /reverse?lat=-32.0&amp;lon=116.0&amp;format=json&amp;addressdetails=1 (Caused by NewConnectionError(&#39;&lt;urllib3.connection.HTTPSConnection object at 0x00000164478B8FD0&gt;: Failed to establish a new connection: [Errno 11001] getaddrinfo failed&#39;))\n\nDuring handling of the above exception, another exception occurred:\n\nTraceback (most recent call last):\n  File &quot;C:\\Users\\inos1\\anaconda3\\envs\\3.8.2\\lib\\site-packages\\geopy\\extra\\rate_limiter.py&quot;, line 136, in _retries_gen\n    yield i  # Run the function.\n  File &quot;C:\\Users\\inos1\\anaconda3\\envs\\3.8.2\\lib\\site-packages\\geopy\\extra\\rate_limiter.py&quot;, line 274, in __call__\n    res = self.func(*args, **kwargs)\n  File &quot;C:\\Users\\inos1\\anaconda3\\envs\\3.8.2\\lib\\site-packages\\geopy\\geocoders\\nominatim.py&quot;, line 359, in reverse\n    return self._call_geocoder(url, callback, timeout=timeout)\n  File &quot;C:\\Users\\inos1\\anaconda3\\envs\\3.8.2\\lib\\site-packages\\geopy\\geocoders\\base.py&quot;, line 360, in _call_geocoder\n    result = self.adapter.get_json(url, timeout=timeout, headers=req_headers)\n  File &quot;C:\\Users\\inos1\\anaconda3\\envs\\3.8.2\\lib\\site-packages\\geopy\\adapters.py&quot;, line 373, in get_json\n    resp = self._request(url, timeout=timeout, headers=headers)\n  File &quot;C:\\Users\\inos1\\anaconda3\\envs\\3.8.2\\lib\\site-packages\\geopy\\adapters.py&quot;, line 395, in _request\n    raise GeocoderUnavailable(message)\ngeopy.exc.GeocoderUnavailable: HTTPSConnectionPool(host=&#39;nominatim.openstreetmap.org&#39;, port=443): Max retries exceeded with url: /reverse?lat=-32.0&amp;lon=116.0&amp;format=json&amp;addressdetails=1 (Caused by NewConnectionError(&#39;&lt;urllib3.connection.HTTPSConnection object at 0x00000164478B8FD0&gt;: Failed to establish a new connection: [Errno 11001] getaddrinfo failed&#39;))\nRateLimiter swallowed an error after 2 retries. Called with (*(&#39;-32.0, 116.0&#39;,), **{}).\nTraceback (most recent call last):\n  File &quot;C:\\Users\\inos1\\anaconda3\\envs\\3.8.2\\lib\\site-packages\\urllib3\\connection.py&quot;, line 159, in _new_conn\n    conn = connection.create_connection(\n  File &quot;C:\\Users\\inos1\\anaconda3\\envs\\3.8.2\\lib\\site-packages\\urllib3\\util\\connection.py&quot;, line 61, in create_connection\n    for res in socket.getaddrinfo(host, port, family, socket.SOCK_STREAM):\n  File &quot;C:\\Users\\inos1\\anaconda3\\envs\\3.8.2\\lib\\socket.py&quot;, line 918, in getaddrinfo\n    for res in _socket.getaddrinfo(host, port, family, type, proto, flags):\nsocket.gaierror: [Errno 11001] getaddrinfo failed\n\nDuring handling of the above exception, another exception occurred:\n\nTraceback (most recent call last):\n  File &quot;C:\\Users\\inos1\\anaconda3\\envs\\3.8.2\\lib\\site-packages\\urllib3\\connectionpool.py&quot;, line 670, in urlopen\n    httplib_response = self._make_request(\n  File &quot;C:\\Users\\inos1\\anaconda3\\envs\\3.8.2\\lib\\site-packages\\urllib3\\connectionpool.py&quot;, line 381, in _make_request\n    self._validate_conn(conn)\n  File &quot;C:\\Users\\inos1\\anaconda3\\envs\\3.8.2\\lib\\site-packages\\urllib3\\connectionpool.py&quot;, line 978, in _validate_conn\n    conn.connect()\n  File &quot;C:\\Users\\inos1\\anaconda3\\envs\\3.8.2\\lib\\site-packages\\urllib3\\connection.py&quot;, line 309, in connect\n    conn = self._new_conn()\n  File &quot;C:\\Users\\inos1\\anaconda3\\envs\\3.8.2\\lib\\site-packages\\urllib3\\connection.py&quot;, line 171, in _new_conn\n    raise NewConnectionError(\nurllib3.exceptions.NewConnectionError: &lt;urllib3.connection.HTTPSConnection object at 0x0000016447DDD7C0&gt;: Failed to establish a new connection: [Errno 11001] getaddrinfo failed\n\nDuring handling of the above exception, another exception occurred:\n\nTraceback (most recent call last):\n  File &quot;C:\\Users\\inos1\\anaconda3\\envs\\3.8.2\\lib\\site-packages\\requests\\adapters.py&quot;, line 439, in send\n    resp = conn.urlopen(\n  File &quot;C:\\Users\\inos1\\anaconda3\\envs\\3.8.2\\lib\\site-packages\\urllib3\\connectionpool.py&quot;, line 754, in urlopen\n    return self.urlopen(\n  File &quot;C:\\Users\\inos1\\anaconda3\\envs\\3.8.2\\lib\\site-packages\\urllib3\\connectionpool.py&quot;, line 754, in urlopen\n    return self.urlopen(\n  File &quot;C:\\Users\\inos1\\anaconda3\\envs\\3.8.2\\lib\\site-packages\\urllib3\\connectionpool.py&quot;, line 726, in urlopen\n    retries = retries.increment(\n  File &quot;C:\\Users\\inos1\\anaconda3\\envs\\3.8.2\\lib\\site-packages\\urllib3\\util\\retry.py&quot;, line 439, in increment\n    raise MaxRetryError(_pool, url, error or ResponseError(cause))\nurllib3.exceptions.MaxRetryError: HTTPSConnectionPool(host=&#39;nominatim.openstreetmap.org&#39;, port=443): Max retries exceeded with url: /reverse?lat=-32.0&amp;lon=116.0&amp;format=json&amp;addressdetails=1 (Caused by NewConnectionError(&#39;&lt;urllib3.connection.HTTPSConnection object at 0x0000016447DDD7C0&gt;: Failed to establish a new connection: [Errno 11001] getaddrinfo failed&#39;))\n\nDuring handling of the above exception, another exception occurred:\n\nTraceback (most recent call last):\n  File &quot;C:\\Users\\inos1\\anaconda3\\envs\\3.8.2\\lib\\site-packages\\geopy\\adapters.py&quot;, line 383, in _request\n    resp = self.session.get(url, timeout=timeout, headers=headers)\n  File &quot;C:\\Users\\inos1\\anaconda3\\envs\\3.8.2\\lib\\site-packages\\requests\\sessions.py&quot;, line 543, in get\n    return self.request(&#39;GET&#39;, url, **kwargs)\n  File &quot;C:\\Users\\inos1\\anaconda3\\envs\\3.8.2\\lib\\site-packages\\requests\\sessions.py&quot;, line 530, in request\n    resp = self.send(prep, **send_kwargs)\n  File &quot;C:\\Users\\inos1\\anaconda3\\envs\\3.8.2\\lib\\site-packages\\requests\\sessions.py&quot;, line 643, in send\n    r = adapter.send(request, **kwargs)\n  File &quot;C:\\Users\\inos1\\anaconda3\\envs\\3.8.2\\lib\\site-packages\\requests\\adapters.py&quot;, line 516, in send\n    raise ConnectionError(e, request=request)\nrequests.exceptions.ConnectionError: HTTPSConnectionPool(host=&#39;nominatim.openstreetmap.org&#39;, port=443): Max retries exceeded with url: /reverse?lat=-32.0&amp;lon=116.0&amp;format=json&amp;addressdetails=1 (Caused by NewConnectionError(&#39;&lt;urllib3.connection.HTTPSConnection object at 0x0000016447DDD7C0&gt;: Failed to establish a new connection: [Errno 11001] getaddrinfo failed&#39;))\n\nDuring handling of the above exception, another exception occurred:\n\nTraceback (most recent call last):\n  File &quot;C:\\Users\\inos1\\anaconda3\\envs\\3.8.2\\lib\\site-packages\\geopy\\extra\\rate_limiter.py&quot;, line 274, in __call__\n    res = self.func(*args, **kwargs)\n  File &quot;C:\\Users\\inos1\\anaconda3\\envs\\3.8.2\\lib\\site-packages\\geopy\\geocoders\\nominatim.py&quot;, line 359, in reverse\n    return self._call_geocoder(url, callback, timeout=timeout)\n  File &quot;C:\\Users\\inos1\\anaconda3\\envs\\3.8.2\\lib\\site-packages\\geopy\\geocoders\\base.py&quot;, line 360, in _call_geocoder\n    result = self.adapter.get_json(url, timeout=timeout, headers=req_headers)\n  File &quot;C:\\Users\\inos1\\anaconda3\\envs\\3.8.2\\lib\\site-packages\\geopy\\adapters.py&quot;, line 373, in get_json\n    resp = self._request(url, timeout=timeout, headers=headers)\n  File &quot;C:\\Users\\inos1\\anaconda3\\envs\\3.8.2\\lib\\site-packages\\geopy\\adapters.py&quot;, line 395, in _request\n    raise GeocoderUnavailable(message)\ngeopy.exc.GeocoderUnavailable: HTTPSConnectionPool(host=&#39;nominatim.openstreetmap.org&#39;, port=443): Max retries exceeded with url: /reverse?lat=-32.0&amp;lon=116.0&amp;format=json&amp;addressdetails=1 (Caused by NewConnectionError(&#39;&lt;urllib3.connection.HTTPSConnection object at 0x0000016447DDD7C0&gt;: Failed to establish a new connection: [Errno 11001] getaddrinfo failed&#39;))\nRateLimiter caught an error, retrying (0/2 tries). Called with (*(&#39;-27.5, 149.1&#39;,), **{}).\nTraceback (most recent call last):\n  File &quot;C:\\Users\\inos1\\anaconda3\\envs\\3.8.2\\lib\\site-packages\\urllib3\\connection.py&quot;, line 159, in _new_conn\n    conn = connection.create_connection(\n  File &quot;C:\\Users\\inos1\\anaconda3\\envs\\3.8.2\\lib\\site-packages\\urllib3\\util\\connection.py&quot;, line 61, in create_connection\n    for res in socket.getaddrinfo(host, port, family, socket.SOCK_STREAM):\n  File &quot;C:\\Users\\inos1\\anaconda3\\envs\\3.8.2\\lib\\socket.py&quot;, line 918, in getaddrinfo\n    for res in _socket.getaddrinfo(host, port, family, type, proto, flags):\nsocket.gaierror: [Errno 11001] getaddrinfo failed\n\nDuring handling of the above exception, another exception occurred:\n\nTraceback (most recent call last):\n  File &quot;C:\\Users\\inos1\\anaconda3\\envs\\3.8.2\\lib\\site-packages\\urllib3\\connectionpool.py&quot;, line 670, in urlopen\n    httplib_response = self._make_request(\n  File &quot;C:\\Users\\inos1\\anaconda3\\envs\\3.8.2\\lib\\site-packages\\urllib3\\connectionpool.py&quot;, line 381, in _make_request\n    self._validate_conn(conn)\n  File &quot;C:\\Users\\inos1\\anaconda3\\envs\\3.8.2\\lib\\site-packages\\urllib3\\connectionpool.py&quot;, line 978, in _validate_conn\n    conn.connect()\n  File &quot;C:\\Users\\inos1\\anaconda3\\envs\\3.8.2\\lib\\site-packages\\urllib3\\connection.py&quot;, line 309, in connect\n    conn = self._new_conn()\n  File &quot;C:\\Users\\inos1\\anaconda3\\envs\\3.8.2\\lib\\site-packages\\urllib3\\connection.py&quot;, line 171, in _new_conn\n    raise NewConnectionError(\nurllib3.exceptions.NewConnectionError: &lt;urllib3.connection.HTTPSConnection object at 0x0000016447DD00D0&gt;: Failed to establish a new connection: [Errno 11001] getaddrinfo failed\n\nDuring handling of the above exception, another exception occurred:\n\nTraceback (most recent call last):\n  File &quot;C:\\Users\\inos1\\anaconda3\\envs\\3.8.2\\lib\\site-packages\\requests\\adapters.py&quot;, line 439, in send\n    resp = conn.urlopen(\n  File &quot;C:\\Users\\inos1\\anaconda3\\envs\\3.8.2\\lib\\site-packages\\urllib3\\connectionpool.py&quot;, line 754, in urlopen\n    return self.urlopen(\n  File &quot;C:\\Users\\inos1\\anaconda3\\envs\\3.8.2\\lib\\site-packages\\urllib3\\connectionpool.py&quot;, line 754, in urlopen\n    return self.urlopen(\n  File &quot;C:\\Users\\inos1\\anaconda3\\envs\\3.8.2\\lib\\site-packages\\urllib3\\connectionpool.py&quot;, line 726, in urlopen\n    retries = retries.increment(\n  File &quot;C:\\Users\\inos1\\anaconda3\\envs\\3.8.2\\lib\\site-packages\\urllib3\\util\\retry.py&quot;, line 439, in increment\n    raise MaxRetryError(_pool, url, error or ResponseError(cause))\nurllib3.exceptions.MaxRetryError: HTTPSConnectionPool(host=&#39;nominatim.openstreetmap.org&#39;, port=443): Max retries exceeded with url: /reverse?lat=-27.5&amp;lon=149.1&amp;format=json&amp;addressdetails=1 (Caused by NewConnectionError(&#39;&lt;urllib3.connection.HTTPSConnection object at 0x0000016447DD00D0&gt;: Failed to establish a new connection: [Errno 11001] getaddrinfo failed&#39;))\n\nDuring handling of the above exception, another exception occurred:\n\nTraceback (most recent call last):\n  File &quot;C:\\Users\\inos1\\anaconda3\\envs\\3.8.2\\lib\\site-packages\\geopy\\adapters.py&quot;, line 383, in _request\n    resp = self.session.get(url, timeout=timeout, headers=headers)\n  File &quot;C:\\Users\\inos1\\anaconda3\\envs\\3.8.2\\lib\\site-packages\\requests\\sessions.py&quot;, line 543, in get\n    return self.request(&#39;GET&#39;, url, **kwargs)\n  File &quot;C:\\Users\\inos1\\anaconda3\\envs\\3.8.2\\lib\\site-packages\\requests\\sessions.py&quot;, line 530, in request\n    resp = self.send(prep, **send_kwargs)\n  File &quot;C:\\Users\\inos1\\anaconda3\\envs\\3.8.2\\lib\\site-packages\\requests\\sessions.py&quot;, line 643, in send\n    r = adapter.send(request, **kwargs)\n  File &quot;C:\\Users\\inos1\\anaconda3\\envs\\3.8.2\\lib\\site-packages\\requests\\adapters.py&quot;, line 516, in send\n    raise ConnectionError(e, request=request)\nrequests.exceptions.ConnectionError: HTTPSConnectionPool(host=&#39;nominatim.openstreetmap.org&#39;, port=443): Max retries exceeded with url: /reverse?lat=-27.5&amp;lon=149.1&amp;format=json&amp;addressdetails=1 (Caused by NewConnectionError(&#39;&lt;urllib3.connection.HTTPSConnection object at 0x0000016447DD00D0&gt;: Failed to establish a new connection: [Errno 11001] getaddrinfo failed&#39;))\n\nDuring handling of the above exception, another exception occurred:\n\nTraceback (most recent call last):\n  File &quot;C:\\Users\\inos1\\anaconda3\\envs\\3.8.2\\lib\\site-packages\\geopy\\extra\\rate_limiter.py&quot;, line 136, in _retries_gen\n    yield i  # Run the function.\n  File &quot;C:\\Users\\inos1\\anaconda3\\envs\\3.8.2\\lib\\site-packages\\geopy\\extra\\rate_limiter.py&quot;, line 274, in __call__\n    res = self.func(*args, **kwargs)\n  File &quot;C:\\Users\\inos1\\anaconda3\\envs\\3.8.2\\lib\\site-packages\\geopy\\geocoders\\nominatim.py&quot;, line 359, in reverse\n    return self._call_geocoder(url, callback, timeout=timeout)\n  File &quot;C:\\Users\\inos1\\anaconda3\\envs\\3.8.2\\lib\\site-packages\\geopy\\geocoders\\base.py&quot;, line 360, in _call_geocoder\n    result = self.adapter.get_json(url, timeout=timeout, headers=req_headers)\n  File &quot;C:\\Users\\inos1\\anaconda3\\envs\\3.8.2\\lib\\site-packages\\geopy\\adapters.py&quot;, line 373, in get_json\n    resp = self._request(url, timeout=timeout, headers=headers)\n  File &quot;C:\\Users\\inos1\\anaconda3\\envs\\3.8.2\\lib\\site-packages\\geopy\\adapters.py&quot;, line 395, in _request\n    raise GeocoderUnavailable(message)\ngeopy.exc.GeocoderUnavailable: HTTPSConnectionPool(host=&#39;nominatim.openstreetmap.org&#39;, port=443): Max retries exceeded with url: /reverse?lat=-27.5&amp;lon=149.1&amp;format=json&amp;addressdetails=1 (Caused by NewConnectionError(&#39;&lt;urllib3.connection.HTTPSConnection object at 0x0000016447DD00D0&gt;: Failed to establish a new connection: [Errno 11001] getaddrinfo failed&#39;))\nRateLimiter caught an error, retrying (1/2 tries). Called with (*(&#39;-27.5, 149.1&#39;,), **{}).\nTraceback (most recent call last):\n  File &quot;C:\\Users\\inos1\\anaconda3\\envs\\3.8.2\\lib\\site-packages\\urllib3\\connection.py&quot;, line 159, in _new_conn\n    conn = connection.create_connection(\n  File &quot;C:\\Users\\inos1\\anaconda3\\envs\\3.8.2\\lib\\site-packages\\urllib3\\util\\connection.py&quot;, line 61, in create_connection\n    for res in socket.getaddrinfo(host, port, family, socket.SOCK_STREAM):\n  File &quot;C:\\Users\\inos1\\anaconda3\\envs\\3.8.2\\lib\\socket.py&quot;, line 918, in getaddrinfo\n    for res in _socket.getaddrinfo(host, port, family, type, proto, flags):\nsocket.gaierror: [Errno 11001] getaddrinfo failed\n\nDuring handling of the above exception, another exception occurred:\n\nTraceback (most recent call last):\n  File &quot;C:\\Users\\inos1\\anaconda3\\envs\\3.8.2\\lib\\site-packages\\urllib3\\connectionpool.py&quot;, line 670, in urlopen\n    httplib_response = self._make_request(\n  File &quot;C:\\Users\\inos1\\anaconda3\\envs\\3.8.2\\lib\\site-packages\\urllib3\\connectionpool.py&quot;, line 381, in _make_request\n    self._validate_conn(conn)\n  File &quot;C:\\Users\\inos1\\anaconda3\\envs\\3.8.2\\lib\\site-packages\\urllib3\\connectionpool.py&quot;, line 978, in _validate_conn\n    conn.connect()\n  File &quot;C:\\Users\\inos1\\anaconda3\\envs\\3.8.2\\lib\\site-packages\\urllib3\\connection.py&quot;, line 309, in connect\n    conn = self._new_conn()\n  File &quot;C:\\Users\\inos1\\anaconda3\\envs\\3.8.2\\lib\\site-packages\\urllib3\\connection.py&quot;, line 171, in _new_conn\n    raise NewConnectionError(\nurllib3.exceptions.NewConnectionError: &lt;urllib3.connection.HTTPSConnection object at 0x0000016447DD0610&gt;: Failed to establish a new connection: [Errno 11001] getaddrinfo failed\n\nDuring handling of the above exception, another exception occurred:\n\nTraceback (most recent call last):\n  File &quot;C:\\Users\\inos1\\anaconda3\\envs\\3.8.2\\lib\\site-packages\\requests\\adapters.py&quot;, line 439, in send\n    resp = conn.urlopen(\n  File &quot;C:\\Users\\inos1\\anaconda3\\envs\\3.8.2\\lib\\site-packages\\urllib3\\connectionpool.py&quot;, line 754, in urlopen\n    return self.urlopen(\n  File &quot;C:\\Users\\inos1\\anaconda3\\envs\\3.8.2\\lib\\site-packages\\urllib3\\connectionpool.py&quot;, line 754, in urlopen\n    return self.urlopen(\n  File &quot;C:\\Users\\inos1\\anaconda3\\envs\\3.8.2\\lib\\site-packages\\urllib3\\connectionpool.py&quot;, line 726, in urlopen\n    retries = retries.increment(\n  File &quot;C:\\Users\\inos1\\anaconda3\\envs\\3.8.2\\lib\\site-packages\\urllib3\\util\\retry.py&quot;, line 439, in increment\n    raise MaxRetryError(_pool, url, error or ResponseError(cause))\nurllib3.exceptions.MaxRetryError: HTTPSConnectionPool(host=&#39;nominatim.openstreetmap.org&#39;, port=443): Max retries exceeded with url: /reverse?lat=-27.5&amp;lon=149.1&amp;format=json&amp;addressdetails=1 (Caused by NewConnectionError(&#39;&lt;urllib3.connection.HTTPSConnection object at 0x0000016447DD0610&gt;: Failed to establish a new connection: [Errno 11001] getaddrinfo failed&#39;))\n\nDuring handling of the above exception, another exception occurred:\n\nTraceback (most recent call last):\n  File &quot;C:\\Users\\inos1\\anaconda3\\envs\\3.8.2\\lib\\site-packages\\geopy\\adapters.py&quot;, line 383, in _request\n    resp = self.session.get(url, timeout=timeout, headers=headers)\n  File &quot;C:\\Users\\inos1\\anaconda3\\envs\\3.8.2\\lib\\site-packages\\requests\\sessions.py&quot;, line 543, in get\n    return self.request(&#39;GET&#39;, url, **kwargs)\n  File &quot;C:\\Users\\inos1\\anaconda3\\envs\\3.8.2\\lib\\site-packages\\requests\\sessions.py&quot;, line 530, in request\n    resp = self.send(prep, **send_kwargs)\n  File &quot;C:\\Users\\inos1\\anaconda3\\envs\\3.8.2\\lib\\site-packages\\requests\\sessions.py&quot;, line 643, in send\n    r = adapter.send(request, **kwargs)\n  File &quot;C:\\Users\\inos1\\anaconda3\\envs\\3.8.2\\lib\\site-packages\\requests\\adapters.py&quot;, line 516, in send\n    raise ConnectionError(e, request=request)\nrequests.exceptions.ConnectionError: HTTPSConnectionPool(host=&#39;nominatim.openstreetmap.org&#39;, port=443): Max retries exceeded with url: /reverse?lat=-27.5&amp;lon=149.1&amp;format=json&amp;addressdetails=1 (Caused by NewConnectionError(&#39;&lt;urllib3.connection.HTTPSConnection object at 0x0000016447DD0610&gt;: Failed to establish a new connection: [Errno 11001] getaddrinfo failed&#39;))\n\nDuring handling of the above exception, another exception occurred:\n\nTraceback (most recent call last):\n  File &quot;C:\\Users\\inos1\\anaconda3\\envs\\3.8.2\\lib\\site-packages\\geopy\\extra\\rate_limiter.py&quot;, line 136, in _retries_gen\n    yield i  # Run the function.\n  File &quot;C:\\Users\\inos1\\anaconda3\\envs\\3.8.2\\lib\\site-packages\\geopy\\extra\\rate_limiter.py&quot;, line 274, in __call__\n    res = self.func(*args, **kwargs)\n  File &quot;C:\\Users\\inos1\\anaconda3\\envs\\3.8.2\\lib\\site-packages\\geopy\\geocoders\\nominatim.py&quot;, line 359, in reverse\n    return self._call_geocoder(url, callback, timeout=timeout)\n  File &quot;C:\\Users\\inos1\\anaconda3\\envs\\3.8.2\\lib\\site-packages\\geopy\\geocoders\\base.py&quot;, line 360, in _call_geocoder\n    result = self.adapter.get_json(url, timeout=timeout, headers=req_headers)\n  File &quot;C:\\Users\\inos1\\anaconda3\\envs\\3.8.2\\lib\\site-packages\\geopy\\adapters.py&quot;, line 373, in get_json\n    resp = self._request(url, timeout=timeout, headers=headers)\n  File &quot;C:\\Users\\inos1\\anaconda3\\envs\\3.8.2\\lib\\site-packages\\geopy\\adapters.py&quot;, line 395, in _request\n    raise GeocoderUnavailable(message)\ngeopy.exc.GeocoderUnavailable: HTTPSConnectionPool(host=&#39;nominatim.openstreetmap.org&#39;, port=443): Max retries exceeded with url: /reverse?lat=-27.5&amp;lon=149.1&amp;format=json&amp;addressdetails=1 (Caused by NewConnectionError(&#39;&lt;urllib3.connection.HTTPSConnection object at 0x0000016447DD0610&gt;: Failed to establish a new connection: [Errno 11001] getaddrinfo failed&#39;))\n"
    }
   ],
   "source": [
    "tqdm_notebook.pandas()\n",
    "\n",
    "df_small = df_no_dups\n",
    "df_small['city'] = df_small['latlong'].progress_apply(get_city_name)\n",
    "df_small"
   ]
  },
  {
   "cell_type": "code",
   "execution_count": 8,
   "metadata": {},
   "outputs": [
    {
     "output_type": "execute_result",
     "data": {
      "text/plain": "        latitude  longitude       latlong                city\n0       -15.8931   136.6094  -16.0, 137.0  Northern Territory\n1       -14.9764   145.2801  -15.0, 145.0          Cook Shire\n2       -18.5115   139.5995  -19.0, 140.0     Cloncurry Shire\n3       -17.1160   122.2857  -17.0, 122.0                None\n4       -18.0797   122.6967  -18.0, 123.0     Shire Of Broome\n...          ...        ...           ...                 ...\n649310  -25.4759   140.2284  -25.0, 140.0    Diamantina Shire\n659932  -30.2649   126.1103  -30.0, 126.0    Shire Of Menzies\n661346  -29.4988   131.4937  -29.0, 131.0                None\n661351  -30.1732   132.5465  -30.0, 133.0                None\n662369  -30.1618   132.4649  -30.0, 132.0                None\n\n[728 rows x 4 columns]",
      "text/html": "<div>\n<style scoped>\n    .dataframe tbody tr th:only-of-type {\n        vertical-align: middle;\n    }\n\n    .dataframe tbody tr th {\n        vertical-align: top;\n    }\n\n    .dataframe thead th {\n        text-align: right;\n    }\n</style>\n<table border=\"1\" class=\"dataframe\">\n  <thead>\n    <tr style=\"text-align: right;\">\n      <th></th>\n      <th>latitude</th>\n      <th>longitude</th>\n      <th>latlong</th>\n      <th>city</th>\n    </tr>\n  </thead>\n  <tbody>\n    <tr>\n      <th>0</th>\n      <td>-15.8931</td>\n      <td>136.6094</td>\n      <td>-16.0, 137.0</td>\n      <td>Northern Territory</td>\n    </tr>\n    <tr>\n      <th>1</th>\n      <td>-14.9764</td>\n      <td>145.2801</td>\n      <td>-15.0, 145.0</td>\n      <td>Cook Shire</td>\n    </tr>\n    <tr>\n      <th>2</th>\n      <td>-18.5115</td>\n      <td>139.5995</td>\n      <td>-19.0, 140.0</td>\n      <td>Cloncurry Shire</td>\n    </tr>\n    <tr>\n      <th>3</th>\n      <td>-17.1160</td>\n      <td>122.2857</td>\n      <td>-17.0, 122.0</td>\n      <td>None</td>\n    </tr>\n    <tr>\n      <th>4</th>\n      <td>-18.0797</td>\n      <td>122.6967</td>\n      <td>-18.0, 123.0</td>\n      <td>Shire Of Broome</td>\n    </tr>\n    <tr>\n      <th>...</th>\n      <td>...</td>\n      <td>...</td>\n      <td>...</td>\n      <td>...</td>\n    </tr>\n    <tr>\n      <th>649310</th>\n      <td>-25.4759</td>\n      <td>140.2284</td>\n      <td>-25.0, 140.0</td>\n      <td>Diamantina Shire</td>\n    </tr>\n    <tr>\n      <th>659932</th>\n      <td>-30.2649</td>\n      <td>126.1103</td>\n      <td>-30.0, 126.0</td>\n      <td>Shire Of Menzies</td>\n    </tr>\n    <tr>\n      <th>661346</th>\n      <td>-29.4988</td>\n      <td>131.4937</td>\n      <td>-29.0, 131.0</td>\n      <td>None</td>\n    </tr>\n    <tr>\n      <th>661351</th>\n      <td>-30.1732</td>\n      <td>132.5465</td>\n      <td>-30.0, 133.0</td>\n      <td>None</td>\n    </tr>\n    <tr>\n      <th>662369</th>\n      <td>-30.1618</td>\n      <td>132.4649</td>\n      <td>-30.0, 132.0</td>\n      <td>None</td>\n    </tr>\n  </tbody>\n</table>\n<p>728 rows × 4 columns</p>\n</div>"
     },
     "metadata": {},
     "execution_count": 8
    }
   ],
   "source": [
    "df_latlong_city_map = df_small.drop(columns=[\"brightness\", \"acq_date\", \"confidence\", \"bright_t31\", \"type\"])\n",
    "df_latlong_city_map"
   ]
  },
  {
   "cell_type": "code",
   "execution_count": 10,
   "metadata": {},
   "outputs": [],
   "source": [
    "df_latlong_city_map.to_csv(\"../data/map_latlong_city.csv\")"
   ]
  },
  {
   "cell_type": "code",
   "execution_count": null,
   "metadata": {},
   "outputs": [],
   "source": []
  }
 ]
}